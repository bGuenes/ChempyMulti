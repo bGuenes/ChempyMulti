{
 "cells": [
  {
   "cell_type": "markdown",
   "metadata": {},
   "source": [
    "## Chempy\n",
    "we will now introduce the Chempy function which will calculate the chemical evolution of a one-zone open box model"
   ]
  },
  {
   "cell_type": "code",
   "execution_count": 1,
   "metadata": {
    "collapsed": false
   },
   "outputs": [
    {
     "name": "stdout",
     "output_type": "stream",
     "text": [
      "Populating the interactive namespace from numpy and matplotlib\n"
     ]
    }
   ],
   "source": [
    "%pylab inline"
   ]
  },
  {
   "cell_type": "code",
   "execution_count": 2,
   "metadata": {
    "collapsed": false
   },
   "outputs": [
    {
     "name": "stdout",
     "output_type": "stream",
     "text": [
      "/home/jan/Arbeitsfläche/Chempy_git/source\n"
     ]
    }
   ],
   "source": [
    "cd ../source/"
   ]
  },
  {
   "cell_type": "code",
   "execution_count": 3,
   "metadata": {
    "collapsed": true
   },
   "outputs": [],
   "source": [
    "from parameter import ModelParameters\n",
    "a = ModelParameters()\n",
    "elements_to_trace = ['Al', 'Ar', 'B', 'Be', 'C', 'Ca', 'Cl', 'Co', 'Cr', 'Cu', 'F', 'Fe', 'Ga', 'Ge', 'H', 'He', 'K', 'Li', 'Mg', 'Mn', 'N', 'Na', 'Ne', 'Ni', 'O', 'P', 'S', 'Sc', 'Si', 'Ti', 'V', 'Zn']\n",
    "from solar_abundance import solar_abundances\n",
    "basic_solar = solar_abundances()\n",
    "getattr(basic_solar, 'Asplund09')()\n",
    "time_steps = np.linspace(0.,13.5,541)\n",
    "solar_fractions = []\n",
    "elements = np.hstack(basic_solar.all_elements)\n",
    "for item in elements_to_trace:\n",
    "    solar_fractions.append(float(basic_solar.fractions[np.where(elements==item)]))"
   ]
  },
  {
   "cell_type": "code",
   "execution_count": 7,
   "metadata": {
    "collapsed": false
   },
   "outputs": [
    {
     "name": "stdout",
     "output_type": "stream",
     "text": [
      "<type 'list'>\n",
      "<type 'list'>\n"
     ]
    }
   ],
   "source": [
    "from wrapper import SSP_wrap\n",
    "a.only_net_yields_in_process_tables\n",
    "basic_ssp = SSP_wrap(a)\n",
    "basic_ssp.calculate_feedback(float(basic_solar.z),list(elements_to_trace),list(solar_fractions),np.copy(time_steps))"
   ]
  },
  {
   "cell_type": "code",
   "execution_count": 8,
   "metadata": {
    "collapsed": false
   },
   "outputs": [
    {
     "name": "stdout",
     "output_type": "stream",
     "text": [
      "default yield set\n",
      "Element, total SSP yield, CC-SN yield ([X/Fe] i.e. normalised to solar)\n",
      "C [-0.22007463] [-0.05200893]\n",
      "O [ 0.08185086] [ 0.49756696]\n",
      "Mg [-0.06191633] [ 0.31208175]\n",
      "Ca [-0.06515504] [ 0.1747893]\n",
      "Mn [ 0.14625659] [-0.35397163]\n",
      "Ni [ 0.14391628] [-0.03215067]\n"
     ]
    }
   ],
   "source": [
    "normalising_element = 'Fe'\n",
    "print 'default yield set'\n",
    "print 'Element, total SSP yield, CC-SN yield ([X/Fe] i.e. normalised to solar)'\n",
    "for element in ['C', 'O', 'Mg', 'Ca', 'Mn', 'Ni']:\n",
    "    element_ssp_sn2 = sum(basic_ssp.sn2_table[element])\n",
    "    element_ssp = sum(basic_ssp.table[element])\n",
    "    element_sun = basic_solar.fractions[np.where(elements == element)]\n",
    "    normalising_element_ssp_sn2 = sum(basic_ssp.sn2_table[normalising_element])\n",
    "    normalising_element_ssp = sum(basic_ssp.table[normalising_element])\n",
    "    normalising_element_sun = basic_solar.fractions[np.where(elements == normalising_element)]\n",
    "    print element, np.log10(element_ssp/element_sun)-np.log10(normalising_element_ssp/normalising_element_sun), np.log10(element_ssp_sn2/element_sun)-np.log10(normalising_element_ssp_sn2/normalising_element_sun)"
   ]
  },
  {
   "cell_type": "code",
   "execution_count": null,
   "metadata": {
    "collapsed": true
   },
   "outputs": [],
   "source": []
  }
 ],
 "metadata": {
  "kernelspec": {
   "display_name": "Python 2",
   "language": "python",
   "name": "python2"
  },
  "language_info": {
   "codemirror_mode": {
    "name": "ipython",
    "version": 2
   },
   "file_extension": ".py",
   "mimetype": "text/x-python",
   "name": "python",
   "nbconvert_exporter": "python",
   "pygments_lexer": "ipython2",
   "version": "2.7.12"
  }
 },
 "nbformat": 4,
 "nbformat_minor": 0
}
