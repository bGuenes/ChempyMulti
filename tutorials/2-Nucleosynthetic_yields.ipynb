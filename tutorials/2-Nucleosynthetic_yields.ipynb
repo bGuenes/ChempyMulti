{
 "cells": [
  {
   "cell_type": "markdown",
   "metadata": {},
   "source": [
    "## Nucleosynthetic yields\n",
    "These are key to every chemical evolution model. Chempy supports three nucleosynthetic channels at the moment:\n",
    "- Core-Collapse Supernova (CC-SN)\n",
    "- Supernova of type Ia (SN Ia)\n",
    "- Winds from Asymptotic Giant Branch phase of stars (AGB)"
   ]
  },
  {
   "cell_type": "code",
   "execution_count": 1,
   "metadata": {
    "collapsed": false
   },
   "outputs": [
    {
     "name": "stdout",
     "output_type": "stream",
     "text": [
      "Populating the interactive namespace from numpy and matplotlib\n"
     ]
    }
   ],
   "source": [
    "%pylab inline"
   ]
  },
  {
   "cell_type": "code",
   "execution_count": 3,
   "metadata": {
    "collapsed": false
   },
   "outputs": [],
   "source": [
    "from Chempy.parameter import ModelParameters\n",
    "from Chempy.yields import SN2_feedback, AGB_feedback, SN1a_feedback, Hypernova_feedback"
   ]
  },
  {
   "cell_type": "code",
   "execution_count": 4,
   "metadata": {
    "collapsed": true
   },
   "outputs": [],
   "source": [
    " # This loads the default parameters, you can check and change them in paramter.py\n",
    "\n",
    "a = ModelParameters()"
   ]
  },
  {
   "cell_type": "code",
   "execution_count": 5,
   "metadata": {
    "collapsed": false
   },
   "outputs": [
    {
     "data": {
      "text/plain": [
       "['Iwamoto', 'Thielemann', 'Seitenzahl']"
      ]
     },
     "execution_count": 5,
     "metadata": {},
     "output_type": "execute_result"
    }
   ],
   "source": [
    "# Implemented SN Ia yield tables\n",
    "\n",
    "a.yield_table_name_1a_list "
   ]
  },
  {
   "cell_type": "code",
   "execution_count": 6,
   "metadata": {
    "collapsed": false
   },
   "outputs": [
    {
     "data": {
      "text/plain": [
       "['Karakas', 'Nugrid', 'Karakas_net_yield', 'Ventura', 'Karakas16_net']"
      ]
     },
     "execution_count": 6,
     "metadata": {},
     "output_type": "execute_result"
    }
   ],
   "source": [
    "# AGB yields implemented\n",
    "\n",
    "a.yield_table_name_agb_list "
   ]
  },
  {
   "cell_type": "code",
   "execution_count": 7,
   "metadata": {
    "collapsed": false
   },
   "outputs": [
    {
     "data": {
      "text/plain": [
       "['chieffi04', 'Nugrid', 'Nomoto2013', 'Portinari']"
      ]
     },
     "execution_count": 7,
     "metadata": {},
     "output_type": "execute_result"
    }
   ],
   "source": [
    "# CC-SN yields implemented\n",
    "\n",
    "a.yield_table_name_sn2_list "
   ]
  },
  {
   "cell_type": "code",
   "execution_count": 8,
   "metadata": {
    "collapsed": false
   },
   "outputs": [
    {
     "data": {
      "text/plain": [
       "['Nomoto2013']"
      ]
     },
     "execution_count": 8,
     "metadata": {},
     "output_type": "execute_result"
    }
   ],
   "source": [
    "# Hypernova yields (is mixed with Nomoto2013 CC-SN yields for stars more massive than 25Msun)\n",
    "\n",
    "a.yield_table_name_hn_list "
   ]
  },
  {
   "cell_type": "code",
   "execution_count": 9,
   "metadata": {
    "collapsed": false
   },
   "outputs": [
    {
     "name": "stdout",
     "output_type": "stream",
     "text": [
      "Available CC-SN yield parameter range\n",
      "----------------------------------\n",
      "yield table name:  chieffi04\n",
      "provided masses:  [13, 15, 20, 25, 30, 35]\n",
      "provided metallicities [  0.00000000e+00   1.00000000e-06   1.00000000e-04   1.00000000e-03\n",
      "   6.00000000e-03   2.00000000e-02]\n",
      "----------------------------------\n",
      "yield table name:  Nugrid\n",
      "provided masses:  [15 20 25 32 60]\n",
      "provided metallicities [0.02, 0.01]\n",
      "----------------------------------\n",
      "yield table name:  Nomoto2013\n",
      "provided masses:  [13 15 18 20 25 30 40]\n",
      "provided metallicities [0.05, 0.02, 0.008, 0.004, 0.001]\n",
      "----------------------------------\n",
      "yield table name:  Portinari\n",
      "provided masses:  [6.0, 7.0, 9.0, 12.0, 15.0, 20.0, 30.0, 40.0, 60.0, 100.0, 120.0]\n",
      "provided metallicities [0.0004, 0.004, 0.008, 0.02, 0.05]\n"
     ]
    }
   ],
   "source": [
    "# Here we show the available mass and metallicity range for each yield set\n",
    "\n",
    "# First for CC-SNe\n",
    "\n",
    "print('Available CC-SN yield parameter range')\n",
    "for item in a.yield_table_name_sn2_list:\n",
    "    basic_sn2 = SN2_feedback()\n",
    "    getattr(basic_sn2, item)()\n",
    "    print('----------------------------------')\n",
    "    print('yield table name: ',item)\n",
    "    print('provided masses: ', basic_sn2.masses)\n",
    "    print('provided metallicities',basic_sn2.metallicities)\n",
    "    "
   ]
  },
  {
   "cell_type": "markdown",
   "metadata": {},
   "source": [
    "Hyper Nova (HN) is only provided for Nomoto 2013 CC-SN yields and it is mixed 50/50 with it for stars with mass >= 25 Msun\n"
   ]
  },
  {
   "cell_type": "code",
   "execution_count": 10,
   "metadata": {
    "collapsed": false
   },
   "outputs": [
    {
     "name": "stdout",
     "output_type": "stream",
     "text": [
      "Available HN yield parameter range\n",
      "----------------------------------\n",
      "yield table name:  Nomoto2013\n",
      "provided masses:  [20 25 30 40]\n",
      "provided metallicities [0.05, 0.02, 0.008, 0.004, 0.001]\n"
     ]
    }
   ],
   "source": [
    "# Then for Hypernovae\n",
    "\n",
    "print('Available HN yield parameter range')\n",
    "for item in a.yield_table_name_hn_list:\n",
    "    basic_hn = Hypernova_feedback()\n",
    "    getattr(basic_hn, item)()\n",
    "    print('----------------------------------')\n",
    "    print('yield table name: ',item)\n",
    "    print('provided masses: ', basic_hn.masses)\n",
    "    print('provided metallicities',basic_hn.metallicities)"
   ]
  },
  {
   "cell_type": "code",
   "execution_count": 11,
   "metadata": {
    "collapsed": false
   },
   "outputs": [
    {
     "name": "stdout",
     "output_type": "stream",
     "text": [
      "Available AGB yield parameter range\n",
      "----------------------------------\n",
      "yield table name:  Karakas\n",
      "provided masses:  [ 1.    1.25  1.5   1.75  1.9   2.    2.25  2.5   3.    3.5   4.    4.5   5.\n",
      "  5.5   6.    6.5 ]\n",
      "provided metallicities [0.02, 0.008, 0.004, 0.0001]\n",
      "----------------------------------\n",
      "yield table name:  Nugrid\n",
      "provided masses:  [ 1.65  2.    3.    5.  ]\n",
      "provided metallicities [0.02, 0.01]\n",
      "----------------------------------\n",
      "yield table name:  Karakas_net_yield\n",
      "provided masses:  [ 1.    1.25  1.5   1.75  1.9   2.    2.25  2.5   3.    3.5   4.    4.5   5.\n",
      "  5.5   6.    6.5 ]\n",
      "provided metallicities [0.02, 0.008, 0.004, 0.0001]\n",
      "----------------------------------\n",
      "yield table name:  Ventura\n",
      "provided masses:  [ 8.    7.5   7.    6.5   6.    5.5   5.    4.5   4.    3.5   3.    2.5\n",
      "  2.25  2.    1.75  1.5   1.25  1.  ]\n",
      "provided metallicities [0.04, 0.018, 0.008, 0.004, 0.001, 0.0003]\n",
      "----------------------------------\n",
      "yield table name:  Karakas16_net\n",
      "provided masses:  [ 8.    7.    6.    5.5   5.    4.75  4.5   4.25  4.    3.75  3.5   3.25\n",
      "  3.    2.75  2.5   2.25  2.    1.75  1.5   1.25  1.  ]\n",
      "provided metallicities [0.001, 0.007, 0.014, 0.03]\n"
     ]
    }
   ],
   "source": [
    "# Here for AGB stars\n",
    "\n",
    "print('Available AGB yield parameter range')\n",
    "for item in a.yield_table_name_agb_list:\n",
    "    basic_agb = AGB_feedback()\n",
    "    getattr(basic_agb, item)()\n",
    "    print('----------------------------------')\n",
    "    print('yield table name: ',item)\n",
    "    print('provided masses: ', basic_agb.masses)\n",
    "    print('provided metallicities',basic_agb.metallicities)"
   ]
  },
  {
   "cell_type": "code",
   "execution_count": 12,
   "metadata": {
    "collapsed": false
   },
   "outputs": [
    {
     "name": "stdout",
     "output_type": "stream",
     "text": [
      "Available SN Ia yield parameter range\n",
      "----------------------------------\n",
      "yield table name:  Iwamoto\n",
      "provided masses:  [1.38]\n",
      "provided metallicities [0.02, 0.0]\n",
      "----------------------------------\n",
      "yield table name:  Thielemann\n",
      "provided masses:  [1.37409]\n",
      "provided metallicities [0.02]\n",
      "----------------------------------\n",
      "yield table name:  Seitenzahl\n",
      "provided masses:  [1.4004633930489443]\n",
      "provided metallicities [0.02]\n"
     ]
    }
   ],
   "source": [
    "# And for SN Ia\n",
    "\n",
    "print('Available SN Ia yield parameter range')\n",
    "for item in a.yield_table_name_1a_list:\n",
    "    basic_1a = SN1a_feedback()\n",
    "    getattr(basic_1a, item)()\n",
    "    print('----------------------------------')\n",
    "    print('yield table name: ',item)\n",
    "    print('provided masses: ', basic_1a.masses)\n",
    "    print('provided metallicities',basic_1a.metallicities)"
   ]
  },
  {
   "cell_type": "code",
   "execution_count": null,
   "metadata": {
    "collapsed": false
   },
   "outputs": [],
   "source": [
    "from Chempy.data_to_test import elements_plot\n",
    "from Chempy.solar_abundance import solar_abundances"
   ]
  },
  {
   "cell_type": "markdown",
   "metadata": {},
   "source": [
    "## Elements availability\n",
    "usually not all elements are provided by a yield table. We have a handy plotting routine to show which elements are given. We check for the default and the alternative yield table."
   ]
  },
  {
   "cell_type": "code",
   "execution_count": null,
   "metadata": {
    "collapsed": false
   },
   "outputs": [
    {
     "data": {
      "text/plain": [
       "[0.0]"
      ]
     },
     "execution_count": 14,
     "metadata": {},
     "output_type": "execute_result"
    },
    {
     "data": {
      "text/plain": [
       "<matplotlib.figure.Figure at 0x7f46701dbef0>"
      ]
     },
     "metadata": {},
     "output_type": "display_data"
    }
   ],
   "source": [
    "# To get the element list we initialise the solar abundance class\n",
    "\n",
    "basic_solar = solar_abundances()\n",
    "\n",
    "\n",
    "\n",
    "\n",
    "# we load the default yield set:\n",
    "\n",
    "basic_sn2 = SN2_feedback()\n",
    "getattr(basic_sn2, \"Nomoto2013\")()\n",
    "basic_1a = SN1a_feedback()\n",
    "getattr(basic_1a, \"Seitenzahl\")()\n",
    "basic_agb = AGB_feedback()\n",
    "getattr(basic_agb, \"Karakas_net_yield\")()\n",
    "\n",
    "\n",
    "#Now we plot the elements available for the default yield set and which elements are available for specific surveys and come from which nucleosynthetic channel\n",
    "\n",
    "elements_plot('default', basic_agb.elements,basic_sn2.elements,basic_1a.elements,['C','N','O'], basic_solar.table,40)"
   ]
  },
  {
   "cell_type": "code",
   "execution_count": null,
   "metadata": {
    "collapsed": false
   },
   "outputs": [],
   "source": [
    "# Then we load the alternative yield set:\n",
    "\n",
    "basic_sn2 = SN2_feedback()\n",
    "getattr(basic_sn2, \"chieffi04\")()\n",
    "basic_1a = SN1a_feedback()\n",
    "getattr(basic_1a, \"Thielemann\")()\n",
    "basic_agb = AGB_feedback()\n",
    "getattr(basic_agb, \"Ventura\")()\n",
    "\n",
    "#And again plot the elements available \n",
    "\n",
    "elements_plot('alternative', basic_agb.elements,basic_sn2.elements,basic_1a.elements,['C','N','O'], basic_solar.table,40)"
   ]
  },
  {
   "cell_type": "markdown",
   "metadata": {},
   "source": [
    "## CC-SN yields\n",
    "Here we visualise the yield in [X/Fe] for the whole grid in masses and metallicities for two different yields sets\n",
    "- Interestingly CC-SN ejecta can be Solar in their alpha-enhancement for low-mass progenitors (=13Msun)\n",
    "- Ths effect is even stronger for the Chieffi04 yields"
   ]
  },
  {
   "cell_type": "code",
   "execution_count": null,
   "metadata": {
    "collapsed": false
   },
   "outputs": [],
   "source": [
    "# We need solar abundances for normalisation of the feedback\n",
    "\n",
    "basic_solar.Asplund09()\n",
    "\n",
    "# Then we plot the [Mg/Fe] of Nomoto+ 2013 for all masses and metallicities \n",
    "\n",
    "from data_to_test import yield_plot\n",
    "basic_sn2 = SN2_feedback()\n",
    "getattr(basic_sn2, \"Nomoto2013\")()\n",
    "yield_plot('Nomoto+2013', basic_sn2, basic_solar, 'Mg')"
   ]
  },
  {
   "cell_type": "code",
   "execution_count": null,
   "metadata": {
    "collapsed": false
   },
   "outputs": [],
   "source": [
    "# And we plot the same for Chieffi+ 2004 CC-yields\n",
    "\n",
    "basic_sn2 = SN2_feedback()\n",
    "getattr(basic_sn2, \"chieffi04\")()\n",
    "yield_plot('Chieffi+04', basic_sn2, basic_solar, 'Mg')"
   ]
  },
  {
   "cell_type": "markdown",
   "metadata": {},
   "source": [
    "## Yield comparison\n",
    "We can plot the differences of the two yield tables for different elements (They are copied into the output/ folder). Here only the result for Ti is displayed."
   ]
  },
  {
   "cell_type": "code",
   "execution_count": null,
   "metadata": {
    "collapsed": false
   },
   "outputs": [],
   "source": [
    "# Now we plot a comparison for different elements between Nomoto+ 2013 and Chieffi+ 2004 CC-yields: \n",
    "# You can look into the output/ folder and see the comparison for all those elements\n",
    "\n",
    "from data_to_test import yield_comparison_plot\n",
    "basic_sn2 = SN2_feedback()\n",
    "getattr(basic_sn2, \"Nomoto2013\")()\n",
    "basic_sn2_chieffi = SN2_feedback()\n",
    "getattr(basic_sn2_chieffi, \"chieffi04\")()\n",
    "for element in ['C', 'N', 'O', 'Mg', 'Ca', 'Na', 'Al', 'Mn','Ti']:\n",
    "    yield_comparison_plot('Nomoto13', 'Chieffi04', basic_sn2, basic_sn2_chieffi, basic_solar, element)"
   ]
  },
  {
   "cell_type": "markdown",
   "metadata": {},
   "source": [
    "## AGB yield comparison\n",
    "We have a look at the Carbon and Nitrogen yields.\n",
    "We see that high mass AGB stars produce less fraction of C than low-mass AGB stars and that its vice versa for N. The C/N ratio should be IMF sensitive."
   ]
  },
  {
   "cell_type": "code",
   "execution_count": null,
   "metadata": {
    "collapsed": false
   },
   "outputs": [],
   "source": [
    "# We can also plot a comparison between Karakas+ 2010 and Ventura+ 2013 AGB-yields\n",
    "# Here we plot the fractional C yield\n",
    "\n",
    "from data_to_test import fractional_yield_comparison_plot\n",
    "basic_agb = AGB_feedback()\n",
    "getattr(basic_agb, \"Karakas_net_yield\")()\n",
    "basic_agb_ventura = AGB_feedback()\n",
    "getattr(basic_agb_ventura, \"Ventura\")()\n",
    "fractional_yield_comparison_plot('Karakas10', 'Ventura13', basic_agb, basic_agb_ventura, basic_solar, 'C')\n"
   ]
  },
  {
   "cell_type": "code",
   "execution_count": null,
   "metadata": {
    "collapsed": false
   },
   "outputs": [],
   "source": [
    "# Here we plot the fractional N yield\n",
    "\n",
    "fractional_yield_comparison_plot('Karakas10', 'Ventura13', basic_agb, basic_agb_ventura, basic_solar, 'N')"
   ]
  },
  {
   "cell_type": "markdown",
   "metadata": {},
   "source": [
    "## Yield table query and remnant fraction\n",
    "- Here you see how the yield tables are queeried (the metaliccity accesses the yield table)\n",
    "- For net yield the remnant fraction equals the 'unprocessed mass in winds'.\n",
    "- The changes comes from destroyed Hydrogen that is fused into other elements"
   ]
  },
  {
   "cell_type": "code",
   "execution_count": null,
   "metadata": {
    "collapsed": false
   },
   "outputs": [],
   "source": [
    "# Different entries of the yield table are queried\n",
    "\n",
    "print('Mass, Remnant mass fraction, Unprocessed mass in winds fraction, destroyed Hydrogen of total mass')\n",
    "for i in range(len(basic_agb.masses)):\n",
    "    print(basic_agb.table[0.02]['Mass'][i],basic_agb.table[0.02]['mass_in_remnants'][i],basic_agb.table[0.02]['unprocessed_mass_in_winds'][i],basic_agb.table[0.02]['H'][i])"
   ]
  },
  {
   "cell_type": "markdown",
   "metadata": {},
   "source": [
    "## SN Ia yields\n",
    "Here we see that the SNIa ejecta differ quite strongly for our two yieldtables"
   ]
  },
  {
   "cell_type": "code",
   "execution_count": null,
   "metadata": {
    "collapsed": false
   },
   "outputs": [],
   "source": [
    "# Here we compare the yields for different iron-peak elements for Seitenzahl+ 2013 and Thielemann+ 2003 SNIa tables\n",
    "\n",
    "basic_1a = SN1a_feedback()\n",
    "getattr(basic_1a, 'Seitenzahl')()\n",
    "basic_1a_alternative = SN1a_feedback()\n",
    "getattr(basic_1a_alternative, 'Thielemann')()\n",
    "print('Mass fraction of SN1a ejecta: Cr, Mn, Fe and Ni')\n",
    "print('Seitenzahl2013')\n",
    "print(basic_1a.table[0.02]['Cr'],basic_1a.table[0.02]['Mn'],basic_1a.table[0.02]['Fe'],basic_1a.table[0.02]['Ni'])\n",
    "print('Thielemann2003')\n",
    "print(basic_1a_alternative.table[0.02]['Cr'],basic_1a_alternative.table[0.02]['Mn'],basic_1a_alternative.table[0.02]['Fe'],basic_1a_alternative.table[0.02]['Ni'])\n"
   ]
  },
  {
   "cell_type": "code",
   "execution_count": null,
   "metadata": {
    "collapsed": true
   },
   "outputs": [],
   "source": []
  }
 ],
 "metadata": {
  "kernelspec": {
   "display_name": "Python 3",
   "language": "python",
   "name": "python3"
  },
  "language_info": {
   "codemirror_mode": {
    "name": "ipython",
    "version": 3
   },
   "file_extension": ".py",
   "mimetype": "text/x-python",
   "name": "python",
   "nbconvert_exporter": "python",
   "pygments_lexer": "ipython3",
   "version": "3.6.0"
  }
 },
 "nbformat": 4,
 "nbformat_minor": 0
}
