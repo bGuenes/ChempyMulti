{
 "cells": [
  {
   "cell_type": "markdown",
   "metadata": {},
   "source": [
    "#### Find bug causing nearby times to predict same abundances"
   ]
  },
  {
   "cell_type": "code",
   "execution_count": 5,
   "metadata": {},
   "outputs": [
    {
     "name": "stdout",
     "output_type": "stream",
     "text": [
      "Populating the interactive namespace from numpy and matplotlib\n"
     ]
    }
   ],
   "source": [
    "%pylab inline"
   ]
  },
  {
   "cell_type": "code",
   "execution_count": 6,
   "metadata": {},
   "outputs": [],
   "source": [
    "import os\n",
    "FS=16\n",
    "os.chdir('/home/oliverphilcox/ChempyMulti/')\n",
    "from Chempy.parameter import ModelParameters\n"
   ]
  },
  {
   "cell_type": "code",
   "execution_count": 19,
   "metadata": {},
   "outputs": [
    {
     "data": {
      "text/plain": [
       "28"
      ]
     },
     "execution_count": 19,
     "metadata": {},
     "output_type": "execute_result"
    }
   ],
   "source": [
    "a.time_steps"
   ]
  },
  {
   "cell_type": "code",
   "execution_count": 145,
   "metadata": {},
   "outputs": [],
   "source": [
    "end = a.end\n",
    "old_timesteps=28\n",
    "age_of_star = a.end-12.01\n",
    "\n",
    "old_sfr = np.linspace(0,end,old_timesteps)\n",
    "\n",
    "new_timesteps = int((a.time_steps-1)*a.end/(a.end-age_of_star)+1)\n",
    "new_end = (a.end-age_of_star)*(new_timesteps-1)/(a.time_steps-1)\n",
    "\n",
    "new_sfr = np.linspace(0,new_end,new_timesteps)"
   ]
  },
  {
   "cell_type": "code",
   "execution_count": 146,
   "metadata": {},
   "outputs": [
    {
     "data": {
      "text/plain": [
       "array([ 0.        ,  0.44481481,  0.88962963,  1.33444444,  1.77925926,\n",
       "        2.22407407,  2.66888889,  3.1137037 ,  3.55851852,  4.00333333,\n",
       "        4.44814815,  4.89296296,  5.33777778,  5.78259259,  6.22740741,\n",
       "        6.67222222,  7.11703704,  7.56185185,  8.00666667,  8.45148148,\n",
       "        8.8962963 ,  9.34111111,  9.78592593, 10.23074074, 10.67555556,\n",
       "       11.12037037, 11.56518519, 12.01      , 12.45481481, 12.89962963,\n",
       "       13.34444444, 13.78925926])"
      ]
     },
     "execution_count": 146,
     "metadata": {},
     "output_type": "execute_result"
    }
   ],
   "source": [
    "new_sfr"
   ]
  },
  {
   "cell_type": "code",
   "execution_count": 139,
   "metadata": {},
   "outputs": [
    {
     "data": {
      "text/plain": [
       "array([0.  , 0.25, 0.5 , 0.75, 1.  ])"
      ]
     },
     "execution_count": 139,
     "metadata": {},
     "output_type": "execute_result"
    }
   ],
   "source": [
    "np.linspace(0,1,5)"
   ]
  },
  {
   "cell_type": "code",
   "execution_count": 137,
   "metadata": {},
   "outputs": [
    {
     "data": {
      "text/plain": [
       "0.5"
      ]
     },
     "execution_count": 137,
     "metadata": {},
     "output_type": "execute_result"
    }
   ],
   "source": [
    "1*(3-1)/(5-1)"
   ]
  },
  {
   "cell_type": "code",
   "execution_count": 133,
   "metadata": {},
   "outputs": [
    {
     "data": {
      "text/plain": [
       "array([0., 1.])"
      ]
     },
     "execution_count": 133,
     "metadata": {},
     "output_type": "execute_result"
    }
   ],
   "source": [
    "np.linspace(0.,1.,int(4/2))"
   ]
  },
  {
   "cell_type": "code",
   "execution_count": null,
   "metadata": {},
   "outputs": [],
   "source": []
  },
  {
   "cell_type": "code",
   "execution_count": 127,
   "metadata": {},
   "outputs": [
    {
     "data": {
      "text/plain": [
       "array([ 0.        ,  0.51102284,  1.02204568,  1.53306852,  2.04409136,\n",
       "        2.5551142 ,  3.06613704,  3.57715988,  4.08818272,  4.59920555,\n",
       "        5.11022839,  5.62125123,  6.13227407,  6.64329691,  7.15431975,\n",
       "        7.66534259,  8.17636543,  8.68738827,  9.19841111,  9.70943395,\n",
       "       10.22045679, 10.73147963, 11.24250247, 11.75352531, 12.26454815,\n",
       "       12.77557099, 13.28659382, 13.79761666])"
      ]
     },
     "execution_count": 127,
     "metadata": {},
     "output_type": "execute_result"
    }
   ],
   "source": [
    "old_sfr"
   ]
  },
  {
   "cell_type": "code",
   "execution_count": null,
   "metadata": {},
   "outputs": [],
   "source": []
  },
  {
   "cell_type": "code",
   "execution_count": null,
   "metadata": {},
   "outputs": [],
   "source": []
  },
  {
   "cell_type": "code",
   "execution_count": 151,
   "metadata": {},
   "outputs": [],
   "source": [
    "a=ModelParameters()\n",
    "from Chempy.sfr import SFR\n",
    "from Chempy.solar_abundance import solar_abundances\n",
    "def shorten_sfr2(a,age=None):\n",
    "    '''\n",
    "    This function crops the SFR to the length of the age of the star and ensures that enough stars are formed at the stellar birth epoch\n",
    "\n",
    "    INPUT:\n",
    "\n",
    "    a = Modelparameters\n",
    "\n",
    "    OUTPUT:\n",
    "    \n",
    "    the function will update the modelparameters, such that the simulation will end when the star is born and it will also check whether there is enough sfr left at that epoch\n",
    "    '''\n",
    "    #try:\n",
    "    #    star = np.load('%s.npy' %(a.stellar_identifier))\n",
    "    #except Exception as ex:\n",
    "    #    from . import localpath\n",
    "    #    star = np.load(localpath + 'input/stars/' + a.stellar_identifier + '.npy')\n",
    "    if age==None:\n",
    "        age_of_star = star['age'][0]\n",
    "    else:\n",
    "        age_of_star=age\n",
    "    assert (age_of_star <= 13.0), \"Age of the star must be below 13Gyr\"\n",
    "    \n",
    "    new_timesteps = int((a.time_steps-1)*a.end/(a.end-age_of_star)+1)\n",
    "    new_end = (a.end-age_of_star)*(new_timesteps-1)/(a.time_steps-1)\n",
    "    print(new_timesteps,new_end)\n",
    "    \n",
    "    basic_sfr = SFR(a.start,new_end,new_timesteps)\n",
    "    \n",
    "    if a.basic_sfr_name == 'gamma_function':\n",
    "        getattr(basic_sfr, a.basic_sfr_name)(S0 = a.S_0 * a.mass_factor,a_parameter = a.a_parameter, loc = a.sfr_beginning, scale = a.sfr_scale)\n",
    "    elif a.basic_sfr_name == 'model_A':\n",
    "        basic_sfr.model_A(a.mass_factor*a.S_0,a.t_0,a.t_1)\n",
    "    elif a.basic_sfr_name == 'prescribed':\n",
    "        basic_sfr.prescribed(a.mass_factor, a.name_of_file)\n",
    "    elif a.basic_sfr_name == 'doubly_peaked':\n",
    "        basic_sfr.doubly_peaked(S0 = a.mass_factor*a.S_0, peak_ratio = a.peak_ratio, decay = a.sfr_decay, t0 = a.sfr_t0, peak1t0 = a.peak1t0, peak1sigma = a.peak1sigma)\n",
    "    basic_sfr.sfr = a.total_mass * np.divide(basic_sfr.sfr,sum(basic_sfr.sfr))\n",
    "    mass_normalisation = a.total_mass\n",
    "    mean_sfr = sum(basic_sfr.sfr) / new_end\n",
    "    \n",
    "    # at which time in the simulation is the star born\n",
    "    star_time = a.end-age_of_star#basic_sfr.t[-1] - age_of_star\n",
    "    cut = [np.where(np.abs(basic_sfr.t - star_time) == np.min(np.abs(basic_sfr.t - star_time)))]\n",
    "    if len(cut[0][0]) != 1:\n",
    "        cut = cut[0][0][0]\n",
    "    \n",
    "    # updating the end time and the model steps and rescale the total mass\n",
    "    time_model = float(basic_sfr.t[cut])\n",
    "    a.end = time_model\n",
    "    a.time_steps = int(cut[0][0]) + 1\n",
    "    a.total_mass = sum(basic_sfr.sfr[0:a.time_steps])\n",
    "    \n",
    "    # check whether the sfr is enough at end to produce reasonable number of stars (which is necessary in order to have a probability to observe a star at all)\n",
    "    sfr_at_end = float(basic_sfr.sfr[cut] / basic_sfr.dt)\n",
    "    fraction_of_mean_sfr = sfr_at_end / mean_sfr\n",
    "    if fraction_of_mean_sfr<0.05:\n",
    "        return np.inf\n",
    "    else:\n",
    "        return a\n",
    "    #assert fraction_of_mean_sfr > 0.05, ('The total SFR of the last age bin is below 5% of the mean SFR', 'stellar identifier = ', a.stellar_identifier, 'star time = ', star_time, 'model time = ', time_model ) \n",
    "    "
   ]
  },
  {
   "cell_type": "code",
   "execution_count": 152,
   "metadata": {},
   "outputs": [],
   "source": [
    "from Chempy.wrapper import Chempy_all_times\n",
    "def cem_real2_single_time2(a,this_time):\n",
    "    \"\"\" real chempy function for returning predictions at a single timestep.\"\"\"\n",
    "    age=a.end-this_time\n",
    "    #a.end = this_time # reset a.end variable\n",
    "    a = shorten_sfr2(a,age) # use 13 max possible time her\n",
    "    if a==np.inf:\n",
    "        return np.inf\n",
    "    \n",
    "    basic_solar = solar_abundances()\n",
    "    getattr(basic_solar,a.solar_abundance_name)() # need for normalizations\n",
    "    \n",
    "    elements_to_trace = list(a.elements_to_trace)\n",
    "    \n",
    "    cube, abundances = Chempy_all_times(a)\n",
    "    if type(cube)==float:\n",
    "        # Something became negative - discard this run.\n",
    "        return np.inf\n",
    "    cube1 = cube.cube\n",
    "    gas_reservoir = cube.gas_reservoir\n",
    "        \n",
    "    abundance_list = np.zeros(len(elements_to_trace))\n",
    "        \n",
    "    # predicted values are written out and returned together with corona metallicity and SN-ratio\n",
    "    #abundance_list = []\n",
    "    for i,item in enumerate(elements_to_trace):\n",
    "        abundance_list[i]=abundances[item][-1]\n",
    "\n",
    "    \"\"\"\n",
    "    \n",
    "    abundance_list[-2]=gas_reservoir['Z'][1:]\n",
    "    elements_to_trace.append('Zcorona')\n",
    "\n",
    "    abundance_list[-1]=np.divide(cube1['sn2'][1:],cube1['sn1a'][1:])\n",
    "    elements_to_trace.append('SNratio')\n",
    "    \"\"\"\n",
    "    return(abundance_list, elements_to_trace)"
   ]
  },
  {
   "cell_type": "code",
   "execution_count": 153,
   "metadata": {},
   "outputs": [],
   "source": [
    "from Chempy.cem_function import cem_real2_single_time,extract_parameters_and_priors\n",
    "def single_timestep_chempy2(args):\n",
    "    \"\"\"\n",
    "    Calls Chempy and returns posterior values for a single pre-determined timestep, given in args.\n",
    "    \"\"\"\n",
    "    all_parameter,a=args\n",
    "    changing_parameter=all_parameter[:-1] # physics parameters\n",
    "    birth_time = all_parameter[-1] # time of star birth\n",
    "    \n",
    "    # Update the parameters + priors:\n",
    "    a = extract_parameters_and_priors(changing_parameter,a)\n",
    "    \n",
    "    # Save the output time etc. which is changed by the actual calculation but restored to default afterwards\n",
    "    backup = a.end, a.time_steps, a.total_mass\n",
    "    \n",
    "    # Call Chempy and return all abundances and the list of element names\n",
    "    output=cem_real2_single_time2(a,birth_time)\n",
    "    if output==np.inf:\n",
    "        return np.inf\n",
    "    else:\n",
    "        abundance_list, elements_to_trace = output\n",
    "    \n",
    "        # Restore default values\n",
    "        a.end, a.time_steps, a.total_mass = backup\n",
    "    \n",
    "        return abundance_list, elements_to_trace\n"
   ]
  },
  {
   "cell_type": "code",
   "execution_count": 154,
   "metadata": {},
   "outputs": [
    {
     "name": "stdout",
     "output_type": "stream",
     "text": [
      "32 13.777777777777779\n"
     ]
    },
    {
     "name": "stderr",
     "output_type": "stream",
     "text": [
      "/home/oliverphilcox/anaconda3/lib/python3.7/site-packages/ipykernel_launcher.py:52: FutureWarning: Using a non-tuple sequence for multidimensional indexing is deprecated; use `arr[tuple(seq)]` instead of `arr[seq]`. In the future this will be interpreted as an array index, `arr[np.array(seq)]`, which will result either in an error or a different result.\n",
      "/home/oliverphilcox/anaconda3/lib/python3.7/site-packages/ipykernel_launcher.py:58: FutureWarning: Using a non-tuple sequence for multidimensional indexing is deprecated; use `arr[tuple(seq)]` instead of `arr[seq]`. In the future this will be interpreted as an array index, `arr[np.array(seq)]`, which will result either in an error or a different result.\n"
     ]
    },
    {
     "name": "stdout",
     "output_type": "stream",
     "text": [
      "32 13.789259259259259\n",
      "[ 0.00015044 -0.00038447  0.00038447  0.00034773  0.00016193  0.00014823\n",
      "  0.00015811  0.00016962  0.00013277]\n"
     ]
    }
   ],
   "source": [
    "runner = lambda time: single_timestep_chempy2((list(a.p0)+[time],a))[0]\n",
    "print(runner(12.)-runner(12.01))"
   ]
  },
  {
   "cell_type": "code",
   "execution_count": null,
   "metadata": {},
   "outputs": [],
   "source": []
  },
  {
   "cell_type": "code",
   "execution_count": null,
   "metadata": {},
   "outputs": [],
   "source": []
  },
  {
   "cell_type": "code",
   "execution_count": null,
   "metadata": {},
   "outputs": [],
   "source": []
  }
 ],
 "metadata": {
  "kernelspec": {
   "display_name": "Python 3",
   "language": "python",
   "name": "python3"
  },
  "language_info": {
   "codemirror_mode": {
    "name": "ipython",
    "version": 3
   },
   "file_extension": ".py",
   "mimetype": "text/x-python",
   "name": "python",
   "nbconvert_exporter": "python",
   "pygments_lexer": "ipython3",
   "version": "3.7.0"
  }
 },
 "nbformat": 4,
 "nbformat_minor": 2
}
