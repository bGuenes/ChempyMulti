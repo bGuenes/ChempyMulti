{
 "cells": [
  {
   "cell_type": "code",
   "execution_count": 1,
   "metadata": {},
   "outputs": [
    {
     "name": "stdout",
     "output_type": "stream",
     "text": [
      "Populating the interactive namespace from numpy and matplotlib\n"
     ]
    }
   ],
   "source": [
    "%pylab inline\n",
    "import multiprocessing as mp\n",
    "import os\n",
    "os.chdir('/home/oliverphilcox/ChempyMulti/')\n",
    "from Chempy.parameter import ModelParameters\n",
    "a=ModelParameters()"
   ]
  },
  {
   "cell_type": "code",
   "execution_count": 2,
   "metadata": {},
   "outputs": [],
   "source": [
    "from Chempy.solar_abundance import solar_abundances\n",
    "basic_solar = solar_abundances()\n",
    "getattr(basic_solar, 'AG89')()\n",
    "\n",
    "# Initialise the SSP class with time-steps\n",
    "\n",
    "time_steps = np.linspace(0.,13.8,5201)\n",
    "\n",
    "# Load the default yields\n",
    "\n",
    "from Chempy.yields import SN2_feedback, AGB_feedback, SN1a_feedback\n",
    "basic_sn2 = SN2_feedback()\n",
    "getattr(basic_sn2, 'TNG_net')()\n",
    "basic_1a = SN1a_feedback()\n",
    "getattr(basic_1a, \"TNG\")()\n",
    "basic_agb = AGB_feedback()\n",
    "getattr(basic_agb, \"TNG_net\")()\n",
    "\n",
    "# Use all elements that are traced\n",
    "elements_to_trace = ['H','He','C','N','O','Ne','Mg','Si','Fe']\n",
    "\n",
    "# Producing the SSP birth elemental fractions (here we use solar)\n",
    "solar_fractions = []\n",
    "elements = np.hstack(basic_solar.all_elements)\n",
    "for item in elements_to_trace:\n",
    "    solar_fractions.append(float(basic_solar.fractions[np.where(elements==item)]))"
   ]
  },
  {
   "cell_type": "code",
   "execution_count": 19,
   "metadata": {},
   "outputs": [],
   "source": [
    "# yieldset default\n",
    "a.yield_table_name_sn2 = 'CL18_net'#'TNG_net'\n",
    "a.yield_table_name_agb = 'Karakas16_net'#'TNG_net'\n",
    "a.yield_table_name_1a = 'Seitenzahl'#'TNG'\n",
    "\n",
    "# imf parameters\n",
    "a.only_net_yields_in_process_tables = True\n",
    "a.imf_type_name = 'Chabrier_TNG'\n",
    "#default\n",
    "a.high_mass_slope = -2.3\n",
    "a.imf_parameter = (0.852464,0.237912,0.079,0.69, a.high_mass_slope)\n",
    "a.mmin = 0.1\n",
    "a.mmax = 100\n",
    "# 100,000,000 mass steps are smooth enough for 1000 time steps\n",
    "a.mass_steps = 200000 #2000 # 200000\n",
    "a.sn2mmin = 8.\n",
    "a.sn2mmax = 100.\n",
    "a.bhmmin = float(a.sn2mmax) ## maximum of hypernova\n",
    "a.bhmmax = float(a.mmax) ## maximum of the IMF\n",
    "\n",
    "# sn1a delay parameters for maoz\n",
    "#default\n",
    "a.N_0 = 0.0012882#np.power(10,-2.89)\n",
    "a.sn1a_time_delay = 0.04#np.power(10,-0.8)\n",
    "#alternative\n",
    "#a.N_0 = np.power(10,-3.49)\n",
    "#a.sn1a_time_delay = np.power(10,-0.88)\n",
    "\n",
    "a.sn1a_exponent = 1.12\n",
    "a.dummy = 0.0\n",
    "a.sn1a_parameter = [a.N_0,a.sn1a_time_delay,a.sn1a_exponent,a.dummy]\n",
    "######################## END OF SETTING CHEMPY PARAMETER FOR SSP YIELD TABLE PRODUCTION"
   ]
  },
  {
   "cell_type": "code",
   "execution_count": 20,
   "metadata": {},
   "outputs": [],
   "source": [
    "from Chempy.wrapper import SSP_wrap\n",
    "\n",
    "basic_ssp = SSP_wrap(a)"
   ]
  },
  {
   "cell_type": "code",
   "execution_count": 21,
   "metadata": {},
   "outputs": [],
   "source": [
    "basic_ssp.calculate_feedback(0.02,list(elements_to_trace),list(solar_fractions),np.copy(time_steps))"
   ]
  },
  {
   "cell_type": "code",
   "execution_count": 22,
   "metadata": {},
   "outputs": [],
   "source": [
    "differential_table = True # True is the default Chempy behaviour\n",
    "\n",
    "x = basic_ssp.agb_table\n",
    "y = basic_ssp.sn1a_table\n",
    "z = basic_ssp.sn2_table\n",
    "s = basic_ssp.bh_table\n",
    "d = basic_ssp.table\n",
    "\n",
    "#x2 = x+ (d['mass_of_ms_stars_dying']-x['mass_in_remnants'])\n",
    "\n",
    "u = np.zeros_like(x)\n",
    "names = list(u.dtype.names)"
   ]
  },
  {
   "cell_type": "code",
   "execution_count": 23,
   "metadata": {},
   "outputs": [
    {
     "data": {
      "image/png": "[encoded data removed]",
      "text/plain": [
       "<Figure size 432x288 with 1 Axes>"
      ]
     },
     "metadata": {
      "needs_background": "light"
     },
     "output_type": "display_data"
    }
   ],
   "source": [
    "plt.plot(np.cumsum(d['mass_of_ms_stars_dying']))\n",
    "plt.plot(np.cumsum(d['mass_in_remnants']))\n",
    "plt.plot(np.cumsum(d['sn2']))\n",
    "plt.plot(np.cumsum(d['pn']))\n",
    "plt.plot(np.cumsum(d['sn1a']))\n",
    "plt.yscale('log')"
   ]
  },
  {
   "cell_type": "code",
   "execution_count": 24,
   "metadata": {},
   "outputs": [],
   "source": [
    "ejected_mass = d['mass_of_ms_stars_dying']-d['mass_in_remnants']\n",
    "\n",
    "d2 = np.copy(d)\n",
    "for e,el in enumerate(elements_to_trace):\n",
    "    d2[el] = d[el]+ejected_mass*solar_fractions[e]"
   ]
  },
  {
   "cell_type": "code",
   "execution_count": 25,
   "metadata": {},
   "outputs": [],
   "source": [
    "final_els=[]\n",
    "for el in elements_to_trace:\n",
    "    final_els.append(np.sum(d2[el]))"
   ]
  },
  {
   "cell_type": "code",
   "execution_count": 26,
   "metadata": {},
   "outputs": [],
   "source": [
    "for j,jtem in enumerate(names):\n",
    "    u[jtem] = x[jtem] + y[jtem] + z[jtem] + s[jtem]\n",
    "for el in elements_to_trace:\n",
    "    d[el] = u[el]"
   ]
  },
  {
   "cell_type": "code",
   "execution_count": 27,
   "metadata": {},
   "outputs": [],
   "source": [
    "from Chempy.weighted_yield import imf_mass_fraction_non_nativ\n",
    "invimf = basic_ssp.inverse_imf\n",
    "imf = basic_ssp.imf\n",
    "\n",
    "sn2_mass=imf_mass_fraction_non_nativ(imf.dm,imf.x,a.sn2mmin,a.sn2mmax)\n",
    "agb_mass = imf_mass_fraction_non_nativ(imf.dm,imf.x,a.agbmmin,a.agbmmax)\n",
    "sn1a_mass = -np.sum(y['mass_in_remnants'])\n",
    "sn1a_mass = np.sum(d['sn2'])*1.3743416"
   ]
  },
  {
   "cell_type": "code",
   "execution_count": 28,
   "metadata": {},
   "outputs": [
    {
     "data": {
      "image/png": "[encoded data removed]",
      "text/plain": [
       "<Figure size 432x288 with 1 Axes>"
      ]
     },
     "metadata": {
      "needs_background": "light"
     },
     "output_type": "display_data"
    }
   ],
   "source": [
    "for el in elements_to_trace:\n",
    "    plt.plot(time_steps,np.cumsum(y[el]),label=el)\n",
    "plt.legend()\n",
    "plt.yscale('log')"
   ]
  },
  {
   "cell_type": "code",
   "execution_count": 29,
   "metadata": {},
   "outputs": [],
   "source": [
    "full_agb,full_sn2,full_sn1a = [np.zeros(len(elements_to_trace)) for _ in range(3)]\n",
    "for e,el in enumerate(elements_to_trace):\n",
    "        full_agb[e]=np.sum(x[el])+(agb_mass-np.sum(x['mass_in_remnants']))*solar_fractions[e]\n",
    "        full_sn2[e]=np.sum(z[el])+(sn2_mass-np.sum(z['mass_in_remnants']))*solar_fractions[e]\n",
    "        full_sn1a[e]=np.sum(y[el])"
   ]
  },
  {
   "cell_type": "code",
   "execution_count": 30,
   "metadata": {},
   "outputs": [],
   "source": [
    "np.savez('/mnt/store1/oliverphilcox/ChempyMultiData/TNG_Abun2/yields_plot_WrongYields.npz',\n",
    "        agb=full_agb,sn2=full_sn2,sn1a=full_sn1a,elements=elements_to_trace)"
   ]
  },
  {
   "cell_type": "code",
   "execution_count": 17,
   "metadata": {},
   "outputs": [],
   "source": [
    "np.savez('/mnt/store1/oliverphilcox/ChempyMultiData/TNG_Abun2/yields_plot_TNG.npz',\n",
    "        agb=full_agb,sn2=full_sn2,sn1a=full_sn1a,elements=elements_to_trace)"
   ]
  },
  {
   "cell_type": "code",
   "execution_count": 33,
   "metadata": {},
   "outputs": [],
   "source": [
    "yieldT=np.load('/mnt/store1/oliverphilcox/ChempyMultiData/TNG_Abun2/yields_plot_TNG.npz')\n",
    "yieldW=np.load('/mnt/store1/oliverphilcox/ChempyMultiData/TNG_Abun2/yields_plot_WrongYields.npz')"
   ]
  },
  {
   "cell_type": "code",
   "execution_count": 59,
   "metadata": {},
   "outputs": [
    {
     "data": {
      "image/png": "[encoded data removed]",
      "text/plain": [
       "<Figure size 864x360 with 1 Axes>"
      ]
     },
     "metadata": {
      "needs_background": "light"
     },
     "output_type": "display_data"
    }
   ],
   "source": [
    "plt.figure(figsize=(12,5))\n",
    "width=0.2\n",
    "al1=0.4\n",
    "yields=yieldT\n",
    "xax=np.arange(len(elements_to_trace))\n",
    "plt.bar(xax,yields.f.agb+yields.f.sn2+yields.f.sn1a,width,color='blue',label='Total',alpha=al1)\n",
    "plt.bar(xax+width,yields.f.sn2,width,color='cyan',label='SN2',alpha=al1)\n",
    "plt.bar(xax+2*width,yields.f.agb,width,color='g',label='AGB',alpha=al1)\n",
    "plt.bar(xax+3*width,yields.f.sn1a,width,color='y',label='SNIa',alpha=al1)\n",
    "width2=0.1\n",
    "yields=yieldW\n",
    "al2=0.6\n",
    "plt.bar(xax,yields.f.agb+yields.f.sn2+yields.f.sn1a,width2,color='blue',alpha=al2)\n",
    "plt.bar(xax+width,yields.f.sn2,width2,color='cyan',alpha=al2)\n",
    "plt.bar(xax+width*2.,yields.f.agb,width2,color='g',alpha=al2)\n",
    "plt.bar(xax+width*3.,yields.f.sn1a,width2,color='y',alpha=al2)\n",
    "plt.bar(elements_to_trace,-full_agb)\n",
    "plt.legend()\n",
    "plt.ylim([2.1e-6,0.35])\n",
    "plt.xlim([0.8,8.8])\n",
    "plt.yscale('log');"
   ]
  },
  {
   "cell_type": "code",
   "execution_count": null,
   "metadata": {},
   "outputs": [],
   "source": []
  },
  {
   "cell_type": "code",
   "execution_count": 31,
   "metadata": {},
   "outputs": [
    {
     "data": {
      "image/png": "[encoded data removed]",
      "text/plain": [
       "<Figure size 576x360 with 1 Axes>"
      ]
     },
     "metadata": {
      "needs_background": "light"
     },
     "output_type": "display_data"
    }
   ],
   "source": [
    "plt.figure(figsize=(8,5))\n",
    "width=0.2\n",
    "xax = np.arange(len(elements_to_trace))\n",
    "plt.bar(xax,full_agb+full_sn2+full_sn1a,width,color='blue',label='Total')\n",
    "plt.bar(xax+width,full_sn2,width,color='cyan',label='SN2')\n",
    "plt.bar(xax+2.*width,full_agb,width,color='g',label='AGB')\n",
    "plt.bar(xax+3.*width,full_sn1a,width,color='y',label='SN1a')\n",
    "plt.bar(elements_to_trace,-full_agb)\n",
    "plt.legend()\n",
    "plt.ylim([2.1e-6,0.35])\n",
    "plt.yscale('log')"
   ]
  },
  {
   "cell_type": "code",
   "execution_count": null,
   "metadata": {},
   "outputs": [],
   "source": []
  },
  {
   "cell_type": "code",
   "execution_count": null,
   "metadata": {},
   "outputs": [],
   "source": []
  },
  {
   "cell_type": "code",
   "execution_count": null,
   "metadata": {},
   "outputs": [],
   "source": []
  },
  {
   "cell_type": "code",
   "execution_count": null,
   "metadata": {},
   "outputs": [],
   "source": []
  },
  {
   "cell_type": "code",
   "execution_count": null,
   "metadata": {},
   "outputs": [],
   "source": []
  },
  {
   "cell_type": "code",
   "execution_count": 25,
   "metadata": {},
   "outputs": [],
   "source": [
    "tng_dat=[2.630e-1,7.853e-2,1.875e-1,1.213e-1,5.598e-2,6.959e-2,2.090e-3,7.948e-4,2.811e-4,4.015e-3, 2.662e-3, 1.228e-3, 1.258e-3, 5.021e-4, 7.948e-4]\n"
   ]
  },
  {
   "cell_type": "code",
   "execution_count": 26,
   "metadata": {},
   "outputs": [],
   "source": [
    "chempy_dat = np.hstack([full_agb[0]+full_sn2[0]+full_sn1a[0],full_sn2[0],full_agb[0],\n",
    "                        full_agb[1]+full_sn2[1]+full_sn1a[1],full_sn2[1],full_agb[1],\n",
    "                        full_agb[-1]+full_sn2[-1]+full_sn1a[-1],full_sn2[-1],full_agb[-1],\n",
    "                        full_agb[2]+full_sn2[2]+full_sn1a[2],full_sn2[2],full_agb[2],\n",
    "                        full_agb[3]+full_sn2[3]+full_sn1a[3],full_sn2[3],full_agb[3],\n",
    "                       ])"
   ]
  },
  {
   "cell_type": "code",
   "execution_count": 27,
   "metadata": {},
   "outputs": [
    {
     "data": {
      "image/png": "[encoded data removed]",
      "text/plain": [
       "<Figure size 432x288 with 1 Axes>"
      ]
     },
     "metadata": {
      "needs_background": "light"
     },
     "output_type": "display_data"
    }
   ],
   "source": [
    "plt.bar(np.arange(len(tng_dat)),tng_dat,width)\n",
    "plt.bar(np.arange(len(tng_dat))+width,chempy_dat,width)\n",
    "plt.yscale('log')"
   ]
  },
  {
   "cell_type": "code",
   "execution_count": 28,
   "metadata": {},
   "outputs": [
    {
     "name": "stdout",
     "output_type": "stream",
     "text": [
      "He/H SN2: -0.15 (TNG) -0.07 (Chempy)\n"
     ]
    }
   ],
   "source": [
    "print(\"He/H SN2: %.2f (TNG) %.2f (Chempy)\"%(np.log10(tng_dat[4]/tng_dat[1]),np.log10(chempy_dat[4]/chempy_dat[1])))"
   ]
  },
  {
   "cell_type": "code",
   "execution_count": 29,
   "metadata": {},
   "outputs": [
    {
     "data": {
      "text/plain": [
       "[<matplotlib.lines.Line2D at 0x7f82064f5390>]"
      ]
     },
     "execution_count": 29,
     "metadata": {},
     "output_type": "execute_result"
    },
    {
     "data": {
      "image/png": "[encoded data removed]",
      "text/plain": [
       "<Figure size 432x288 with 1 Axes>"
      ]
     },
     "metadata": {
      "needs_background": "light"
     },
     "output_type": "display_data"
    }
   ],
   "source": [
    "plt.plot(tng_dat/chempy_dat)"
   ]
  },
  {
   "cell_type": "code",
   "execution_count": 30,
   "metadata": {},
   "outputs": [
    {
     "name": "stdout",
     "output_type": "stream",
     "text": [
      "100.0,100.0\n",
      "34.2,100.0\n",
      "22.8,34.2\n",
      "18.1,22.8\n",
      "15.4,18.1\n",
      "13.7,15.4\n",
      "12.4,13.7\n",
      "11.5,12.4\n",
      "10.7,11.5\n",
      "10.1,10.7\n",
      "9.6,10.1\n",
      "9.1,9.6\n",
      "8.7,9.1\n",
      "8.4,8.7\n",
      "8.1,8.4\n",
      "8.0,8.1\n",
      "8.0,7.9\n",
      "Broken at index 16\n"
     ]
    }
   ],
   "source": [
    "from Chempy.weighted_yield import imf_mass_fraction_non_nativ\n",
    "invimf = basic_ssp.inverse_imf\n",
    "imf = basic_ssp.imf\n",
    "counts = np.zeros(len(invimf))\n",
    "for i,item in enumerate(invimf[:-1]):\n",
    "    lower = max(invimf[i+1],a.sn2mmin)\n",
    "    upper = min(invimf[i],a.sn2mmax)\n",
    "    print(\"%.1f,%.1f\"%(lower,upper))\n",
    "    counts[i+1]+=imf_mass_fraction_non_nativ(imf.dn,imf.x,lower,upper)\n",
    "    if upper<lower and invimf[i+1]<a.sn2mmin:\n",
    "        print(\"Broken at index %d\"%i)\n",
    "        break"
   ]
  },
  {
   "cell_type": "code",
   "execution_count": 31,
   "metadata": {},
   "outputs": [
    {
     "data": {
      "text/plain": [
       "array([100.        , 100.        ,  34.22518575,  22.83193262,\n",
       "        18.12603262,  15.44978437,  13.68702162])"
      ]
     },
     "execution_count": 31,
     "metadata": {},
     "output_type": "execute_result"
    }
   ],
   "source": [
    "invimf[:7]"
   ]
  },
  {
   "cell_type": "code",
   "execution_count": 305,
   "metadata": {},
   "outputs": [
    {
     "data": {
      "text/plain": [
       "0.01004147263340897"
      ]
     },
     "execution_count": 305,
     "metadata": {},
     "output_type": "execute_result"
    }
   ],
   "source": [
    "np.sum(counts)"
   ]
  },
  {
   "cell_type": "code",
   "execution_count": 216,
   "metadata": {},
   "outputs": [],
   "source": [
    "def imf_fun(m):\n",
    "    return m**-(1-2.3)*np.exp(-(716.4/m)**0.25)"
   ]
  },
  {
   "cell_type": "code",
   "execution_count": null,
   "metadata": {},
   "outputs": [],
   "source": []
  },
  {
   "cell_type": "code",
   "execution_count": null,
   "metadata": {},
   "outputs": [],
   "source": []
  },
  {
   "cell_type": "code",
   "execution_count": 230,
   "metadata": {},
   "outputs": [
    {
     "data": {
      "text/plain": [
       "<matplotlib.legend.Legend at 0x7fcd5342ccf8>"
      ]
     },
     "execution_count": 230,
     "metadata": {},
     "output_type": "execute_result"
    },
    {
     "data": {
      "image/png": "[encoded data removed]",
      "text/plain": [
       "<Figure size 432x288 with 1 Axes>"
      ]
     },
     "metadata": {
      "needs_background": "light"
     },
     "output_type": "display_data"
    }
   ],
   "source": [
    "plt.plot(np.cumsum(x['mass_in_remnants']),label='AGB')\n",
    "plt.plot(np.cumsum(y['mass_in_remnants']),label='SN1a')\n",
    "plt.plot(np.cumsum(z['mass_in_remnants']),label='SN2')\n",
    "plt.yscale('log');plt.legend()"
   ]
  },
  {
   "cell_type": "code",
   "execution_count": 221,
   "metadata": {},
   "outputs": [
    {
     "data": {
      "image/png": "[encoded data removed]",
      "text/plain": [
       "<Figure size 432x288 with 1 Axes>"
      ]
     },
     "metadata": {
      "needs_background": "light"
     },
     "output_type": "display_data"
    }
   ],
   "source": [
    "plt.plot(np.cumsum(x['C']),label='AGB')\n",
    "plt.plot(np.cumsum(y['C']),label='SN1a')\n",
    "plt.plot(np.cumsum(z['C']),label='SN2')\n",
    "plt.yscale('log');plt.legend();"
   ]
  },
  {
   "cell_type": "code",
   "execution_count": 120,
   "metadata": {},
   "outputs": [],
   "source": [
    "# this is solar-metallicity ejecta here\n",
    "total_ejecta = d['mass_of_ms_stars_dying']-d['mass_in_remnants']"
   ]
  },
  {
   "cell_type": "code",
   "execution_count": 121,
   "metadata": {},
   "outputs": [
    {
     "data": {
      "text/plain": [
       "[<matplotlib.lines.Line2D at 0x7fcd5374cf98>]"
      ]
     },
     "execution_count": 121,
     "metadata": {},
     "output_type": "execute_result"
    },
    {
     "data": {
      "image/png": "[encoded data removed]",
      "text/plain": [
       "<Figure size 432x288 with 1 Axes>"
      ]
     },
     "metadata": {
      "needs_background": "light"
     },
     "output_type": "display_data"
    }
   ],
   "source": [
    "plt.plot(d['mass_of_ms_stars_dying']-x['mass_in_remnants'])"
   ]
  },
  {
   "cell_type": "code",
   "execution_count": null,
   "metadata": {},
   "outputs": [],
   "source": []
  },
  {
   "cell_type": "code",
   "execution_count": 33,
   "metadata": {},
   "outputs": [],
   "source": [
    "list_of_metallicities = [0.02]#np.logspace(-4,-2,2)\n",
    "list_of_SSP_tables = []\n",
    "list_of_SSP_tables.append(list_of_metallicities)\n",
    "list_of_SSP_tables.append(time_steps)\n",
    "\n",
    "from Chempy.wrapper import SSP_wrap\n",
    "\n",
    "\n",
    "def create_one_SSP_table(parameters):\n",
    "    differential_table = True # True is the default Chempy behaviour\n",
    "    metallicity = parameters\n",
    "    print(metallicity,a.yield_table_name_sn2)\n",
    "    basic_ssp = SSP_wrap(a)\n",
    "    basic_ssp.calculate_feedback(metallicity,list(elements_to_trace),list(solar_fractions),np.copy(time_steps))\n",
    "\n",
    "    x = basic_ssp.agb_table\n",
    "    y = basic_ssp.sn1a_table\n",
    "    z = basic_ssp.sn2_table\n",
    "    s = basic_ssp.bh_table\n",
    "    d = basic_ssp.table\n",
    "\n",
    "    u = np.zeros_like(x)\n",
    "    names = list(u.dtype.names)\n",
    "\n",
    "    # here we still add all processes, but we can also make individual process contribution to element\n",
    "    for j,jtem in enumerate(names):\n",
    "        u[jtem] = x[jtem] + y[jtem] + z[jtem] + s[jtem]\n",
    "    if differential_table:\n",
    "        for el in elements_to_trace:\n",
    "            d[el] = u[el]\n",
    "    else:\n",
    "        for el in elements_to_trace:\n",
    "            d[el] = np.cumsum(u[el])\n",
    "        for name in ['mass_of_ms_stars_dying', 'mass_in_remnants', 'sn2', 'sn1a', 'pn', 'bh', 'hydrogen_mass_accreted_onto_white_dwarfs', 'unprocessed_ejecta']:\n",
    "            d[name] = np.cumsum(d[name])\n",
    "    return(d)"
   ]
  },
  {
   "cell_type": "code",
   "execution_count": 5,
   "metadata": {},
   "outputs": [
    {
     "name": "stdout",
     "output_type": "stream",
     "text": [
      "0.02 TNG_net\n"
     ]
    }
   ],
   "source": [
    "number_processes = max(1,mp.cpu_count() - 1)\n",
    "pool = mp.Pool(number_processes)\n",
    "results = pool.map(create_one_SSP_table, list_of_metallicities)\n",
    "pool.close()\n",
    "pool.join()\n",
    "\n",
    "list_of_SSP_tables.append(results)"
   ]
  },
  {
   "cell_type": "code",
   "execution_count": 123,
   "metadata": {},
   "outputs": [
    {
     "ename": "IndexError",
     "evalue": "list index out of range",
     "output_type": "error",
     "traceback": [
      "\u001b[0;31m---------------------------------------------------------------------------\u001b[0m",
      "\u001b[0;31mIndexError\u001b[0m                                Traceback (most recent call last)",
      "\u001b[0;32m<ipython-input-123-ea379436c76c>\u001b[0m in \u001b[0;36m<module>\u001b[0;34m()\u001b[0m\n\u001b[0;32m----> 1\u001b[0;31m \u001b[0mprint\u001b[0m\u001b[0;34m(\u001b[0m\u001b[0;34m'the data type of the SSP yield table: '\u001b[0m\u001b[0;34m,\u001b[0m\u001b[0mlist_of_SSP_tables\u001b[0m\u001b[0;34m[\u001b[0m\u001b[0;36m2\u001b[0m\u001b[0;34m]\u001b[0m\u001b[0;34m[\u001b[0m\u001b[0;36m0\u001b[0m\u001b[0;34m]\u001b[0m\u001b[0;34m.\u001b[0m\u001b[0mdtype\u001b[0m\u001b[0;34m)\u001b[0m\u001b[0;34m\u001b[0m\u001b[0m\n\u001b[0m\u001b[1;32m      2\u001b[0m \u001b[0mx\u001b[0m \u001b[0;34m=\u001b[0m \u001b[0mlist_of_SSP_tables\u001b[0m\u001b[0;34m[\u001b[0m\u001b[0;36m2\u001b[0m\u001b[0;34m]\u001b[0m\u001b[0;34m[\u001b[0m\u001b[0;36m0\u001b[0m\u001b[0;34m]\u001b[0m\u001b[0;34m\u001b[0m\u001b[0m\n",
      "\u001b[0;31mIndexError\u001b[0m: list index out of range"
     ]
    }
   ],
   "source": [
    "print('the data type of the SSP yield table: ',list_of_SSP_tables[2][0].dtype)\n",
    "x = list_of_SSP_tables[2][0]"
   ]
  },
  {
   "cell_type": "code",
   "execution_count": 122,
   "metadata": {},
   "outputs": [
    {
     "data": {
      "image/png": "[encoded data removed]",
      "text/plain": [
       "<Figure size 869x669 with 1 Axes>"
      ]
     },
     "metadata": {
      "needs_background": "light"
     },
     "output_type": "display_data"
    }
   ],
   "source": [
    "alpha = 0.5\n",
    "factor = 1.05\n",
    "\n",
    "## Actual plotting\n",
    "\n",
    "fig = plt.figure(figsize=(8.69,6.69), dpi=100)\n",
    "ax = fig.add_subplot(111)\n",
    "ax.plot(time_steps,np.cumsum(x[\"Fe\"]),'b', label = 'Z = 0.02')\n",
    "ax.annotate(xy = (time_steps[-1]*factor,np.sum(x[\"Fe\"])*0.9) ,s = 'Fe',color = 'b')\n",
    "\n",
    "ax.plot(time_steps,np.cumsum(x[\"Mg\"]),'b')\n",
    "ax.annotate(xy = (time_steps[-1]*factor,np.sum(x[\"Mg\"])*0.9) ,s = 'Mg',color = 'b')\n",
    "\n",
    "ax.plot(time_steps,np.cumsum(x[\"Si\"]),'b')\n",
    "ax.annotate(xy = (time_steps[-1]*factor,np.sum(x[\"Si\"])*0.9) ,s = 'Si',color = 'b')\n",
    "\n",
    "ax.plot(time_steps,np.cumsum(x[\"C\"]),'b')\n",
    "ax.annotate(xy = (time_steps[-1]*factor,np.sum(x[\"C\"])*0.9) ,s = 'C',color = 'b')\n",
    "\n",
    "ax.plot(time_steps,np.ones_like(time_steps)*5e-3,marker = '|', markersize = 10, linestyle = '', color = 'k', alpha = 2*alpha)#, label = 'time-steps')\n",
    "ax.annotate(xy = (time_steps[1],2.7e-3),s = 'model time-steps', color = 'k', alpha = 2*alpha)\n",
    "ax.legend(loc = 'best')\n",
    "\n",
    "ax.set_ylim(2e-5,6e-3)\n",
    "ax.set_xlim(7e-3,25)\n",
    "ax.set_title(r'default yield of SSP with mass = 1M$_\\odot$ for different metallicies')\n",
    "ax.set_ylabel(r\"net yield in M$_\\odot$\")\n",
    "ax.set_xlabel(\"time in Gyr\")\n",
    "\n",
    "ax.set_yscale('log')\n",
    "ax.set_xscale('log')\n",
    "plt.show()"
   ]
  },
  {
   "cell_type": "code",
   "execution_count": 11,
   "metadata": {},
   "outputs": [],
   "source": [
    "final_els=[]\n",
    "for el in elements_to_trace:\n",
    "    final_els.append(np.sum(x[el]))"
   ]
  },
  {
   "cell_type": "code",
   "execution_count": 12,
   "metadata": {},
   "outputs": [
    {
     "data": {
      "image/png": "[encoded data removed]",
      "text/plain": [
       "<Figure size 432x288 with 1 Axes>"
      ]
     },
     "metadata": {
      "needs_background": "light"
     },
     "output_type": "display_data"
    }
   ],
   "source": [
    "plt.plot(elements_to_trace,final_els)\n",
    "plt.yscale('log');"
   ]
  },
  {
   "cell_type": "code",
   "execution_count": null,
   "metadata": {},
   "outputs": [],
   "source": []
  }
 ],
 "metadata": {
  "kernelspec": {
   "display_name": "Python 3",
   "language": "python",
   "name": "python3"
  },
  "language_info": {
   "codemirror_mode": {
    "name": "ipython",
    "version": 3
   },
   "file_extension": ".py",
   "mimetype": "text/x-python",
   "name": "python",
   "nbconvert_exporter": "python",
   "pygments_lexer": "ipython3",
   "version": "3.7.0"
  }
 },
 "nbformat": 4,
 "nbformat_minor": 2
}
