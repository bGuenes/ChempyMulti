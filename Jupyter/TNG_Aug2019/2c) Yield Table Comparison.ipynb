{
 "cells": [
  {
   "cell_type": "code",
   "execution_count": 136,
   "metadata": {},
   "outputs": [
    {
     "name": "stdout",
     "output_type": "stream",
     "text": [
      "Populating the interactive namespace from numpy and matplotlib\n"
     ]
    }
   ],
   "source": [
    "%pylab inline\n",
    "import multiprocessing as mp\n",
    "import os\n",
    "os.chdir('/home/oliverphilcox/ChempyMulti/')\n",
    "from Chempy.parameter import ModelParameters\n",
    "a=ModelParameters()\n",
    "\n",
    "\n",
    "## Choose yield set\n",
    "#name_st = 'TNG' # '\n",
    "name_st = 'WrongYield'"
   ]
  },
  {
   "cell_type": "code",
   "execution_count": 114,
   "metadata": {},
   "outputs": [],
   "source": [
    "from Chempy.solar_abundance import solar_abundances\n",
    "basic_solar = solar_abundances()\n",
    "getattr(basic_solar, 'Asplund09')()\n",
    "\n",
    "# Initialise the SSP class with time-steps\n",
    "\n",
    "time_steps = np.linspace(0.,13.8,5201)\n",
    "\n",
    "# Load the default yields\n",
    "\n",
    "from Chempy.yields import SN2_feedback, AGB_feedback, SN1a_feedback\n",
    "basic_sn2 = SN2_feedback()\n",
    "getattr(basic_sn2, 'TNG_net')()\n",
    "basic_1a = SN1a_feedback()\n",
    "getattr(basic_1a, \"TNG\")()\n",
    "basic_agb = AGB_feedback()\n",
    "getattr(basic_agb, \"TNG_net\")()\n",
    "\n",
    "# Use all elements that are traced\n",
    "elements_to_trace = ['H','He','C','N','O','Ne','Mg','Si','Fe']\n",
    "\n",
    "# Producing the SSP birth elemental fractions (here we use solar)\n",
    "solar_fractions = []\n",
    "elements = np.hstack(basic_solar.all_elements)\n",
    "for item in elements_to_trace:\n",
    "    solar_fractions.append(float(basic_solar.fractions[np.where(elements==item)]))"
   ]
  },
  {
   "cell_type": "code",
   "execution_count": 115,
   "metadata": {},
   "outputs": [],
   "source": [
    "if name_st=='TNG':\n",
    "    # yieldset default\n",
    "    a.yield_table_name_sn2 = 'TNG_net'#'chieffi04_net'#'TNG_net'\n",
    "    a.yield_table_name_agb = 'TNG_net'#'Karakas16_net'#Ventura_net'#'TNG_net'\n",
    "    a.yield_table_name_1a = 'TNG'#'Seitenzahl'#'TNG'\n",
    "elif name_st=='WrongYield':\n",
    "    # yieldset default\n",
    "    a.yield_table_name_sn2 = 'Nomoto2013_net'#'chieffi04_net'#'TNG_net'\n",
    "    a.yield_table_name_agb = 'Karakas16_net'#'Ventura_net'#'Ventura_net'#'Karakas_net_yield'#Karakas16_net'#Ventura_net'#'TNG_net'\n",
    "    a.yield_table_name_1a = 'Thielemann'#'Iwamoto'#'Thielemann'#Seitenzahl'#'TNG'\n",
    "else:\n",
    "    raise Exception(\"Wrong name\")\n",
    "    \n",
    "# imf parameters\n",
    "a.only_net_yields_in_process_tables = True\n",
    "a.imf_type_name = 'Chabrier_TNG'\n",
    "#default\n",
    "a.high_mass_slope = -2.3\n",
    "a.imf_parameter = (0.852464,0.237912,0.69,0.079, a.high_mass_slope)\n",
    "a.mmin = 0.1\n",
    "a.mmax = 100\n",
    "# 100,000,000 mass steps are smooth enough for 1000 time steps\n",
    "a.mass_steps = 200000 #2000 # 200000\n",
    "a.sn2mmin = 8.\n",
    "a.sn2mmax = 100.\n",
    "a.bhmmin = float(a.sn2mmax) ## maximum of hypernova\n",
    "a.bhmmax = float(a.mmax) ## maximum of the IMF\n",
    "\n",
    "# sn1a delay parameters for maoz\n",
    "#default\n",
    "a.N_0 = 0.0012882#np.power(10,-2.89)\n",
    "a.sn1a_time_delay = 0.04#np.power(10,-0.8)\n",
    "#alternative\n",
    "#a.N_0 = np.power(10,-3.49)\n",
    "#a.sn1a_time_delay = np.power(10,-0.88)\n",
    "\n",
    "a.sn1a_exponent = 1.12\n",
    "a.dummy = 0.0\n",
    "a.sn1a_parameter = [a.N_0,a.sn1a_time_delay,a.sn1a_exponent,a.dummy]\n",
    "######################## END OF SETTING CHEMPY PARAMETER FOR SSP YIELD TABLE PRODUCTION"
   ]
  },
  {
   "cell_type": "code",
   "execution_count": 116,
   "metadata": {},
   "outputs": [],
   "source": [
    "from Chempy.wrapper import SSP_wrap\n",
    "\n",
    "basic_ssp = SSP_wrap(a)\n",
    "\n",
    "basic_ssp.calculate_feedback(0.02,list(elements_to_trace),list(solar_fractions),np.copy(time_steps))"
   ]
  },
  {
   "cell_type": "code",
   "execution_count": 117,
   "metadata": {},
   "outputs": [],
   "source": [
    "differential_table = True # True is the default Chempy behaviour\n",
    "\n",
    "x = basic_ssp.agb_table\n",
    "y = basic_ssp.sn1a_table\n",
    "z = basic_ssp.sn2_table\n",
    "s = basic_ssp.bh_table\n",
    "d = basic_ssp.table\n",
    "\n",
    "#x2 = x+ (d['mass_of_ms_stars_dying']-x['mass_in_remnants'])\n",
    "\n",
    "u = np.zeros_like(x)\n",
    "names = list(u.dtype.names)\n",
    "\n",
    "ejected_mass = d['mass_of_ms_stars_dying']-d['mass_in_remnants']\n",
    "\n",
    "d2 = np.copy(d)\n",
    "for e,el in enumerate(elements_to_trace):\n",
    "    d2[el] = d[el]+ejected_mass*solar_fractions[e]\n",
    "\n",
    "final_els=[]\n",
    "for el in elements_to_trace:\n",
    "    final_els.append(np.sum(d2[el]))\n",
    "\n",
    "for j,jtem in enumerate(names):\n",
    "    u[jtem] = x[jtem] + y[jtem] + z[jtem] + s[jtem]\n",
    "for el in elements_to_trace:\n",
    "    d[el] = u[el]\n",
    "\n",
    "from Chempy.weighted_yield import imf_mass_fraction_non_nativ\n",
    "invimf = basic_ssp.inverse_imf\n",
    "imf = basic_ssp.imf\n",
    "\n",
    "sn2_mass=imf_mass_fraction_non_nativ(imf.dm,imf.x,a.sn2mmin,a.sn2mmax)\n",
    "agb_mass = imf_mass_fraction_non_nativ(imf.dm,imf.x,a.agbmmin,a.agbmmax)\n",
    "sn1a_mass = -np.sum(y['mass_in_remnants'])\n",
    "sn1a_mass = np.sum(d['sn2'])*1.3743416"
   ]
  },
  {
   "cell_type": "code",
   "execution_count": 118,
   "metadata": {},
   "outputs": [],
   "source": [
    "full_agb,full_sn2,full_sn1a = [np.zeros(len(elements_to_trace)) for _ in range(3)]\n",
    "for e,el in enumerate(elements_to_trace):\n",
    "        full_agb[e]=np.sum(x[el])+(agb_mass-np.sum(x['mass_in_remnants']))*solar_fractions[e]\n",
    "        full_sn2[e]=np.sum(z[el])+(sn2_mass-np.sum(z['mass_in_remnants']))*solar_fractions[e]\n",
    "        full_sn1a[e]=np.sum(y[el])"
   ]
  },
  {
   "cell_type": "code",
   "execution_count": 107,
   "metadata": {},
   "outputs": [],
   "source": [
    "np.savez('/mnt/store1/oliverphilcox/ChempyMultiData/TNG/yields_plot_%s.npz'%name_st,\n",
    "        agb=full_agb,sn2=full_sn2,sn1a=full_sn1a,elements=elements_to_trace)"
   ]
  },
  {
   "cell_type": "code",
   "execution_count": 119,
   "metadata": {},
   "outputs": [],
   "source": [
    "yieldT=np.load('/mnt/store1/oliverphilcox/ChempyMultiData/TNG/yields_plot_TNG.npz')\n",
    "yieldW=np.load('/mnt/store1/oliverphilcox/ChempyMultiData/TNG/yields_plot_WrongYield.npz')"
   ]
  },
  {
   "cell_type": "code",
   "execution_count": 139,
   "metadata": {},
   "outputs": [
    {
     "name": "stderr",
     "output_type": "stream",
     "text": [
      "/home/oliverphilcox/anaconda3/lib/python3.7/site-packages/ipykernel_launcher.py:39: RuntimeWarning: invalid value encountered in true_divide\n"
     ]
    },
    {
     "data": {
      "image/png": "[encoded data removed]",
      "text/plain": [
       "<Figure size 864x720 with 2 Axes>"
      ]
     },
     "metadata": {
      "needs_background": "light"
     },
     "output_type": "display_data"
    }
   ],
   "source": [
    "from matplotlib import gridspec\n",
    "\n",
    "# plot it\n",
    "fig = plt.figure(figsize=(12, 10)) \n",
    "gs = gridspec.GridSpec(2, 1, height_ratios=[3, 1]) \n",
    "ax0 = plt.subplot(gs[0])\n",
    "\n",
    "width=0.2\n",
    "al1=0.4\n",
    "yields=yieldT\n",
    "xax=np.arange(len(elements_to_trace))\n",
    "ax0.bar(xax,yields.f.agb+yields.f.sn2+yields.f.sn1a,width,color='blue',alpha=al1)\n",
    "ax0.bar(xax+width,yields.f.sn2,width,color='cyan',alpha=al1)\n",
    "ax0.bar(xax+2*width,yields.f.agb,width,color='g',alpha=al1)\n",
    "ax0.bar(xax+3*width,yields.f.sn1a,width,color='y',alpha=al1)\n",
    "width2=0.1\n",
    "yields=yieldW\n",
    "al2=0.6\n",
    "ax0.bar(xax,yields.f.agb+yields.f.sn2+yields.f.sn1a,width2,color='blue',alpha=al2,label='Total')\n",
    "ax0.bar(xax+width,yields.f.sn2,width2,color='cyan',alpha=al2,label=r'$\\mathrm{SN\\,II}$')\n",
    "ax0.bar(xax+width*2.,yields.f.agb,width2,color='g',alpha=al2,label='AGB')\n",
    "ax0.bar(xax+width*3.,yields.f.sn1a,width2,color='y',alpha=al2,label=r'$\\mathrm{SN\\,Ia}$')\n",
    "ax0.bar(elements_to_trace,-full_agb)\n",
    "plt.legend(fontsize=14)\n",
    "ax0.set_ylim([2.1e-6,0.35])\n",
    "ax0.set_xlim([-0.2,8.8])\n",
    "ax0.set_yscale('log');\n",
    "ax0.set_ylabel('Returned Stellar Mass Fraction',fontsize=16);\n",
    "plt.tick_params(axis='both', which='major', labelsize=14)\n",
    "\n",
    "ax0.text(2.4,0.115,'TNG Yields (Wide) vs Alternative Yields (Narrow)',fontsize=14)\n",
    "\n",
    "ax1 = plt.subplot(gs[1])\n",
    "width=0.2\n",
    "al1=0.7\n",
    "all_yield = (yieldW.f.agb+yieldW.f.sn2+yieldW.f.sn1a)/(yieldT.f.agb+yieldT.f.sn2+yieldT.f.sn1a)\n",
    "agb=yieldW.f.agb/yieldT.f.agb\n",
    "sn2=yieldW.f.sn2/yieldT.f.sn2\n",
    "sn1a=yieldW.f.sn1a/yieldT.f.sn1a\n",
    "xax=np.arange(len(elements_to_trace))\n",
    "ax1.bar(xax,all_yield-1,width,color='blue',label='Total',alpha=al1)\n",
    "ax1.bar(xax+width,sn2-1,width,color='cyan',label='SN\\,II',alpha=al1)\n",
    "ax1.bar(xax+2*width,agb-1,width,color='g',label='AGB',alpha=al1)\n",
    "ax1.bar(xax+3*width,sn1a-1,width,color='y',label='SN\\,Ia',alpha=al1)\n",
    "ax1.plot(elements_to_trace,np.ones(len(elements_to_trace))*-10.)\n",
    "\n",
    "#ax1.set_ylim([-0.3,0.6])\n",
    "ax1.set_ylim([-0.6,0.7])\n",
    "ax1.text(.1,0.48,'Alternative yields to TNG yields',fontsize=13)\n",
    "ax1.set_xlim([-0.2,8.8])\n",
    "ax1.set_ylabel('Ratio - 1',fontsize=16);\n",
    "plt.tick_params(axis='both', which='major', labelsize=14)\n",
    "\n",
    "ax0.grid(axis='both',which='both',color='k',alpha=0.2)\n",
    "ax1.grid(axis='both',which='both',color='k',alpha=0.2)\n",
    "\n",
    "plt.savefig('/home/oliverphilcox/ChempyMulti/Plots_New/Mass_Fraction_Comparison.pdf',bbox_inches='tight')"
   ]
  },
  {
   "cell_type": "code",
   "execution_count": null,
   "metadata": {},
   "outputs": [],
   "source": []
  },
  {
   "cell_type": "code",
   "execution_count": null,
   "metadata": {},
   "outputs": [],
   "source": []
  }
 ],
 "metadata": {
  "kernelspec": {
   "display_name": "Python 3",
   "language": "python",
   "name": "python3"
  },
  "language_info": {
   "codemirror_mode": {
    "name": "ipython",
    "version": 3
   },
   "file_extension": ".py",
   "mimetype": "text/x-python",
   "name": "python",
   "nbconvert_exporter": "python",
   "pygments_lexer": "ipython3",
   "version": "3.7.0"
  }
 },
 "nbformat": 4,
 "nbformat_minor": 2
}
