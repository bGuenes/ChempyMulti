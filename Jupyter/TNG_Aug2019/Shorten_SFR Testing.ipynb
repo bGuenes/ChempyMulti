{
 "cells": [
  {
   "cell_type": "code",
   "execution_count": 1,
   "metadata": {},
   "outputs": [
    {
     "name": "stdout",
     "output_type": "stream",
     "text": [
      "Populating the interactive namespace from numpy and matplotlib\n"
     ]
    }
   ],
   "source": [
    "%pylab inline\n",
    "import os\n",
    "os.chdir('/home/oliverphilcox/ChempyMulti/')\n",
    "from Chempy.parameter import ModelParameters\n",
    "from Chempy.cem_function import single_timestep_chempy\n",
    "a=ModelParameters()\n",
    "from Chempy.sfr import SFR\n",
    "\n",
    "age_of_star=10\n",
    "\n",
    "new_timesteps = int((a.time_steps-1)*a.end/(a.end-age_of_star)+1)\n",
    "new_end = (a.end-age_of_star)*(new_timesteps-1)/(a.time_steps-1)\n",
    "\n",
    "## SHOULD WE NORMALIZE BY NEW OR OLD END TIME?\n",
    "basic_sfr = SFR(a.start,new_end,new_timesteps)\n",
    "\n",
    "old_sfr = SFR(a.start,a.end,a.time_steps)\n",
    "\n",
    "if a.basic_sfr_name == 'gamma_function':\n",
    "    getattr(basic_sfr, a.basic_sfr_name)(S0 = a.S_0 * a.mass_factor,a_parameter = a.a_parameter, loc = a.sfr_beginning, scale = a.sfr_scale)\n",
    "    getattr(old_sfr, a.basic_sfr_name)(S0 = a.S_0 * a.mass_factor,a_parameter = a.a_parameter, loc = a.sfr_beginning, scale = a.sfr_scale)\n",
    "\n",
    "\n",
    "# compute a small correction from changing the simulation end time\n",
    "from scipy.stats import gamma\n",
    "basic_gamma = np.sum(gamma.pdf(basic_sfr.t,a.a_parameter,a.sfr_beginning,a.sfr_scale))*basic_sfr.dt\n",
    "old_gamma = np.sum(gamma.pdf(old_sfr.t,a.a_parameter,a.sfr_beginning,a.sfr_scale))*old_sfr.dt\n",
    "correction = basic_gamma/old_gamma\n",
    "a.total_mass*=correction\n",
    "\n",
    "## NB: SFR is a discrete quantity showing the amount of mass formed in each time bin\n",
    "basic_sfr.sfr = a.total_mass * np.divide(basic_sfr.sfr,sum(basic_sfr.sfr))\n",
    "mass_normalisation = a.total_mass\n",
    "## mean_sfr is an actual RATE unlikfe .sfr \n",
    "mean_sfr = sum(basic_sfr.sfr) / new_end\n",
    "\n",
    "# at which time in the simulation is the star born\n",
    "star_time = a.end-age_of_star#basic_sfr.t[-1] - age_of_star\n",
    "cut = [np.where(np.abs(basic_sfr.t - star_time) == np.min(np.abs(basic_sfr.t - star_time)))]\n",
    "if len(cut[0][0]) != 1:\n",
    "    cut = cut[0][0][0]"
   ]
  },
  {
   "cell_type": "code",
   "execution_count": 2,
   "metadata": {},
   "outputs": [],
   "source": [
    "# updating the end time and the model steps and rescale the total mass\n",
    "time_model = float(basic_sfr.t[tuple(cut)])\n",
    "a.end = time_model\n",
    "a.time_steps = int(cut[0][0]) + 1\n",
    "\n",
    "\n",
    "## this is new amount of mass formed in this time period (dimensionless)\n",
    "a.total_mass = sum(basic_sfr.sfr[0:a.time_steps])\n"
   ]
  },
  {
   "cell_type": "code",
   "execution_count": 3,
   "metadata": {},
   "outputs": [],
   "source": [
    "# check whether the sfr is enough at end to produce reasonable number of stars (which is necessary in order to have a probability to observe a star at all)\n",
    "sfr_at_end = float(basic_sfr.sfr[tuple(cut)] / basic_sfr.dt) # convert to an actual rate\n",
    "fraction_of_mean_sfr = sfr_at_end / mean_sfr\n",
    "\n",
    "a.shortened_sfr_rescaling = a.total_mass / mass_normalisation\t\n",
    "\n",
    "if fraction_of_mean_sfr<0.05:\n",
    "    print(\"bad\")\n",
    "else:\n",
    "    pass\n",
    "#assert fraction_of_mean_sfr > 0.05, ('The total SFR of the last age bin is below 5% of the mean SFR', 'stellar identifier = ', a.stellar_identifier, 'star time = ', star_time, 'model time = ', time_model ) "
   ]
  },
  {
   "cell_type": "markdown",
   "metadata": {},
   "source": [
    "## Check where a.end is used later?"
   ]
  },
  {
   "cell_type": "code",
   "execution_count": null,
   "metadata": {},
   "outputs": [],
   "source": []
  }
 ],
 "metadata": {
  "kernelspec": {
   "display_name": "Python 3",
   "language": "python",
   "name": "python3"
  },
  "language_info": {
   "codemirror_mode": {
    "name": "ipython",
    "version": 3
   },
   "file_extension": ".py",
   "mimetype": "text/x-python",
   "name": "python",
   "nbconvert_exporter": "python",
   "pygments_lexer": "ipython3",
   "version": "3.7.0"
  }
 },
 "nbformat": 4,
 "nbformat_minor": 2
}
