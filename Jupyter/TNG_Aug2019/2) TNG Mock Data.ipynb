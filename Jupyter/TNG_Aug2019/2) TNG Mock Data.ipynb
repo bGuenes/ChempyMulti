{
 "cells": [
  {
   "cell_type": "code",
   "execution_count": 1,
   "metadata": {},
   "outputs": [],
   "source": [
    "baseUrl = 'http://www.tng-project.org/api/'\n",
    "headers = {\"api-key\":\"c9a75a056da4fcd072dbe6951190537d\"}\n",
    "import requests\n",
    "\n",
    "def get(path, params=None):\n",
    "# make HTTP GET request to path\n",
    "    headers = {\"api-key\":\"c9a75a056da4fcd072dbe6951190537d\"}\n",
    "    r = requests.get(path, params=params, headers=headers)\n",
    "\n",
    "    # raise exception if response code is not HTTP SUCCESS (200)\n",
    "    r.raise_for_status()\n",
    "\n",
    "    if r.headers['content-type'] == 'application/json':\n",
    "        return r.json() # parse json responses automatically\n",
    "\n",
    "    if 'content-disposition' in r.headers:\n",
    "        filename = r.headers['content-disposition'].split(\"filename=\")[1]\n",
    "        with open(filename, 'wb') as f:\n",
    "            f.write(r.content)\n",
    "        return filename # return the filename string\n",
    "\n",
    "    return r"
   ]
  },
  {
   "cell_type": "markdown",
   "metadata": {},
   "source": [
    "Check base simulations"
   ]
  },
  {
   "cell_type": "code",
   "execution_count": 2,
   "metadata": {},
   "outputs": [],
   "source": [
    "r=get(baseUrl)\n",
    "names = [sim['name'] for sim in r['simulations']]"
   ]
  },
  {
   "cell_type": "code",
   "execution_count": 4,
   "metadata": {
    "scrolled": true
   },
   "outputs": [
    {
     "data": {
      "text/plain": [
       "['Illustris-1',\n",
       " 'Illustris-1-Dark',\n",
       " 'Illustris-2',\n",
       " 'Illustris-2-Dark',\n",
       " 'Illustris-3',\n",
       " 'Illustris-3-Dark',\n",
       " 'TNG100-1',\n",
       " 'TNG100-1-Dark',\n",
       " 'TNG100-2',\n",
       " 'TNG100-2-Dark',\n",
       " 'TNG100-3',\n",
       " 'TNG100-3-Dark',\n",
       " 'TNG300-3',\n",
       " 'TNG300-2-Dark',\n",
       " 'TNG300-2',\n",
       " 'TNG300-1-Dark',\n",
       " 'TNG300-1',\n",
       " 'TNG300-3-Dark',\n",
       " 'Illustris-1-Subbox0',\n",
       " 'Illustris-1-Subbox1',\n",
       " 'Illustris-1-Subbox2',\n",
       " 'Illustris-1-Subbox3',\n",
       " 'Illustris-2-Subbox0',\n",
       " 'Illustris-2-Subbox1',\n",
       " 'Illustris-2-Subbox2',\n",
       " 'Illustris-2-Subbox3',\n",
       " 'Illustris-3-Subbox0',\n",
       " 'Illustris-3-Subbox1',\n",
       " 'Illustris-3-Subbox2',\n",
       " 'Illustris-3-Subbox3',\n",
       " 'TNG100-1-Subbox0',\n",
       " 'TNG100-1-Subbox1',\n",
       " 'TNG100-2-Subbox0',\n",
       " 'TNG100-2-Subbox1',\n",
       " 'TNG100-3-Subbox0',\n",
       " 'TNG100-3-Subbox1',\n",
       " 'TNG300-3-Subbox1',\n",
       " 'TNG300-3-Subbox2',\n",
       " 'TNG300-3-Subbox0',\n",
       " 'TNG300-2-Subbox1',\n",
       " 'TNG300-2-Subbox2',\n",
       " 'TNG300-2-Subbox0',\n",
       " 'TNG300-1-Subbox1',\n",
       " 'TNG300-1-Subbox2',\n",
       " 'TNG300-1-Subbox0']"
      ]
     },
     "execution_count": 4,
     "metadata": {},
     "output_type": "execute_result"
    }
   ],
   "source": [
    "names"
   ]
  },
  {
   "cell_type": "code",
   "execution_count": 5,
   "metadata": {},
   "outputs": [
    {
     "name": "stdout",
     "output_type": "stream",
     "text": [
      "94\n"
     ]
    }
   ],
   "source": [
    "mass_min = 10**11.99 / 1e10 *0.704\n",
    "mass_max = 10**12.01 / 1e10 *0.704\n",
    "\n",
    "search_query = \"?mass__gt=\" + str(mass_min) + \"&mass__lt=\" + str(mass_max)\n",
    "\n",
    "url = \"http://www.tng-project.org/api/TNG100-1/snapshots/z=0/subhalos/\" + search_query\n",
    "\n",
    "subhalos = get(url)\n",
    "\n",
    "# Number of relevant subhalos\n",
    "print(subhalos['count'])\n",
    "\n"
   ]
  },
  {
   "cell_type": "markdown",
   "metadata": {},
   "source": [
    "Find the closest subhalo to $10^{12}\\,\\mathrm{M}_\\odot$"
   ]
  },
  {
   "cell_type": "code",
   "execution_count": 6,
   "metadata": {},
   "outputs": [],
   "source": [
    "mass=[]\n",
    "for i in range(subhalos['count']):\n",
    "    mass.append(subhalos['results'][i]['mass_log_msun'])\n"
   ]
  },
  {
   "cell_type": "code",
   "execution_count": 7,
   "metadata": {},
   "outputs": [
    {
     "name": "stdout",
     "output_type": "stream",
     "text": [
      "Populating the interactive namespace from numpy and matplotlib\n"
     ]
    },
    {
     "name": "stderr",
     "output_type": "stream",
     "text": [
      "/home/oliverphilcox/anaconda3/lib/python3.7/site-packages/IPython/core/magics/pylab.py:160: UserWarning: pylab import has clobbered these variables: ['get']\n",
      "`%matplotlib` prevents importing * from pylab and numpy\n",
      "  \"\\n`%matplotlib` prevents importing * from pylab and numpy\"\n"
     ]
    }
   ],
   "source": [
    "%pylab inline\n",
    "index=np.where(np.abs(np.asarray(mass)-12.)==min(np.abs(np.asarray(mass)-12.)))[0][0]"
   ]
  },
  {
   "cell_type": "code",
   "execution_count": 8,
   "metadata": {},
   "outputs": [
    {
     "name": "stdout",
     "output_type": "stream",
     "text": [
      "523071 12.007329904550922\n"
     ]
    }
   ],
   "source": [
    "id = subhalos['results'][index]['id']\n",
    "mass = subhalos['results'][index]['mass_log_msun']\n",
    "print(id,mass)"
   ]
  },
  {
   "cell_type": "code",
   "execution_count": 11,
   "metadata": {},
   "outputs": [
    {
     "name": "stdout",
     "output_type": "stream",
     "text": [
      "http://www.tng-project.org/api/TNG100-1/snapshots/z=0.0/subhalos/523071\n"
     ]
    }
   ],
   "source": [
    "import h5py\n",
    "import numpy as np\n",
    "\n",
    "which_sim = 'TNG100-1'\n",
    "redshift = 0.0\n",
    "params = {'stars':'GFM_Metals,GFM_StellarFormationTime,GFM_InitialMass'}\n",
    "\n",
    "scale_factor = 1.0 / (1+redshift)\n",
    "little_h = 0.6774\n",
    "solar_Z = 0.0127\n",
    "\n",
    "url = \"http://www.tng-project.org/api/\"+str(which_sim)+\"/snapshots/z=\" + str(redshift) + \"/subhalos/\" + str(id)\n",
    "print(url)\n"
   ]
  },
  {
   "cell_type": "code",
   "execution_count": 12,
   "metadata": {},
   "outputs": [
    {
     "name": "stdout",
     "output_type": "stream",
     "text": [
      "\n"
     ]
    },
    {
     "ename": "TypeError",
     "evalue": "can only concatenate str (not \"dict\") to str",
     "output_type": "error",
     "traceback": [
      "\u001b[0;31m---------------------------------------------------------------------------\u001b[0m",
      "\u001b[0;31mTypeError\u001b[0m                                 Traceback (most recent call last)",
      "\u001b[0;32m<ipython-input-12-2d829dfa1151>\u001b[0m in \u001b[0;36m<module>\u001b[0;34m()\u001b[0m\n\u001b[1;32m      1\u001b[0m \u001b[0msub\u001b[0m \u001b[0;34m=\u001b[0m \u001b[0mget\u001b[0m\u001b[0;34m(\u001b[0m\u001b[0murl\u001b[0m\u001b[0;34m)\u001b[0m \u001b[0;31m# get json response of subhalo properties\u001b[0m\u001b[0;34m\u001b[0m\u001b[0m\n\u001b[0;32m----> 2\u001b[0;31m \u001b[0msaved_filename\u001b[0m \u001b[0;34m=\u001b[0m \u001b[0mget\u001b[0m\u001b[0;34m(\u001b[0m\u001b[0murl\u001b[0m \u001b[0;34m+\u001b[0m \u001b[0;34m\"/cutout.hdf5\"\u001b[0m\u001b[0;34m,\u001b[0m\u001b[0mparams\u001b[0m\u001b[0;34m)\u001b[0m \u001b[0;31m# get and save HDF5 cutout file\u001b[0m\u001b[0;34m\u001b[0m\u001b[0m\n\u001b[0m",
      "\u001b[0;32m~/anaconda3/lib/python3.7/site-packages/matplotlib/artist.py\u001b[0m in \u001b[0;36mgetp\u001b[0;34m(obj, property)\u001b[0m\n\u001b[1;32m   1380\u001b[0m         \u001b[0;32mreturn\u001b[0m\u001b[0;34m\u001b[0m\u001b[0m\n\u001b[1;32m   1381\u001b[0m \u001b[0;34m\u001b[0m\u001b[0m\n\u001b[0;32m-> 1382\u001b[0;31m     \u001b[0mfunc\u001b[0m \u001b[0;34m=\u001b[0m \u001b[0mgetattr\u001b[0m\u001b[0;34m(\u001b[0m\u001b[0mobj\u001b[0m\u001b[0;34m,\u001b[0m \u001b[0;34m'get_'\u001b[0m \u001b[0;34m+\u001b[0m \u001b[0mproperty\u001b[0m\u001b[0;34m)\u001b[0m\u001b[0;34m\u001b[0m\u001b[0m\n\u001b[0m\u001b[1;32m   1383\u001b[0m     \u001b[0;32mreturn\u001b[0m \u001b[0mfunc\u001b[0m\u001b[0;34m(\u001b[0m\u001b[0;34m)\u001b[0m\u001b[0;34m\u001b[0m\u001b[0m\n\u001b[1;32m   1384\u001b[0m \u001b[0;34m\u001b[0m\u001b[0m\n",
      "\u001b[0;31mTypeError\u001b[0m: can only concatenate str (not \"dict\") to str"
     ]
    }
   ],
   "source": [
    "sub = get(url) # get json response of subhalo properties\n",
    "saved_filename = get(url + \"/cutout.hdf5\",params) # get and save HDF5 cutout file"
   ]
  },
  {
   "cell_type": "code",
   "execution_count": null,
   "metadata": {},
   "outputs": [],
   "source": []
  },
  {
   "cell_type": "code",
   "execution_count": 13,
   "metadata": {},
   "outputs": [],
   "source": [
    "input_filename='/mnt/store1/oliverphilcox/ChempyMultiData/TNG/cutout_523071.hdf5'"
   ]
  },
  {
   "cell_type": "code",
   "execution_count": 14,
   "metadata": {},
   "outputs": [],
   "source": [
    "import h5py\n",
    "with h5py.File(input_filename) as f:\n",
    "    all_metal_fractions = f['PartType4']['GFM_Metals'][:]\n",
    "    metal_names=['H', 'He', 'C', 'N', 'O','Ne', 'Mg', 'Si', 'Fe','rest']\n",
    "    star_formation_time_scale_factor= f['PartType4']['GFM_StellarFormationTime'][:]\n",
    "    #initial_mass = f['PartType4']['GFM_InitialMass'].value"
   ]
  },
  {
   "cell_type": "code",
   "execution_count": 18,
   "metadata": {},
   "outputs": [
    {
     "name": "stdout",
     "output_type": "stream",
     "text": [
      "Populating the interactive namespace from numpy and matplotlib\n"
     ]
    },
    {
     "name": "stderr",
     "output_type": "stream",
     "text": [
      "/home/oliverphilcox/anaconda3/lib/python3.7/site-packages/IPython/core/magics/pylab.py:160: UserWarning: pylab import has clobbered these variables: ['f']\n",
      "`%matplotlib` prevents importing * from pylab and numpy\n",
      "  \"\\n`%matplotlib` prevents importing * from pylab and numpy\"\n"
     ]
    }
   ],
   "source": [
    "# Import solar abundances\n",
    "import os\n",
    "%pylab inline\n",
    "os.chdir('/home/oliverphilcox/ChempyMulti/')\n",
    "from Chempy.solar_abundance import solar_abundances\n",
    "solar=solar_abundances()\n",
    "getattr(solar,'Asplund09')()#5_pure_solar')()"
   ]
  },
  {
   "cell_type": "code",
   "execution_count": 26,
   "metadata": {},
   "outputs": [],
   "source": [
    "# First get correct photospheric abundances and masses\n",
    "good_els = metal_names[:-1] # exclude 'rest'\n",
    "el_masses=np.zeros(len(good_els))\n",
    "phot_abuns=np.zeros(len(good_els))\n",
    "no_fractions = np.zeros([len(all_metal_fractions),len(good_els)])\n",
    "for e,el in enumerate(good_els):\n",
    "    for i in range(len(solar.all_elements)):\n",
    "        if solar.all_elements[i]==el:\n",
    "            el_masses[e]=solar.all_element_masses[i]\n",
    "            phot_abuns[e]=solar.table['photospheric'][i]\n",
    "            break\n",
    "        if i==len(solar.all_elements)-1:\n",
    "            raise Exception('Failed to find element %s'%el)\n",
    "    if el=='Fe':\n",
    "        Fe_index = e\n",
    "    if el=='H':\n",
    "        H_index = e\n",
    "    no_fractions[:,e]=all_metal_fractions[:,e]/el_masses[e] # these are unnormalized but we only consider ratios\n",
    "\n",
    "# Now normalize by H and find [X/H] abundances:\n",
    "star_abun=np.zeros_like(no_fractions)\n",
    "for e in range(len(good_els)):\n",
    "    star_abun[:,e] = np.log10(no_fractions[:,e]/no_fractions[:,H_index])+12.-phot_abuns[e]\n",
    "    \n",
    "# Now convert to [X/Fe] abuns:\n",
    "for e,el in enumerate(good_els):\n",
    "    if el!='Fe':\n",
    "        star_abun[:,e]-=star_abun[:,Fe_index]\n",
    "    else:\n",
    "        pass # keep Fe/H form\n",
    "    \n",
    "# Now reorder to match TNG\n",
    "el_names = ['C','Fe','He','Mg','N','Ne','O','Si'] # TNG elements\n",
    "TNG_abun = np.zeros([len(star_abun),len(el_names)])\n",
    "for e,el in enumerate(el_names):\n",
    "    for m in range(len(good_els)):\n",
    "        if good_els[m]==el:\n",
    "            TNG_abun[:,e]=star_abun[:,m]\n",
    "            break"
   ]
  },
  {
   "cell_type": "markdown",
   "metadata": {},
   "source": [
    "Convert to time from scale-factor using Planck 2015 cosmology:"
   ]
  },
  {
   "cell_type": "code",
   "execution_count": 38,
   "metadata": {},
   "outputs": [],
   "source": [
    "from astropy.cosmology import Planck15\n",
    "star_formation_redshifts= [1./a-1. for a in star_formation_time_scale_factor]\n",
    "star_formation_times = Planck15.age(np.asarray(star_formation_redshifts)).value"
   ]
  },
  {
   "cell_type": "code",
   "execution_count": 42,
   "metadata": {},
   "outputs": [
    {
     "name": "stdout",
     "output_type": "stream",
     "text": [
      "Populating the interactive namespace from numpy and matplotlib\n"
     ]
    },
    {
     "data": {
      "image/png": "[encoded data removed]",
      "text/plain": [
       "<Figure size 432x288 with 1 Axes>"
      ]
     },
     "metadata": {
      "needs_background": "light"
     },
     "output_type": "display_data"
    }
   ],
   "source": [
    "%pylab inline\n",
    "plt.hist(star_formation_times,bins=50);"
   ]
  },
  {
   "cell_type": "markdown",
   "metadata": {},
   "source": [
    "Save all data:"
   ]
  },
  {
   "cell_type": "code",
   "execution_count": 43,
   "metadata": {},
   "outputs": [],
   "source": [
    "np.savez('/mnt/store1/oliverphilcox/ChempyMultiData/TNG/TNG_galaxy_uncut.npz',\n",
    "         birth_time=star_formation_times,elements=el_names,abundance=TNG_abun)"
   ]
  },
  {
   "cell_type": "markdown",
   "metadata": {},
   "source": [
    "Filter out any with $T<2$Gyr, or $T>13$Gyr to avoid errors:"
   ]
  },
  {
   "cell_type": "code",
   "execution_count": 46,
   "metadata": {},
   "outputs": [
    {
     "data": {
      "text/plain": [
       "(10.594256572434647, 0.28094606208649525)"
      ]
     },
     "execution_count": 46,
     "metadata": {},
     "output_type": "execute_result"
    }
   ],
   "source": [
    "max(star_formation_times),min(star_formation_times)"
   ]
  },
  {
   "cell_type": "code",
   "execution_count": 52,
   "metadata": {},
   "outputs": [],
   "source": [
    "good_index=np.where((star_formation_times>2.)&(star_formation_times<12.8))\n",
    "TNG_abuns = TNG_abun[good_index]\n",
    "#TNG_masses = initial_mass[good_index]\n",
    "TNG_times = star_formation_times[good_index]\n",
    "good_index2=np.where(np.max(np.abs(TNG_abuns),axis=1)<3.)\n",
    "TNG_abuns = TNG_abuns[good_index2]\n",
    "TNG_times = TNG_times[good_index2]\n",
    "#TNG_masses = TNG_masses[good_index2]"
   ]
  },
  {
   "cell_type": "markdown",
   "metadata": {},
   "source": [
    "#### Now add in observational errors"
   ]
  },
  {
   "cell_type": "code",
   "execution_count": 54,
   "metadata": {},
   "outputs": [],
   "source": [
    "ab_error = 0.05\n",
    "time_error = 0.2"
   ]
  },
  {
   "cell_type": "code",
   "execution_count": 55,
   "metadata": {},
   "outputs": [],
   "source": [
    "TNG_abun_err = np.ones_like(TNG_abuns)*ab_error\n",
    "TNG_times_err = (TNG_times*time_error).round(2)"
   ]
  },
  {
   "cell_type": "code",
   "execution_count": 58,
   "metadata": {},
   "outputs": [],
   "source": [
    "TNG_obs_abuns =np.random.normal(loc=TNG_abuns,scale=TNG_abun_err).round(2)\n",
    "TNG_obs_times=np.random.normal(loc=TNG_times,scale=TNG_times_err).round(2)"
   ]
  },
  {
   "cell_type": "markdown",
   "metadata": {},
   "source": [
    "First randomize these particles + remove any with bad time values:"
   ]
  },
  {
   "cell_type": "code",
   "execution_count": 63,
   "metadata": {},
   "outputs": [],
   "source": [
    "jitter = np.random.choice(range(len(TNG_abuns)),replace=False,size=len(TNG_abuns))\n",
    "TNG_abuns=TNG_abuns[jitter]\n",
    "TNG_times=TNG_times[jitter]\n",
    "TNG_obs_abuns=TNG_obs_abuns[jitter]\n",
    "TNG_abun_err=TNG_abun_err[jitter]\n",
    "TNG_times_err=TNG_times_err[jitter]\n",
    "TNG_obs_times=TNG_obs_times[jitter]\n",
    "\n",
    "filt = np.where((TNG_obs_times>2.)&(TNG_obs_times<13.8))\n",
    "TNG_abuns=TNG_abuns[filt]\n",
    "TNG_times=TNG_times[filt]\n",
    "TNG_obs_abuns=TNG_obs_abuns[filt]\n",
    "TNG_abun_err=TNG_abun_err[filt]\n",
    "TNG_times_err=TNG_times_err[filt]\n",
    "TNG_obs_times=TNG_obs_times[filt]\n"
   ]
  },
  {
   "cell_type": "markdown",
   "metadata": {},
   "source": [
    "Now save output:"
   ]
  },
  {
   "cell_type": "code",
   "execution_count": 76,
   "metadata": {},
   "outputs": [],
   "source": [
    "np.savez('/mnt/store1/oliverphilcox/ChempyMultiData/TNG/TNG_Mock_Data_Full.npz',galaxy_index=id,\n",
    "        redshift=redshift,mass=mass,elements=el_names,\n",
    "        abundances=TNG_obs_abuns,abundance_errs=TNG_abun_err,true_time=TNG_times,\n",
    "        obs_time=TNG_obs_times,obs_time_err=TNG_times_err,true_abuns=TNG_abuns)"
   ]
  },
  {
   "cell_type": "markdown",
   "metadata": {},
   "source": [
    " "
   ]
  },
  {
   "cell_type": "code",
   "execution_count": 82,
   "metadata": {},
   "outputs": [
    {
     "data": {
      "image/png": "[encoded data removed]",
      "text/plain": [
       "<Figure size 432x288 with 2 Axes>"
      ]
     },
     "metadata": {
      "needs_background": "light"
     },
     "output_type": "display_data"
    }
   ],
   "source": [
    "import matplotlib.pyplot as plt\n",
    "plt.hist2d(TNG_abuns[:,1],TNG_abuns[:,6],bins=100,range=[[-1.2,0.65],[0.1,0.8]]);\n",
    "plt.colorbar()\n",
    "plt.ylabel('[O/Fe]')\n",
    "plt.xlabel('[Fe/H]')\n",
    "plt.show()"
   ]
  }
 ],
 "metadata": {
  "kernelspec": {
   "display_name": "Python 3",
   "language": "python",
   "name": "python3"
  },
  "language_info": {
   "codemirror_mode": {
    "name": "ipython",
    "version": 3
   },
   "file_extension": ".py",
   "mimetype": "text/x-python",
   "name": "python",
   "nbconvert_exporter": "python",
   "pygments_lexer": "ipython3",
   "version": "3.7.0"
  }
 },
 "nbformat": 4,
 "nbformat_minor": 2
}
