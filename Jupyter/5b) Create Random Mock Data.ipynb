{
 "cells": [
  {
   "cell_type": "markdown",
   "metadata": {},
   "source": [
    "This mock data uses a fixed global parameter + random draws for the age and theta parameters."
   ]
  },
  {
   "cell_type": "markdown",
   "metadata": {},
   "source": [
    "13) MOCK DATASETS (don't use the AM207 ones):\n",
    "\n",
    "    a) Use some ISM parameters that represent different components of the ISM e.g. leave ISM parameters at their prior values and each time vary one by 2 sigma. one bursty SFR environment (SFR - 2sigma), one leaky (x_out + 2), one low SFE environment. And then see how well you can retrieve those. You will also see, that the ISM parameters are correlated (the signal will be redistributed into ather ISM parameters). I suggest it this way because in a paper you can plot the different tracks, name them (bursty, leaky etc) and plot the mock star abundances at specific times. And then you can show how well you can retrieve them. Of course you will have to add observational uncertainties to your predicted abundances. You can test with very low observational uncertainties, but a fair test would be to use typical observational uncertainties. This doesn't need any error parameters per element.\n",
    "    \n",
    "    b) In a last step you will need to do the inference with a wrong yield set as well (only then the error parameters per element will also be needed).\n",
    "\n"
   ]
  },
  {
   "cell_type": "code",
   "execution_count": 1,
   "metadata": {},
   "outputs": [
    {
     "name": "stdout",
     "output_type": "stream",
     "text": [
      "Populating the interactive namespace from numpy and matplotlib\n"
     ]
    }
   ],
   "source": [
    "%pylab inline\n",
    "import os\n",
    "os.chdir('/home/oliver/ChempyMulti/')\n",
    "from Chempy.parameter import ModelParameters\n",
    "from Chempy.cem_function import single_timestep_chempy\n",
    "a=ModelParameters()"
   ]
  },
  {
   "cell_type": "markdown",
   "metadata": {},
   "source": [
    "First we choose some SSP parameters:"
   ]
  },
  {
   "cell_type": "code",
   "execution_count": 43,
   "metadata": {},
   "outputs": [],
   "source": [
    "from scipy.stats import norm\n",
    "global_params = norm.rvs(loc=a.p0[:2],scale=[0.3,0.3]).round(2)"
   ]
  },
  {
   "cell_type": "code",
   "execution_count": 44,
   "metadata": {},
   "outputs": [
    {
     "data": {
      "text/plain": [
       "array([-2.52, -2.57])"
      ]
     },
     "execution_count": 44,
     "metadata": {},
     "output_type": "execute_result"
    }
   ],
   "source": [
    "global_params"
   ]
  },
  {
   "cell_type": "code",
   "execution_count": 185,
   "metadata": {},
   "outputs": [],
   "source": [
    "# Use 5 time datapoints\n",
    "N_stars = 200\n",
    "times = np.random.uniform(2,12,N_stars)\n",
    "\n",
    "log_SFR_lim = 0.29402\n",
    "\n",
    "ism_priors = a.p0[2:]\n",
    "ism_prior_widths = [0.3,0.1,0.1]\n",
    "\n",
    "ism_params = [np.random.normal(loc=ism_priors[i],scale=ism_prior_widths[i],size=N_stars) for i in range(len(ism_priors))]\n",
    "ism_params = np.asarray(ism_params).T.reshape(N_stars,len(ism_priors))\n",
    "\n",
    "from scipy.stats import truncnorm\n",
    "ism_params[:,1]=truncnorm.rvs((log_SFR_lim-ism_priors[1])/ism_prior_widths[1],np.inf,\n",
    "                              loc=ism_priors[1],scale=ism_prior_widths[1],size=N_stars)"
   ]
  },
  {
   "cell_type": "code",
   "execution_count": 190,
   "metadata": {},
   "outputs": [],
   "source": [
    "full_params = np.zeros([len(ism_params),6])\n",
    "for i in range(len(full_params)):\n",
    "    full_params[i]=np.asarray(list(global_params)+list(ism_params[i])+[times[i]])"
   ]
  },
  {
   "cell_type": "code",
   "execution_count": 191,
   "metadata": {},
   "outputs": [],
   "source": [
    "out=np.inf\n",
    "i=0\n",
    "while out==np.inf:\n",
    "    out=single_timestep_chempy((full_params[i],a))\n",
    "    i+=1\n",
    "_,chempy_els=out"
   ]
  },
  {
   "cell_type": "code",
   "execution_count": 192,
   "metadata": {},
   "outputs": [],
   "source": [
    "\n",
    "def runner(par):\n",
    "    \"\"\"Function to compute the Chempy predictions for each parameter set\"\"\"\n",
    "    b=ModelParameters()\n",
    "    output=single_timestep_chempy((par,b))\n",
    "    if type(output)==float:\n",
    "        if output==np.inf:\n",
    "            del b\n",
    "        outs=np.zeros(len(chempy_els))\n",
    "    else: \n",
    "        abun=output[0]\n",
    "        del b;\n",
    "        outs=abun\n",
    "    return outs\n"
   ]
  },
  {
   "cell_type": "code",
   "execution_count": 193,
   "metadata": {},
   "outputs": [],
   "source": [
    "mock_abundances=np.asarray([runner(par) for par in full_params])"
   ]
  },
  {
   "cell_type": "code",
   "execution_count": 201,
   "metadata": {},
   "outputs": [],
   "source": [
    "good_id=np.where(mock_abundances[:,0]!=0)\n",
    "mock_abundances2=mock_abundances[good_id]\n",
    "times2=times[good_id]\n",
    "full_params2=full_params[good_id]"
   ]
  },
  {
   "cell_type": "code",
   "execution_count": 202,
   "metadata": {},
   "outputs": [
    {
     "data": {
      "text/plain": [
       "200"
      ]
     },
     "execution_count": 202,
     "metadata": {},
     "output_type": "execute_result"
    }
   ],
   "source": [
    "len(full_params2)"
   ]
  },
  {
   "cell_type": "markdown",
   "metadata": {},
   "source": [
    "Use observational errors as solar errors here:"
   ]
  },
  {
   "cell_type": "code",
   "execution_count": 203,
   "metadata": {},
   "outputs": [],
   "source": [
    "sol_dat = np.load('Chempy/input/stars/Proto-sun_all.npy')\n",
    "sol_names = sol_dat.dtype.names\n",
    "all_sol_errors = sol_dat[1]"
   ]
  },
  {
   "cell_type": "code",
   "execution_count": 204,
   "metadata": {},
   "outputs": [],
   "source": [
    "obs_errors = np.zeros(len(a.initial_neural_names))\n",
    "for i,el in enumerate(a.initial_neural_names):\n",
    "    for j,el_sol in enumerate(sol_names):\n",
    "        if str(el)==str(sol_names[j]):\n",
    "            obs_errors[i]=all_sol_errors[j]\n",
    "            break\n",
    "        if j==len(sol_names)-1:\n",
    "            print('Element %s not found'%el)\n",
    "mock_ordered_abundances = np.zeros([len(mock_abundances2),len(a.initial_neural_names)])        \n",
    "for i,el in enumerate(a.initial_neural_names):\n",
    "    for j,el_chempy in enumerate(chempy_els):\n",
    "        if str(el)==str(chempy_els[j]):\n",
    "            mock_ordered_abundances[:,i]=mock_abundances2[:,j]\n",
    "            break\n",
    "        if j==len(chempy_els)-1:\n",
    "            print('Element %s not found'%el)\n",
    "        "
   ]
  },
  {
   "cell_type": "code",
   "execution_count": 205,
   "metadata": {},
   "outputs": [],
   "source": [
    "mock_errors = np.vstack([obs_errors for _ in range(len(mock_abundances2))])"
   ]
  },
  {
   "cell_type": "code",
   "execution_count": 234,
   "metadata": {},
   "outputs": [],
   "source": [
    "from scipy.stats import norm\n",
    "time_error = (0.05*times2).round(2)\n",
    "time_mean = norm.rvs(loc=times2,scale=time_error).round(2)\n",
    "#all_time_means = np.zeros(len(full_params2))\n",
    "#all_time_stds = np.zeros(len(full_params2))\n",
    "#for i in range(len(full_params2)):\n",
    "#    all_time_means[i]=time_mean[i%len(times2)]\n",
    "#    all_time_stds[i] = time_error[i%len(times2)]"
   ]
  },
  {
   "cell_type": "code",
   "execution_count": 238,
   "metadata": {},
   "outputs": [],
   "source": [
    "np.savez('ChempyMultiData/MockParamsRandom.npz',params=full_params2,abundances=mock_ordered_abundances,\n",
    "        time_mean = time_mean, time_error = time_error, abundance_error = mock_errors,elements=a.initial_neural_names)"
   ]
  },
  {
   "cell_type": "code",
   "execution_count": null,
   "metadata": {},
   "outputs": [],
   "source": []
  }
 ],
 "metadata": {
  "kernelspec": {
   "display_name": "Python 2",
   "language": "python",
   "name": "python2"
  },
  "language_info": {
   "codemirror_mode": {
    "name": "ipython",
    "version": 2
   },
   "file_extension": ".py",
   "mimetype": "text/x-python",
   "name": "python",
   "nbconvert_exporter": "python",
   "pygments_lexer": "ipython2",
   "version": "2.7.15"
  }
 },
 "nbformat": 4,
 "nbformat_minor": 2
}
