{
 "cells": [
  {
   "cell_type": "code",
   "execution_count": 1,
   "metadata": {},
   "outputs": [],
   "source": [
    "baseUrl = 'http://www.tng-project.org/api/'\n",
    "headers = {\"api-key\":\"c9a75a056da4fcd072dbe6951190537d\"}\n",
    "import requests\n",
    "\n",
    "def get(path, params=None):\n",
    "# make HTTP GET request to path\n",
    "    headers = {\"api-key\":\"c9a75a056da4fcd072dbe6951190537d\"}\n",
    "    r = requests.get(path, params=params, headers=headers)\n",
    "\n",
    "    # raise exception if response code is not HTTP SUCCESS (200)\n",
    "    r.raise_for_status()\n",
    "\n",
    "    if r.headers['content-type'] == 'application/json':\n",
    "        return r.json() # parse json responses automatically\n",
    "\n",
    "    if 'content-disposition' in r.headers:\n",
    "        filename = r.headers['content-disposition'].split(\"filename=\")[1]\n",
    "    with open(filename, 'wb') as f:\n",
    "         f.write(r.content)\n",
    "    return filename # return the filename string\n",
    "\n",
    "    return r"
   ]
  },
  {
   "cell_type": "markdown",
   "metadata": {},
   "source": [
    "Check base simulations"
   ]
  },
  {
   "cell_type": "code",
   "execution_count": 2,
   "metadata": {},
   "outputs": [],
   "source": [
    "r=get(baseUrl)\n",
    "names = [sim['name'] for sim in r['simulations']]\n"
   ]
  },
  {
   "cell_type": "code",
   "execution_count": 3,
   "metadata": {
    "scrolled": true
   },
   "outputs": [
    {
     "data": {
      "text/plain": [
       "['Illustris-1',\n",
       " 'Illustris-1-Dark',\n",
       " 'Illustris-2',\n",
       " 'Illustris-2-Dark',\n",
       " 'Illustris-3',\n",
       " 'Illustris-3-Dark',\n",
       " 'TNG100-1',\n",
       " 'TNG100-1-Dark',\n",
       " 'TNG100-2',\n",
       " 'TNG100-2-Dark',\n",
       " 'TNG100-3',\n",
       " 'TNG100-3-Dark',\n",
       " 'TNG300-3',\n",
       " 'TNG300-2-Dark',\n",
       " 'TNG300-2',\n",
       " 'TNG300-1-Dark',\n",
       " 'TNG300-1',\n",
       " 'TNG300-3-Dark',\n",
       " 'Illustris-1-Subbox0',\n",
       " 'Illustris-1-Subbox1',\n",
       " 'Illustris-1-Subbox2',\n",
       " 'Illustris-1-Subbox3',\n",
       " 'Illustris-2-Subbox0',\n",
       " 'Illustris-2-Subbox1',\n",
       " 'Illustris-2-Subbox2',\n",
       " 'Illustris-2-Subbox3',\n",
       " 'Illustris-3-Subbox0',\n",
       " 'Illustris-3-Subbox1',\n",
       " 'Illustris-3-Subbox2',\n",
       " 'Illustris-3-Subbox3',\n",
       " 'TNG100-1-Subbox0',\n",
       " 'TNG100-1-Subbox1',\n",
       " 'TNG100-2-Subbox0',\n",
       " 'TNG100-2-Subbox1',\n",
       " 'TNG100-3-Subbox0',\n",
       " 'TNG100-3-Subbox1',\n",
       " 'TNG300-3-Subbox1',\n",
       " 'TNG300-3-Subbox2',\n",
       " 'TNG300-3-Subbox0',\n",
       " 'TNG300-2-Subbox1',\n",
       " 'TNG300-2-Subbox2',\n",
       " 'TNG300-2-Subbox0',\n",
       " 'TNG300-1-Subbox1',\n",
       " 'TNG300-1-Subbox2',\n",
       " 'TNG300-1-Subbox0']"
      ]
     },
     "execution_count": 3,
     "metadata": {},
     "output_type": "execute_result"
    }
   ],
   "source": [
    "names"
   ]
  },
  {
   "cell_type": "code",
   "execution_count": 4,
   "metadata": {},
   "outputs": [
    {
     "name": "stdout",
     "output_type": "stream",
     "text": [
      "94\n"
     ]
    }
   ],
   "source": [
    "mass_min = 10**11.99 / 1e10 *0.704\n",
    "mass_max = 10**12.01 / 1e10 *0.704\n",
    "\n",
    "search_query = \"?mass__gt=\" + str(mass_min) + \"&mass__lt=\" + str(mass_max)\n",
    "\n",
    "url = \"http://www.tng-project.org/api/TNG100-1/snapshots/z=0/subhalos/\" + search_query\n",
    "\n",
    "subhalos = get(url)\n",
    "\n",
    "# Number of relevant subhalos\n",
    "print(subhalos['count'])\n",
    "\n"
   ]
  },
  {
   "cell_type": "markdown",
   "metadata": {},
   "source": [
    "Find the closest subhalo to $10^{12}\\,\\mathrm{M}_\\odot$"
   ]
  },
  {
   "cell_type": "code",
   "execution_count": 37,
   "metadata": {},
   "outputs": [],
   "source": [
    "mass=[]\n",
    "for i in range(subhalos['count']):\n",
    "    mass.append(subhalos['results'][i]['mass_log_msun'])\n"
   ]
  },
  {
   "cell_type": "code",
   "execution_count": 45,
   "metadata": {},
   "outputs": [],
   "source": [
    "index=np.where(np.abs(np.asarray(mass)-12.)==min(np.abs(np.asarray(mass)-12.)))[0][0]"
   ]
  },
  {
   "cell_type": "code",
   "execution_count": 97,
   "metadata": {},
   "outputs": [
    {
     "name": "stdout",
     "output_type": "stream",
     "text": [
      "509079 11.999996915511192\n"
     ]
    }
   ],
   "source": [
    "id = subhalos['results'][index]['id']\n",
    "mass = subhalos['results'][index]['mass_log_msun']\n",
    "print(id,mass)"
   ]
  },
  {
   "cell_type": "code",
   "execution_count": 156,
   "metadata": {},
   "outputs": [
    {
     "name": "stdout",
     "output_type": "stream",
     "text": [
      "http://www.tng-project.org/api/TNG100-1/snapshots/z=0.0/subhalos/509079\n"
     ]
    }
   ],
   "source": [
    "import h5py\n",
    "import numpy as np\n",
    "\n",
    "which_sim = 'TNG100-1'\n",
    "redshift = 0.0\n",
    "params = {'stars':'GFM_Metals,GFM_StellarFormationTime'}\n",
    "\n",
    "scale_factor = 1.0 / (1+redshift)\n",
    "little_h = 0.704\n",
    "solar_Z = 0.0127\n",
    "\n",
    "url = \"http://www.tng-project.org/api/\"+str(which_sim)+\"/snapshots/z=\" + str(redshift) + \"/subhalos/\" + str(id)\n",
    "print(url)\n",
    "sub = get(url) # get json response of subhalo properties\n",
    "#saved_filename = get(url + \"/cutout.hdf5\",params) # get and save HDF5 cutout file"
   ]
  },
  {
   "cell_type": "code",
   "execution_count": 166,
   "metadata": {},
   "outputs": [],
   "source": [
    "input_filename='/mnt/store1/oliverphilcox/ChempyMultiData/cutout_509079.hdf5'"
   ]
  },
  {
   "cell_type": "code",
   "execution_count": 195,
   "metadata": {},
   "outputs": [],
   "source": [
    "with h5py.File(input_filename) as f:\n",
    "    all_metal_fractions = f['PartType4']['GFM_Metals'][:]\n",
    "    metal_names=['H', 'He', 'C', 'N', 'O','Ne', 'Mg', 'Si', 'Fe','rest']\n",
    "    star_formation_time_scale_factor= f['PartType4']['GFM_StellarFormationTime'][:]"
   ]
  },
  {
   "cell_type": "code",
   "execution_count": 197,
   "metadata": {},
   "outputs": [],
   "source": [
    "# Import solar abundances\n",
    "import os\n",
    "os.chdir('/home/oliverphilcox/ChempyMulti/')\n",
    "from Chempy.solar_abundance import solar_abundances\n",
    "solar=solar_abundances()\n",
    "getattr(solar,'Asplund09')()\n",
    "\n",
    "solar_fractions = []\n",
    "for i in range(len(metal_names)):\n",
    "    for j in range(len(solar.all_elements)):\n",
    "        if solar.all_elements[j]==metal_names[i]:\n",
    "            solar_fractions.append(solar.fractions[j])\n",
    "    if metal_names[i]=='Fe':\n",
    "        Fe_index=i\n",
    "    if metal_names[i]=='H':\n",
    "        H_index=i"
   ]
  },
  {
   "cell_type": "code",
   "execution_count": 213,
   "metadata": {},
   "outputs": [],
   "source": [
    "# Now convert to abundances in desired order\n",
    "el_names = ['C','Fe','He','Mg','N','Ne','O','Si'] # TNG elements\n",
    "\n",
    "all_abuns = np.zeros([len(all_metal_fractions),len(el_names)])\n",
    "    \n",
    "Fe_frac = all_metal_fractions[:,Fe_index]\n",
    "H_frac = all_metal_fractions[:,H_index]\n",
    "sol_Fe_frac = solar_fractions[Fe_index]\n",
    "sol_H_frac = solar_fractions[H_index]\n",
    "\n",
    "for i,el in enumerate(el_names):\n",
    "    for j in range(len(metal_names)):  # pick out this element\n",
    "        if metal_names[j]==el:\n",
    "            this_abun = all_metal_fractions[:,j]\n",
    "            this_sol_abun = solar_fractions[j]\n",
    "            if el!='Fe': # [X/Fe]\n",
    "                all_abuns[:,i]=np.log10(this_abun/Fe_frac)-np.log10(this_sol_abun/sol_Fe_frac)\n",
    "            else: # [Fe/H]\n",
    "                all_abuns[:,i]=np.log10(this_abun/H_frac)-np.log10(this_sol_abun/sol_H_frac)"
   ]
  },
  {
   "cell_type": "markdown",
   "metadata": {},
   "source": [
    "Convert to time from scale-factor using Planck 2015 cosmology:"
   ]
  },
  {
   "cell_type": "code",
   "execution_count": 216,
   "metadata": {},
   "outputs": [],
   "source": [
    "from astropy.cosmology import Planck15\n",
    "star_formation_redshifts= [1./a-1. for a in star_formation_time_scale_factor]\n",
    "star_formation_times = Planck15.age(np.asarray(star_formation_redshifts)).value"
   ]
  },
  {
   "cell_type": "code",
   "execution_count": 217,
   "metadata": {},
   "outputs": [
    {
     "data": {
      "text/plain": [
       "array([ 3.38671035,  3.63107703,  3.6111983 , ..., 13.76503913,\n",
       "        1.70042229,  5.03045307])"
      ]
     },
     "execution_count": 217,
     "metadata": {},
     "output_type": "execute_result"
    }
   ],
   "source": [
    "star_formation_times"
   ]
  },
  {
   "cell_type": "code",
   "execution_count": 218,
   "metadata": {},
   "outputs": [
    {
     "data": {
      "text/plain": [
       "(array([ 345., 1295., 3400., 4196., 6022., 6410., 4892., 4901., 5791.,\n",
       "        3024.]),\n",
       " array([ 0.44178323,  1.77709942,  3.11241561,  4.44773179,  5.78304798,\n",
       "         7.11836417,  8.45368036,  9.78899654, 11.12431273, 12.45962892,\n",
       "        13.79494511]),\n",
       " <a list of 10 Patch objects>)"
      ]
     },
     "execution_count": 218,
     "metadata": {},
     "output_type": "execute_result"
    },
    {
     "data": {
      "image/png": "[encoded data removed]",
      "text/plain": [
       "<Figure size 432x288 with 1 Axes>"
      ]
     },
     "metadata": {
      "needs_background": "light"
     },
     "output_type": "display_data"
    }
   ],
   "source": [
    "plt.hist(star_formation_times)"
   ]
  },
  {
   "cell_type": "markdown",
   "metadata": {},
   "source": [
    "Filter out any with $T<2.5$Gyr, or $T>13$Gyr to avoid errors:"
   ]
  },
  {
   "cell_type": "code",
   "execution_count": 219,
   "metadata": {},
   "outputs": [],
   "source": [
    "good_index=np.where((star_formation_times>2.5)&(star_formation_times<13.))\n",
    "TNG_abuns = all_abuns[good_index]\n",
    "TNG_times = star_formation_times[good_index]"
   ]
  },
  {
   "cell_type": "code",
   "execution_count": 220,
   "metadata": {},
   "outputs": [],
   "source": [
    "TNG_abun_err = np.ones_like(TNG_abuns)*0.05\n",
    "TNG_times_err = (TNG_times*0.05).round(2)"
   ]
  },
  {
   "cell_type": "code",
   "execution_count": 221,
   "metadata": {},
   "outputs": [],
   "source": [
    "TNG_obs_times=np.random.normal(loc=TNG_times,scale=TNG_times_err).round(2)"
   ]
  },
  {
   "cell_type": "markdown",
   "metadata": {},
   "source": [
    "Now save output:"
   ]
  },
  {
   "cell_type": "code",
   "execution_count": 235,
   "metadata": {},
   "outputs": [],
   "source": [
    "np.savez('/mnt/store1/oliverphilcox/ChempyMultiData/TNG_Mock_Data.npz',galaxy_index=id,\n",
    "        redshift=redshift,mass=mass,elements=el_names,\n",
    "        abundances=TNG_abuns,abundance_errs=TNG_abun_err,true_time=TNG_times,\n",
    "        obs_time=TNG_obs_times,obs_time_err=TNG_times_err)"
   ]
  },
  {
   "cell_type": "code",
   "execution_count": 233,
   "metadata": {},
   "outputs": [
    {
     "data": {
      "text/plain": [
       "['C', 'Fe', 'He', 'Mg', 'N', 'Ne', 'O', 'Si']"
      ]
     },
     "execution_count": 233,
     "metadata": {},
     "output_type": "execute_result"
    }
   ],
   "source": [
    "el_names"
   ]
  },
  {
   "cell_type": "code",
   "execution_count": 234,
   "metadata": {},
   "outputs": [
    {
     "data": {
      "image/png": "[encoded data removed]",
      "text/plain": [
       "<Figure size 432x288 with 2 Axes>"
      ]
     },
     "metadata": {
      "needs_background": "light"
     },
     "output_type": "display_data"
    }
   ],
   "source": [
    "import matplotlib.pyplot as plt\n",
    "plt.hist2d(all_abuns[:,1],all_abuns[:,6]-all_abuns[:,1],bins=100,range=[[-1.2,0.55],[-0.3,2]]);\n",
    "plt.colorbar()\n",
    "plt.show()"
   ]
  },
  {
   "cell_type": "code",
   "execution_count": null,
   "metadata": {},
   "outputs": [],
   "source": []
  },
  {
   "cell_type": "code",
   "execution_count": null,
   "metadata": {},
   "outputs": [],
   "source": []
  },
  {
   "cell_type": "code",
   "execution_count": 125,
   "metadata": {},
   "outputs": [
    {
     "data": {
      "text/plain": [
       "(181244, 8)"
      ]
     },
     "execution_count": 125,
     "metadata": {},
     "output_type": "execute_result"
    }
   ],
   "source": [
    "np.savez('single_galaxy_TNG_abun',galaxy_index=id,simulation=which_sim,redshift=redshift,\n",
    "         elements=metal_names,metal_abundances=all_abuns)"
   ]
  },
  {
   "cell_type": "code",
   "execution_count": 90,
   "metadata": {},
   "outputs": [
    {
     "data": {
      "text/plain": [
       "(array([], dtype=int64),)"
      ]
     },
     "execution_count": 90,
     "metadata": {},
     "output_type": "execute_result"
    }
   ],
   "source": [
    "H_index"
   ]
  },
  {
   "cell_type": "code",
   "execution_count": 56,
   "metadata": {},
   "outputs": [
    {
     "name": "stdout",
     "output_type": "stream",
     "text": [
      "[[6.97522521e-01 2.60323972e-01 4.65612672e-03 ... 1.72789267e-03\n",
      "  1.69816788e-03 9.54122515e-04]\n",
      " [7.29375601e-01 2.50294209e-01 1.80620328e-03 ... 8.58818763e-04\n",
      "  6.33493997e-04 4.31123626e-04]\n",
      " [6.73260808e-01 2.70379603e-01 6.54468872e-03 ... 2.30360241e-03\n",
      "  2.62221624e-03 1.37329276e-03]\n",
      " ...\n",
      " [7.41879821e-01 2.48562321e-01 9.64688428e-04 ... 4.36709059e-04\n",
      "  4.84790449e-04 2.78658641e-04]\n",
      " [7.41067767e-01 2.47793376e-01 9.82807018e-04 ... 5.03072864e-04\n",
      "  4.15095041e-04 2.77052954e-04]\n",
      " [7.55702198e-01 2.41850585e-01 1.15483075e-04 ... 1.11346228e-04\n",
      "  5.85147027e-05 5.55702172e-05]]\n"
     ]
    }
   ],
   "source": [
    "ff=f['PartType4']\n",
    "print(ff['GFM_Metals'][:])"
   ]
  },
  {
   "cell_type": "code",
   "execution_count": 61,
   "metadata": {},
   "outputs": [
    {
     "data": {
      "text/plain": [
       "array([0.19171143, 0.13964944, 0.20660082, ..., 0.3868005 , 0.3357326 ,\n",
       "       0.24875507], dtype=float32)"
      ]
     },
     "execution_count": 61,
     "metadata": {},
     "output_type": "execute_result"
    }
   ],
   "source": [
    "ff['GFM_StellarFormationTime'][:]"
   ]
  },
  {
   "cell_type": "code",
   "execution_count": 65,
   "metadata": {},
   "outputs": [
    {
     "data": {
      "text/plain": [
       "array([[9.0689055e-04, 3.7806232e-02, 3.4404143e-03, 2.1186993e-03,\n",
       "        4.9365772e-04, 1.1012619e-03],\n",
       "       [2.6155429e-04, 1.9576987e-02, 4.9166888e-04, 3.1098558e-04,\n",
       "        1.4314937e-04, 4.8320933e-04],\n",
       "       [1.6935718e-03, 4.5719147e-02, 8.9469124e-03, 4.3223961e-03,\n",
       "        9.1501931e-04, 1.4034363e-03],\n",
       "       ...,\n",
       "       [4.7836083e-04, 7.4798502e-03, 1.5996499e-03, 1.5364431e-03,\n",
       "        2.5447318e-04, 1.8637045e-04],\n",
       "       [3.2172166e-04, 9.9975476e-03, 8.1958505e-04, 8.3742948e-04,\n",
       "        1.6801203e-04, 2.3282628e-04],\n",
       "       [3.9669150e-05, 2.2940210e-03, 1.1350744e-04, 7.8073877e-05,\n",
       "        1.9030513e-05, 3.7282891e-05]], dtype=float32)"
      ]
     },
     "execution_count": 65,
     "metadata": {},
     "output_type": "execute_result"
    }
   ],
   "source": [
    "ff['GFM_MetalsTagged'][:]"
   ]
  },
  {
   "cell_type": "code",
   "execution_count": 58,
   "metadata": {},
   "outputs": [
    {
     "data": {
      "text/plain": [
       "[(u'BirthPos', <HDF5 dataset \"BirthPos\": shape (22579, 3), type \"<f4\">),\n",
       " (u'BirthVel', <HDF5 dataset \"BirthVel\": shape (22579, 3), type \"<f4\">),\n",
       " (u'Coordinates', <HDF5 dataset \"Coordinates\": shape (22579, 3), type \"<f8\">),\n",
       " (u'GFM_InitialMass',\n",
       "  <HDF5 dataset \"GFM_InitialMass\": shape (22579,), type \"<f4\">),\n",
       " (u'GFM_Metallicity',\n",
       "  <HDF5 dataset \"GFM_Metallicity\": shape (22579,), type \"<f4\">),\n",
       " (u'GFM_Metals', <HDF5 dataset \"GFM_Metals\": shape (22579, 10), type \"<f4\">),\n",
       " (u'GFM_MetalsTagged',\n",
       "  <HDF5 dataset \"GFM_MetalsTagged\": shape (22579, 6), type \"<f4\">),\n",
       " (u'GFM_StellarFormationTime',\n",
       "  <HDF5 dataset \"GFM_StellarFormationTime\": shape (22579,), type \"<f4\">),\n",
       " (u'GFM_StellarPhotometrics',\n",
       "  <HDF5 dataset \"GFM_StellarPhotometrics\": shape (22579, 8), type \"<f4\">),\n",
       " (u'Masses', <HDF5 dataset \"Masses\": shape (22579,), type \"<f4\">),\n",
       " (u'ParticleIDs', <HDF5 dataset \"ParticleIDs\": shape (22579,), type \"<u8\">),\n",
       " (u'Potential', <HDF5 dataset \"Potential\": shape (22579,), type \"<f4\">),\n",
       " (u'StellarHsml', <HDF5 dataset \"StellarHsml\": shape (22579,), type \"<f4\">),\n",
       " (u'SubfindDMDensity',\n",
       "  <HDF5 dataset \"SubfindDMDensity\": shape (22579,), type \"<f4\">),\n",
       " (u'SubfindDensity',\n",
       "  <HDF5 dataset \"SubfindDensity\": shape (22579,), type \"<f4\">),\n",
       " (u'SubfindHsml', <HDF5 dataset \"SubfindHsml\": shape (22579,), type \"<f4\">),\n",
       " (u'SubfindVelDisp',\n",
       "  <HDF5 dataset \"SubfindVelDisp\": shape (22579,), type \"<f4\">),\n",
       " (u'Velocities', <HDF5 dataset \"Velocities\": shape (22579, 3), type \"<f4\">)]"
      ]
     },
     "execution_count": 58,
     "metadata": {},
     "output_type": "execute_result"
    }
   ],
   "source": [
    "ff.items()"
   ]
  },
  {
   "cell_type": "code",
   "execution_count": 66,
   "metadata": {},
   "outputs": [
    {
     "name": "stdout",
     "output_type": "stream",
     "text": [
      "http://www.tng-project.org/api/TNG300-1/snapshots/z=0.0/subhalos/21\n"
     ]
    }
   ],
   "source": [
    "import h5py\n",
    "import numpy as np\n",
    "\n",
    "which_sim = 'TNG100-1'\n",
    "id = 21\n",
    "redshift = 0.0\n",
    "params = {'gas':'all'}\n",
    "\n",
    "scale_factor = 1.0 / (1+redshift)\n",
    "little_h = 0.704\n",
    "solar_Z = 0.0127\n",
    "\n",
    "url = \"http://www.tng-project.org/api/\"+str(which_sim)+\"/snapshots/z=\" + str(redshift) + \"/subhalos/\" + str(id)\n",
    "print(url)\n",
    "sub = get(url) # get json response of subhalo properties\n",
    "saved_filename = get(url + \"/cutout.hdf5\",params) # get and save HDF5 cutout file"
   ]
  },
  {
   "cell_type": "code",
   "execution_count": 76,
   "metadata": {},
   "outputs": [
    {
     "data": {
      "text/plain": [
       "array([[0., 0., 0., ..., 0., 0., 0.],\n",
       "       [0., 0., 0., ..., 0., 0., 0.],\n",
       "       [0., 0., 0., ..., 0., 0., 0.],\n",
       "       ...,\n",
       "       [0., 0., 0., ..., 0., 0., 0.],\n",
       "       [0., 0., 0., ..., 0., 0., 0.],\n",
       "       [0., 0., 0., ..., 0., 0., 0.]], dtype=float32)"
      ]
     },
     "execution_count": 76,
     "metadata": {},
     "output_type": "execute_result"
    }
   ],
   "source": [
    "f2=h5py.File(saved_filename)\n",
    "ff2=f2['PartType4']\n",
    "ff2.items()\n",
    "ff2['GFM_Metals'][:]"
   ]
  },
  {
   "cell_type": "code",
   "execution_count": 74,
   "metadata": {},
   "outputs": [
    {
     "data": {
      "text/plain": [
       "array([[0., 0., 0., 0., 0., 0.],\n",
       "       [0., 0., 0., 0., 0., 0.],\n",
       "       [0., 0., 0., 0., 0., 0.],\n",
       "       ...,\n",
       "       [0., 0., 0., 0., 0., 0.],\n",
       "       [0., 0., 0., 0., 0., 0.],\n",
       "       [0., 0., 0., 0., 0., 0.]], dtype=float32)"
      ]
     },
     "execution_count": 74,
     "metadata": {},
     "output_type": "execute_result"
    }
   ],
   "source": [
    "ff2['GFM_MetalsTagged'][:]"
   ]
  },
  {
   "cell_type": "code",
   "execution_count": null,
   "metadata": {},
   "outputs": [],
   "source": []
  },
  {
   "cell_type": "code",
   "execution_count": null,
   "metadata": {},
   "outputs": [],
   "source": [
    " import h5py\n",
    ">>> import numpy as np\n",
    ">>>\n",
    ">>> id = 109974\n",
    ">>> redshift = 2.0\n",
    ">>> params = {'stars':'Coordinates,GFM_Metallicity'}\n",
    ">>>\n",
    ">>> scale_factor = 1.0 / (1+redshift)\n",
    ">>> little_h = 0.704\n",
    ">>> solar_Z = 0.0127\n",
    ">>>\n",
    ">>> url = \"http://www.tng-project.org/api/Illustris-1/snapshots/z=\" + str(redshift) + \"/subhalos/\" + str(id)\n",
    ">>> sub = get(url) # get json response of subhalo properties\n",
    ">>> saved_filename = get(url + \"/cutout.hdf5\",params) # get and save HDF5 cutout file\n",
    ">>>\n",
    ">>> with h5py.File(saved_filename) as f:\n",
    ">>>     # NOTE! If the subhalo is near the edge of the box, you must take the periodic boundary into account! (we ignore it here)\n",
    ">>>     dx = f['PartType4']['Coordinates'][:,0] - sub['pos_x']\n",
    ">>>     dy = f['PartType4']['Coordinates'][:,1] - sub['pos_y']\n",
    ">>>     dz = f['PartType4']['Coordinates'][:,2] - sub['pos_z']\n",
    ">>>     metals = f['PartType4']['GFM_Metallicity'][:]\n",
    ">>> \n",
    ">>>     rr = np.sqrt(dx**2 + dy**2 + dz**2)\n",
    ">>>     rr *= scale_factor/little_h # ckpc/h -> physical kpc\n",
    ">>> \n",
    ">>>     w = np.where( (rr >= 3.0) & (rr < 5.0) )    \n",
    ">>>     print np.mean( metals[w] ) / solar_Z\n",
    "\n",
    "0.248392603881"
   ]
  },
  {
   "cell_type": "code",
   "execution_count": null,
   "metadata": {},
   "outputs": [],
   "source": []
  },
  {
   "cell_type": "code",
   "execution_count": 9,
   "metadata": {},
   "outputs": [
    {
     "data": {
      "text/plain": [
       "[u'gasmetallicitysfr',\n",
       " u'massinrad_bhs',\n",
       " u'supplementary_data',\n",
       " u'starmetallicity',\n",
       " u'stellarphotometrics_b',\n",
       " u'grnr',\n",
       " u'spin_x',\n",
       " u'massinhalfrad_gas',\n",
       " u'stellarphotometrics_i',\n",
       " u'stellarphotometricsmassinrad',\n",
       " u'stellarphotometrics_k',\n",
       " u'primary_flag',\n",
       " u'stellarphotometrics_u',\n",
       " u'massinmaxrad_stars',\n",
       " u'stellarphotometrics_g',\n",
       " u'meta',\n",
       " u'mass_log_msun',\n",
       " u'len_bhs',\n",
       " u'massinrad_stars',\n",
       " u'windmass',\n",
       " u'vel_z',\n",
       " u'veldisp',\n",
       " u'id',\n",
       " u'massinhalfrad_stars',\n",
       " u'parent',\n",
       " u'vis',\n",
       " u'sfrinmaxrad',\n",
       " u'halfmassrad_bhs',\n",
       " u'vmaxrad',\n",
       " u'gasmetallicitysfrweighted',\n",
       " u'starmetallicitymaxrad',\n",
       " u'halfmassrad_dm',\n",
       " u'trees',\n",
       " u'halfmassrad_stars',\n",
       " u'massinhalfrad_bhs',\n",
       " u'massinmaxrad_gas',\n",
       " u'massinrad',\n",
       " u'mass_dm',\n",
       " u'vel_y',\n",
       " u'mass_bhs',\n",
       " u'stellarphotometrics_z',\n",
       " u'snap',\n",
       " u'spin_z',\n",
       " u'massinhalfrad',\n",
       " u'sfrinrad',\n",
       " u'gasmetallicityhalfrad',\n",
       " u'sfrinhalfrad',\n",
       " u'cutouts',\n",
       " u'mass_stars',\n",
       " u'stellarphotometrics_r',\n",
       " u'cm_y',\n",
       " u'cm_x',\n",
       " u'bhmdot',\n",
       " u'cm_z',\n",
       " u'massinrad_dm',\n",
       " u'stellarphotometrics_v',\n",
       " u'gasmetallicitymaxrad',\n",
       " u'sfr',\n",
       " u'prog_snap',\n",
       " u'len',\n",
       " u'len_dm',\n",
       " u'len_gas',\n",
       " u'massinmaxrad',\n",
       " u'massinhalfrad_dm',\n",
       " u'related',\n",
       " u'vmax',\n",
       " u'gasmetallicity',\n",
       " u'stellarphotometricsrad',\n",
       " u'spin_y',\n",
       " u'pos_z',\n",
       " u'vel_x',\n",
       " u'pos_x',\n",
       " u'pos_y',\n",
       " u'desc_sfid',\n",
       " u'prog_sfid',\n",
       " u'halfmassrad',\n",
       " u'starmetallicityhalfrad',\n",
       " u'massinmaxrad_bhs',\n",
       " u'massinrad_gas',\n",
       " u'mass_gas',\n",
       " u'halfmassrad_gas',\n",
       " u'len_stars',\n",
       " u'desc_snap',\n",
       " u'mass',\n",
       " u'massinmaxrad_dm']"
      ]
     },
     "execution_count": 9,
     "metadata": {},
     "output_type": "execute_result"
    }
   ],
   "source": [
    "# first convert log solar masses into group catalog units\n",
    ">>> mass_min = 10**11.9 / 1e10 * 0.704\n",
    ">>> mass_max = 10**12.1 / 1e10 * 0.704\n",
    "\n",
    ">>> # form the search_query string by hand for once\n",
    ">>> search_query = \"?mass__gt=\" + str(mass_min) + \"&mass__lt=\" + str(mass_max)\n",
    ">>> search_query\n",
    "'?mass__gt=55.9207077246&mass__lt=88.6283489903'\n",
    "\n",
    ">>> # form the url and make the request\n",
    ">>> a\n",
    ">>> subhalos = get(url)\n",
    ">>> subhalos['count']\n",
    "550\n",
    "\n",
    ">>> ids = [ subhalos['results'][i]['id'] for i in range(5) ]\n",
    ">>> ids\n",
    "[109974, 110822, 123175, 107743, 95711]"
   ]
  },
  {
   "cell_type": "code",
   "execution_count": null,
   "metadata": {},
   "outputs": [],
   "source": []
  }
 ],
 "metadata": {
  "kernelspec": {
   "display_name": "Python 3",
   "language": "python",
   "name": "python3"
  },
  "language_info": {
   "codemirror_mode": {
    "name": "ipython",
    "version": 3
   },
   "file_extension": ".py",
   "mimetype": "text/x-python",
   "name": "python",
   "nbconvert_exporter": "python",
   "pygments_lexer": "ipython3",
   "version": "3.7.0"
  }
 },
 "nbformat": 4,
 "nbformat_minor": 2
}
