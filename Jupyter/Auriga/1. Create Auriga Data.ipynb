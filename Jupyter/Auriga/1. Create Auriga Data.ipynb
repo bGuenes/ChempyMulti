{
 "cells": [
  {
   "cell_type": "markdown",
   "metadata": {},
   "source": [
    "# Notes on Auriga"
   ]
  },
  {
   "cell_type": "markdown",
   "metadata": {},
   "source": [
    "This uses different parameters to TNG. In particular \n",
    "- SNII Mass Range $[8,100]\\,M_\\odot$ (matching TNG)\n",
    "- AGB Mass Range $[1,8]\\,M_\\odot$ (matching TNG)\n",
    "- IMF Mass Range $[0.1,100]\\,M_\\odot$ (matching TNG)\n",
    "- SN$\\,$II Yields - Portinari (1998) (matching Illustris)\n",
    "- AGB Yields - Karakas (2010) (matching Illustris)\n",
    "- SN$\\,$Ia Yields - Thielemann (2003) \\& Travaglio (2004) (matching Illustris)\n",
    "- SN$\\,$Ia DTD uses $N_0 = 1.99 \\times 1.3\\times 10^{-3}$ - does this change $N_\\mathrm{Ia}$? (same as TNG)"
   ]
  },
  {
   "cell_type": "markdown",
   "metadata": {},
   "source": [
    "#### Load in Auriga z = 0 Mock"
   ]
  },
  {
   "cell_type": "code",
   "execution_count": 223,
   "metadata": {},
   "outputs": [],
   "source": [
    "input_filename='/mnt/store1/oliverphilcox/ChempyMultiData/Auriga/snapshot_reduced_halo_6_063.hdf5'"
   ]
  },
  {
   "cell_type": "markdown",
   "metadata": {},
   "source": [
    "#### First read in quantities"
   ]
  },
  {
   "cell_type": "code",
   "execution_count": 224,
   "metadata": {},
   "outputs": [],
   "source": [
    "import h5py\n",
    "with h5py.File(input_filename) as f:\n",
    "    h=f['Header']\n",
    "    Omega0=h.attrs.get('Omega0')\n",
    "    OmegaLambda=h.attrs.get('OmegaLambda')\n",
    "    HubbleParam=h.attrs.get('HubbleParam')\n",
    "    z=h.attrs.get('Redshift')\n",
    "    all_metal_fractions = f['PartType4']['GFM_Metals'][:]\n",
    "    metal_names=['H', 'He', 'C', 'N','O','Ne', 'Mg', 'Si', 'Fe']\n",
    "    star_age= f['PartType4']['GFM_StellarFormationTime'][:]\n",
    "    #initial_mass = f['PartType4']['GFM_InitialMass'].value"
   ]
  },
  {
   "cell_type": "markdown",
   "metadata": {},
   "source": [
    "#### Compute age"
   ]
  },
  {
   "cell_type": "code",
   "execution_count": 225,
   "metadata": {},
   "outputs": [],
   "source": [
    "from astropy.cosmology import FlatLambdaCDM"
   ]
  },
  {
   "cell_type": "code",
   "execution_count": 226,
   "metadata": {},
   "outputs": [],
   "source": [
    "model=FlatLambdaCDM(100*HubbleParam,Omega0,Tcmb0=2.725)\n",
    "univ_age=model.age(0).value"
   ]
  },
  {
   "cell_type": "markdown",
   "metadata": {},
   "source": [
    "#### Convert to abundances"
   ]
  },
  {
   "cell_type": "code",
   "execution_count": 227,
   "metadata": {},
   "outputs": [
    {
     "name": "stdout",
     "output_type": "stream",
     "text": [
      "Populating the interactive namespace from numpy and matplotlib\n"
     ]
    },
    {
     "name": "stderr",
     "output_type": "stream",
     "text": [
      "/home/oliverphilcox/anaconda3/lib/python3.7/site-packages/IPython/core/magics/pylab.py:160: UserWarning: pylab import has clobbered these variables: ['f']\n",
      "`%matplotlib` prevents importing * from pylab and numpy\n",
      "  \"\\n`%matplotlib` prevents importing * from pylab and numpy\"\n",
      "/home/oliverphilcox/anaconda3/lib/python3.7/site-packages/ipykernel_launcher.py:31: RuntimeWarning: divide by zero encountered in log10\n",
      "/home/oliverphilcox/anaconda3/lib/python3.7/site-packages/ipykernel_launcher.py:36: RuntimeWarning: invalid value encountered in subtract\n"
     ]
    }
   ],
   "source": [
    "# Import solar abundances\n",
    "import os\n",
    "%pylab inline\n",
    "os.chdir('/home/oliverphilcox/ChempyMulti/')\n",
    "from Chempy.solar_abundance import solar_abundances\n",
    "solar=solar_abundances()\n",
    "getattr(solar,'Asplund09')()#5_pure_solar')()\n",
    "\n",
    "# First get correct photospheric abundances and masses\n",
    "good_els = metal_names\n",
    "el_masses=np.zeros(len(good_els))\n",
    "phot_abuns=np.zeros(len(good_els))\n",
    "no_fractions = np.zeros([len(all_metal_fractions),len(good_els)])\n",
    "for e,el in enumerate(good_els):\n",
    "    for i in range(len(solar.all_elements)):\n",
    "        if solar.all_elements[i]==el:\n",
    "            el_masses[e]=solar.all_element_masses[i]\n",
    "            phot_abuns[e]=solar.table['photospheric'][i]\n",
    "            break\n",
    "        if i==len(solar.all_elements)-1:\n",
    "            raise Exception('Failed to find element %s'%el)\n",
    "    if el=='Fe':\n",
    "        Fe_index = e\n",
    "    if el=='H':\n",
    "        H_index = e\n",
    "    no_fractions[:,e]=all_metal_fractions[:,e]/el_masses[e]\n",
    "\n",
    "# Now normalize by H and find [X/H] abundances:\n",
    "star_abun=np.zeros_like(no_fractions)\n",
    "for e in range(len(good_els)):\n",
    "    star_abun[:,e] = np.log10(no_fractions[:,e]/no_fractions[:,H_index])+12.-phot_abuns[e]\n",
    "    \n",
    "# Now convert to [X/Fe] abuns:\n",
    "for e,el in enumerate(good_els):\n",
    "    if el!='Fe':\n",
    "        star_abun[:,e]-=star_abun[:,Fe_index]\n",
    "    else:\n",
    "        pass # keep Fe/H form\n",
    "    \n",
    "# Now reorder to match TNG\n",
    "el_names = ['C','Fe','He','Mg','N','Ne','O','Si'] # TNG elements\n",
    "TNG_abun = np.zeros([len(star_abun),len(el_names)])\n",
    "for e,el in enumerate(el_names):\n",
    "    for m in range(len(good_els)):\n",
    "        if good_els[m]==el:\n",
    "            TNG_abun[:,e]=star_abun[:,m]\n",
    "            break\n",
    "\n"
   ]
  },
  {
   "cell_type": "markdown",
   "metadata": {},
   "source": [
    "#### Convert to star formation time rather than age"
   ]
  },
  {
   "cell_type": "code",
   "execution_count": 228,
   "metadata": {
    "scrolled": true
   },
   "outputs": [],
   "source": [
    "star_formation_times = univ_age-star_age"
   ]
  },
  {
   "cell_type": "code",
   "execution_count": 229,
   "metadata": {},
   "outputs": [
    {
     "name": "stdout",
     "output_type": "stream",
     "text": [
      "Populating the interactive namespace from numpy and matplotlib\n"
     ]
    },
    {
     "name": "stderr",
     "output_type": "stream",
     "text": [
      "/home/oliverphilcox/anaconda3/lib/python3.7/site-packages/IPython/core/magics/pylab.py:160: UserWarning: pylab import has clobbered these variables: ['e']\n",
      "`%matplotlib` prevents importing * from pylab and numpy\n",
      "  \"\\n`%matplotlib` prevents importing * from pylab and numpy\"\n"
     ]
    },
    {
     "data": {
      "image/png": "[encoded data removed]",
      "text/plain": [
       "<Figure size 432x288 with 1 Axes>"
      ]
     },
     "metadata": {
      "needs_background": "light"
     },
     "output_type": "display_data"
    }
   ],
   "source": [
    "%pylab inline\n",
    "plt.hist(star_formation_times,bins=1000,density=True);"
   ]
  },
  {
   "cell_type": "markdown",
   "metadata": {},
   "source": [
    "#### Save all data:"
   ]
  },
  {
   "cell_type": "code",
   "execution_count": 230,
   "metadata": {},
   "outputs": [],
   "source": [
    "np.savez('/mnt/store1/oliverphilcox/ChempyMultiData/Auriga/All_Auriga_abundances.npz',\n",
    "         birth_time=star_formation_times,elements=el_names,abundance=TNG_abun)"
   ]
  },
  {
   "cell_type": "markdown",
   "metadata": {},
   "source": [
    "#### Filter out any with $T<2$Gyr, or $T>13$Gyr to avoid errors:"
   ]
  },
  {
   "cell_type": "code",
   "execution_count": 231,
   "metadata": {},
   "outputs": [],
   "source": [
    "good_index=np.where((star_formation_times>2.)&(star_formation_times<12.8))\n",
    "TNG_abuns = TNG_abun[good_index]\n",
    "TNG_times = star_formation_times[good_index]\n",
    "good_index2=np.where(np.max(np.abs(TNG_abuns),axis=1)<3.)\n",
    "TNG_abuns = TNG_abuns[good_index2]\n",
    "TNG_times = TNG_times[good_index2]"
   ]
  },
  {
   "cell_type": "code",
   "execution_count": 232,
   "metadata": {},
   "outputs": [],
   "source": [
    "ab_error = 0.05\n",
    "time_error = 0.3"
   ]
  },
  {
   "cell_type": "code",
   "execution_count": 233,
   "metadata": {},
   "outputs": [],
   "source": [
    "TNG_abun_err = np.ones_like(TNG_abuns)*ab_error\n",
    "TNG_times_err = (TNG_times*time_error).round(2)"
   ]
  },
  {
   "cell_type": "code",
   "execution_count": 234,
   "metadata": {},
   "outputs": [],
   "source": [
    "TNG_obs_abuns =np.random.normal(loc=TNG_abuns,scale=TNG_abun_err).round(2)\n",
    "TNG_obs_times=np.random.normal(loc=TNG_times,scale=TNG_times_err).round(2)"
   ]
  },
  {
   "cell_type": "markdown",
   "metadata": {},
   "source": [
    "#### First randomize these particles + remove any with bad time values:"
   ]
  },
  {
   "cell_type": "code",
   "execution_count": 235,
   "metadata": {},
   "outputs": [],
   "source": [
    "jitter = np.random.choice(range(len(TNG_abuns)),replace=False,size=len(TNG_abuns))\n",
    "TNG_abuns=TNG_abuns[jitter]\n",
    "TNG_times=TNG_times[jitter]\n",
    "TNG_obs_abuns=TNG_obs_abuns[jitter]\n",
    "TNG_abun_err=TNG_abun_err[jitter]\n",
    "TNG_times_err=TNG_times_err[jitter]\n",
    "TNG_obs_times=TNG_obs_times[jitter]\n",
    "\n",
    "filt = np.where((TNG_obs_times>2.)&(TNG_obs_times<13.8))\n",
    "TNG_abuns=TNG_abuns[filt]\n",
    "TNG_times=TNG_times[filt]\n",
    "TNG_obs_abuns=TNG_obs_abuns[filt]\n",
    "TNG_abun_err=TNG_abun_err[filt]\n",
    "TNG_times_err=TNG_times_err[filt]\n",
    "TNG_obs_times=TNG_obs_times[filt]\n"
   ]
  },
  {
   "cell_type": "markdown",
   "metadata": {},
   "source": [
    "#### Now save output:"
   ]
  },
  {
   "cell_type": "code",
   "execution_count": 236,
   "metadata": {},
   "outputs": [],
   "source": [
    "np.savez('/mnt/store1/oliverphilcox/ChempyMultiData/Auriga/Auriga_Mock_Data_Full.npz',\n",
    "        elements=el_names,abundances=TNG_obs_abuns,abundance_errs=TNG_abun_err,true_time=TNG_times,\n",
    "        obs_time=TNG_obs_times,obs_time_err=TNG_times_err,true_abuns=TNG_abuns)"
   ]
  },
  {
   "cell_type": "markdown",
   "metadata": {},
   "source": [
    "#### Also save cut down output"
   ]
  },
  {
   "cell_type": "code",
   "execution_count": 237,
   "metadata": {},
   "outputs": [],
   "source": [
    "np.savez('/mnt/store1/oliverphilcox/ChempyMultiData/Auriga/Auriga_Mock_Data_Cut.npz',galaxy_index=id,\n",
    "        elements=el_names,abundances=TNG_obs_abuns[:100000],abundance_errs=TNG_abun_err[:100000],true_time=TNG_times[:100000],\n",
    "        obs_time=TNG_obs_times[:100000],obs_time_err=TNG_times_err[:100000],true_abuns=TNG_abuns[:100000])"
   ]
  },
  {
   "cell_type": "markdown",
   "metadata": {},
   "source": [
    " "
   ]
  },
  {
   "cell_type": "code",
   "execution_count": 238,
   "metadata": {},
   "outputs": [
    {
     "data": {
      "image/png": "[encoded data removed]",
      "text/plain": [
       "<Figure size 432x288 with 2 Axes>"
      ]
     },
     "metadata": {
      "needs_background": "light"
     },
     "output_type": "display_data"
    }
   ],
   "source": [
    "FS=16\n",
    "aur=np.load(\"/mnt/store1/oliverphilcox/ChempyMultiData/Auriga/Auriga_Mock_Data_Cut.npz\")\n",
    "MgFeAur=aur.f.true_abuns[:,3]\n",
    "HeFeAur=aur.f.true_abuns[:,2]\n",
    "FeHAur=aur.f.true_abuns[:,1]\n",
    "timesAur=aur.f.true_time\n",
    "plt.scatter(FeHAur,MgFeAur,alpha=0.4,s=0.1,c=timesAur)\n",
    "cb=plt.colorbar();\n",
    "cb.set_label('Birth Time / Gyr',fontsize=FS)\n",
    "plt.ylabel(r'[Mg/Fe]',fontsize=FS);plt.xlabel(r'[Fe/H]',fontsize=FS);\n",
    "plt.title('Auriga Abundances',fontsize=FS);\n",
    "#plt.xlim([-1.7,0.6]);plt.ylim([0.1,0.9]);"
   ]
  }
 ],
 "metadata": {
  "kernelspec": {
   "display_name": "Python 3",
   "language": "python",
   "name": "python3"
  },
  "language_info": {
   "codemirror_mode": {
    "name": "ipython",
    "version": 3
   },
   "file_extension": ".py",
   "mimetype": "text/x-python",
   "name": "python",
   "nbconvert_exporter": "python",
   "pygments_lexer": "ipython3",
   "version": "3.7.0"
  }
 },
 "nbformat": 4,
 "nbformat_minor": 2
}
