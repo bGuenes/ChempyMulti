{
 "cells": [
  {
   "cell_type": "markdown",
   "metadata": {},
   "source": [
    "13) MOCK DATASETS (don't use the AM207 ones):\n",
    "\n",
    "    a) Use some ISM parameters that represent different components of the ISM e.g. leave ISM parameters at their prior values and each time vary one by 2 sigma. one bursty SFR environment (SFR - 2sigma), one leaky (x_out + 2), one low SFE environment. And then see how well you can retrieve those. You will also see, that the ISM parameters are correlated (the signal will be redistributed into ather ISM parameters). I suggest it this way because in a paper you can plot the different tracks, name them (bursty, leaky etc) and plot the mock star abundances at specific times. And then you can show how well you can retrieve them. Of course you will have to add observational uncertainties to your predicted abundances. You can test with very low observational uncertainties, but a fair test would be to use typical observational uncertainties. This doesn't need any error parameters per element.\n",
    "    \n",
    "    b) In a last step you will need to do the inference with a wrong yield set as well (only then the error parameters per element will also be needed).\n",
    "\n"
   ]
  },
  {
   "cell_type": "code",
   "execution_count": 2,
   "metadata": {},
   "outputs": [
    {
     "name": "stdout",
     "output_type": "stream",
     "text": [
      "Populating the interactive namespace from numpy and matplotlib\n"
     ]
    }
   ],
   "source": [
    "%pylab inline\n",
    "import os\n",
    "os.chdir('/home/oliver/ChempyMulti/')\n",
    "from Chempy.parameter import ModelParameters\n",
    "from Chempy.cem_function import single_timestep_chempy\n",
    "a=ModelParameters()"
   ]
  },
  {
   "cell_type": "markdown",
   "metadata": {},
   "source": [
    "First we choose some SSP parameters:"
   ]
  },
  {
   "cell_type": "code",
   "execution_count": 69,
   "metadata": {},
   "outputs": [],
   "source": [
    "from scipy.stats import norm\n",
    "global_params = norm.rvs(loc=a.p0[:2],scale=[0.3,0.3]).round(2)"
   ]
  },
  {
   "cell_type": "code",
   "execution_count": 71,
   "metadata": {},
   "outputs": [
    {
     "data": {
      "text/plain": [
       "array([-2.45, -2.86])"
      ]
     },
     "execution_count": 71,
     "metadata": {},
     "output_type": "execute_result"
    }
   ],
   "source": [
    "global_params"
   ]
  },
  {
   "cell_type": "code",
   "execution_count": 72,
   "metadata": {},
   "outputs": [],
   "source": [
    "# Use 5 time datapoints\n",
    "times = np.linspace(2,12,5)\n",
    "\n",
    "ism_priors = a.p0[2:]\n",
    "ism_prior_widths = [0.3,0.1,0.1]\n",
    "\n",
    "# Create 4 sets of ISM parameters\n",
    "ism_params = np.ones((4,1))*ism_priors\n",
    "ism_params[1,0]-=2*ism_prior_widths[0] # low SFE\n",
    "ism_params[2,1]-=2*ism_prior_widths[1] # bursty SFR\n",
    "ism_params[3,2]+=2*ism_prior_widths[2] # leaky ISM"
   ]
  },
  {
   "cell_type": "code",
   "execution_count": 73,
   "metadata": {},
   "outputs": [],
   "source": [
    "full_params = np.zeros([len(ism_params)*len(times),6])\n",
    "for i in range(len(full_params)):\n",
    "    full_params[i]=np.asarray(list(global_params)+list(ism_params[i//len(times)])+[times[i%len(times)]])"
   ]
  },
  {
   "cell_type": "code",
   "execution_count": 74,
   "metadata": {},
   "outputs": [],
   "source": [
    "\n",
    "def runner(par):\n",
    "    \"\"\"Function to compute the Chempy predictions for each parameter set\"\"\"\n",
    "    b=ModelParameters()\n",
    "    output=single_timestep_chempy((par,b))\n",
    "    if type(output)==float:\n",
    "        if output==np.inf:\n",
    "            del b\n",
    "        outs=np.zeros(len(els))\n",
    "    else: \n",
    "        abun=output[0]\n",
    "        del b;\n",
    "        outs=abun\n",
    "    return outs\n"
   ]
  },
  {
   "cell_type": "code",
   "execution_count": 75,
   "metadata": {},
   "outputs": [],
   "source": [
    "mock_abundances=np.asarray([runner(par) for par in full_params])"
   ]
  },
  {
   "cell_type": "code",
   "execution_count": 76,
   "metadata": {},
   "outputs": [],
   "source": [
    "_,chempy_els=single_timestep_chempy((full_params[0],a))"
   ]
  },
  {
   "cell_type": "markdown",
   "metadata": {},
   "source": [
    "Use observational errors as solar errors here:"
   ]
  },
  {
   "cell_type": "code",
   "execution_count": 77,
   "metadata": {},
   "outputs": [],
   "source": [
    "sol_dat = np.load('Chempy/input/stars/Proto-sun_all.npy')\n",
    "sol_names = sol_dat.dtype.names\n",
    "all_sol_errors = sol_dat[1]"
   ]
  },
  {
   "cell_type": "code",
   "execution_count": 78,
   "metadata": {},
   "outputs": [],
   "source": [
    "obs_errors = np.zeros(len(a.initial_neural_names))\n",
    "for i,el in enumerate(a.initial_neural_names):\n",
    "    for j,el_sol in enumerate(sol_names):\n",
    "        if str(el)==str(sol_names[j]):\n",
    "            obs_errors[i]=all_sol_errors[j]\n",
    "            break\n",
    "        if j==len(sol_names)-1:\n",
    "            print('Element %s not found'%el)\n",
    "mock_ordered_abundances = np.zeros([len(mock_abundances),len(a.initial_neural_names)])        \n",
    "for i,el in enumerate(a.initial_neural_names):\n",
    "    for j,el_chempy in enumerate(chempy_els):\n",
    "        if str(el)==str(chempy_els[j]):\n",
    "            mock_ordered_abundances[:,i]=mock_abundances[:,j]\n",
    "            break\n",
    "        if j==len(chempy_els)-1:\n",
    "            print('Element %s not found'%el)\n",
    "        "
   ]
  },
  {
   "cell_type": "code",
   "execution_count": 79,
   "metadata": {},
   "outputs": [],
   "source": [
    "mock_errors = np.vstack([obs_errors for _ in range(len(mock_abundances))])"
   ]
  },
  {
   "cell_type": "code",
   "execution_count": 82,
   "metadata": {},
   "outputs": [],
   "source": [
    "from scipy.stats import norm\n",
    "time_mean = norm.rvs(loc=times,scale=0.5).round(2)\n",
    "time_error = 0.5*np.ones_like(time_mean)\n",
    "all_time_means = np.zeros(len(full_params))\n",
    "all_time_stds = np.zeros(len(full_params))\n",
    "for i in range(len(full_params)):\n",
    "    all_time_means[i]=time_mean[i%len(times)]\n",
    "    all_time_stds[i] = time_error[i%len(times)]"
   ]
  },
  {
   "cell_type": "code",
   "execution_count": 83,
   "metadata": {},
   "outputs": [],
   "source": [
    "np.savez('ChempyMultiData/MockParams.npz',params=full_params,abundances=mock_ordered_abundances,\n",
    "        time_mean = all_time_means, time_error = all_time_stds, abundance_error = mock_errors,elements=a.initial_neural_names)"
   ]
  },
  {
   "cell_type": "code",
   "execution_count": null,
   "metadata": {},
   "outputs": [],
   "source": []
  }
 ],
 "metadata": {
  "kernelspec": {
   "display_name": "Python 2",
   "language": "python",
   "name": "python2"
  },
  "language_info": {
   "codemirror_mode": {
    "name": "ipython",
    "version": 2
   },
   "file_extension": ".py",
   "mimetype": "text/x-python",
   "name": "python",
   "nbconvert_exporter": "python",
   "pygments_lexer": "ipython2",
   "version": "2.7.15"
  }
 },
 "nbformat": 4,
 "nbformat_minor": 2
}
