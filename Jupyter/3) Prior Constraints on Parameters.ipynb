{
 "cells": [
  {
   "cell_type": "markdown",
   "metadata": {},
   "source": [
    "We find the disallowed region in parameter space where the too-low-SFR constraint is triggered. i.e. *The total SFR of the last age bin is below 5% of the mean SFR*"
   ]
  },
  {
   "cell_type": "code",
   "execution_count": 95,
   "metadata": {},
   "outputs": [
    {
     "name": "stdout",
     "output_type": "stream",
     "text": [
      "Populating the interactive namespace from numpy and matplotlib\n"
     ]
    },
    {
     "name": "stderr",
     "output_type": "stream",
     "text": [
      "/home/oliverphilcox/anaconda3/lib/python3.7/site-packages/IPython/core/magics/pylab.py:160: UserWarning: pylab import has clobbered these variables: ['uniform', 'diff', 'multivariate_normal']\n",
      "`%matplotlib` prevents importing * from pylab and numpy\n",
      "  \"\\n`%matplotlib` prevents importing * from pylab and numpy\"\n"
     ]
    }
   ],
   "source": [
    "%pylab inline\n",
    "import os\n",
    "os.chdir('/home/oliverphilcox/ChempyMulti/')\n",
    "from Chempy.sfr import SFR\n",
    "from Chempy.parameter import ModelParameters\n",
    "a=ModelParameters()\n",
    "age_of_star=0."
   ]
  },
  {
   "cell_type": "code",
   "execution_count": 15,
   "metadata": {},
   "outputs": [],
   "source": [
    "def fraction_sfr(log_sfr_param):\n",
    "    sfr_scale=10.**log_sfr_param\n",
    "    basic_sfr = SFR(a.start,a.end,a.time_steps)\n",
    "    if a.basic_sfr_name == 'gamma_function':\n",
    "        getattr(basic_sfr, a.basic_sfr_name)(S0 = a.S_0 * a.mass_factor,a_parameter = a.a_parameter, loc = a.sfr_beginning, scale = sfr_scale)\n",
    "    basic_sfr.sfr = a.total_mass * np.divide(basic_sfr.sfr,sum(basic_sfr.sfr))\n",
    "    mass_normalisation = a.total_mass\n",
    "    mean_sfr = sum(basic_sfr.sfr) / a.end\n",
    "\n",
    "\n",
    "    # at which time in the simulation is the star born\n",
    "    star_time = basic_sfr.t[-1] - age_of_star\n",
    "    cut = [np.where(np.abs(basic_sfr.t - star_time) == np.min(np.abs(basic_sfr.t - star_time)))]\n",
    "    if len(cut[0][0]) != 1:\n",
    "        cut = cut[0][0][0]\n",
    "\n",
    "    # updating the end time and the model steps and rescale the total mass\n",
    "    time_model = float(basic_sfr.t[cut])\n",
    "    a.end = time_model\n",
    "    a.time_steps = int(cut[0][0]) + 1\n",
    "    a.total_mass = sum(basic_sfr.sfr[0:a.time_steps])\n",
    "\n",
    "    # check whether the sfr is enough at end to produce reasonable number of stars (which is necessary in order to have a probability to observe a star at all)\n",
    "    sfr_at_end = float(basic_sfr.sfr[cut] / basic_sfr.dt)\n",
    "    fraction_of_mean_sfr = sfr_at_end / mean_sfr\n",
    "\n",
    "    return(fraction_of_mean_sfr)"
   ]
  },
  {
   "cell_type": "code",
   "execution_count": 36,
   "metadata": {},
   "outputs": [
    {
     "name": "stdout",
     "output_type": "stream",
     "text": [
      "0.37\n",
      "0.29800000000000004\n",
      "0.2944\n",
      "0.2944\n",
      "0.29411199999999993\n",
      "0.29402559999999994\n",
      "0.29401984000000003\n",
      "0.294016384\n",
      "0.29401546240000004\n",
      "0.29401537023999996\n",
      "0.29401535180800004\n",
      "0.2940153444352\n",
      "0.29401534406656005\n",
      "0.29401534399283213\n",
      "0.2940153439928321\n",
      "0.29401534398398477\n",
      "0.29401534398162543\n",
      "0.29401534398127155\n",
      "0.2940153439811772\n",
      "0.294015343981163\n"
     ]
    },
    {
     "name": "stderr",
     "output_type": "stream",
     "text": [
      "/home/oliverphilcox/anaconda3/lib/python3.7/site-packages/ipykernel_launcher.py:18: FutureWarning: Using a non-tuple sequence for multidimensional indexing is deprecated; use `arr[tuple(seq)]` instead of `arr[seq]`. In the future this will be interpreted as an array index, `arr[np.array(seq)]`, which will result either in an error or a different result.\n",
      "/home/oliverphilcox/anaconda3/lib/python3.7/site-packages/ipykernel_launcher.py:24: FutureWarning: Using a non-tuple sequence for multidimensional indexing is deprecated; use `arr[tuple(seq)]` instead of `arr[seq]`. In the future this will be interpreted as an array index, `arr[np.array(seq)]`, which will result either in an error or a different result.\n"
     ]
    }
   ],
   "source": [
    "mmin=0.1;mmax=1.\n",
    "for _ in range(20):\n",
    "    diff=(mmax-mmin)/10\n",
    "    params=np.arange(mmin,mmax,diff)\n",
    "    outs=np.asarray([fraction_sfr(p) for p in params])\n",
    "    new_start=min(params[np.where(outs>0.05)[0]])\n",
    "    mmax=new_start+diff\n",
    "    mmin=new_start-diff\n",
    "    print(new_start)"
   ]
  },
  {
   "cell_type": "markdown",
   "metadata": {},
   "source": [
    "Thus we need $\\log_{10}\\text{SFR}_\\mathrm{peak}>0.294$ for sensible star-formation histories. This will be reflected in the priors."
   ]
  },
  {
   "cell_type": "code",
   "execution_count": null,
   "metadata": {},
   "outputs": [],
   "source": []
  }
 ],
 "metadata": {
  "kernelspec": {
   "display_name": "Python 3",
   "language": "python",
   "name": "python3"
  },
  "language_info": {
   "codemirror_mode": {
    "name": "ipython",
    "version": 3
   },
   "file_extension": ".py",
   "mimetype": "text/x-python",
   "name": "python",
   "nbconvert_exporter": "python",
   "pygments_lexer": "ipython3",
   "version": "3.7.0"
  }
 },
 "nbformat": 4,
 "nbformat_minor": 2
}
