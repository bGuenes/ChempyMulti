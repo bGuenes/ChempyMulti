{
 "cells": [
  {
   "cell_type": "markdown",
   "metadata": {},
   "source": [
    "## PyMC3 Implementation of Chempy\n",
    "First create a basic Chempy implementation in Chempy for a single end-time and single star"
   ]
  },
  {
   "cell_type": "code",
   "execution_count": 38,
   "metadata": {
    "scrolled": true
   },
   "outputs": [
    {
     "name": "stdout",
     "output_type": "stream",
     "text": [
      "Populating the interactive namespace from numpy and matplotlib\n"
     ]
    }
   ],
   "source": [
    "%pylab inline\n",
    "import scipy,theano,os,inspect,platform\n",
    "import pymc3 as pm\n",
    "import numpy.lib.recfunctions as rcfuncs\n",
    "import numpy as np\n",
    "import theano.tensor as tt\n",
    "\n",
    "## TESTING PARAMETERS\n",
    "full_checking = False # if True, check assertions in code (will be slower)\n",
    "\n",
    "# Import useful Chempy functions\n",
    "os.chdir('/home/oliverphilcox/ChempyMulti/')\n",
    "from Chempy.solar_abundance import solar_abundances as SolarAbundances\n",
    "from Chempy.infall import PRIMORDIAL_INFALL as PrimordialInfall\n",
    "\n",
    "# Define localpath\n",
    "if platform.system()=='Windows':\n",
    "    string='\\\\'\n",
    "else:\n",
    "    string='/'\n",
    "\n",
    "localpath = string.join(os.path.abspath(inspect.getfile(inspect.currentframe())).split(string)[:-1])\n",
    "localpath += string+'Chempy'+string\n",
    "\n",
    "# # Define incomplete gamma function as theano operator\n",
    "# from theano.compile.ops import as_op\n",
    "# from scipy.special import gammainc\n",
    "\n",
    "# @as_op(itypes=[tt.dscalar,tt.dscalar],\n",
    "#        otypes=[tt.dscalar])\n",
    "\n",
    "# def gammainc_th(shape_par,x):\n",
    "#     return gammainc(shape_par,x)\n"
   ]
  },
  {
   "cell_type": "code",
   "execution_count": 96,
   "metadata": {},
   "outputs": [],
   "source": [
    "### MODELLING PARAMETERS\n",
    "\n",
    "class Parameters(object):\n",
    "    \"\"\"This holds various parameters for the PyMC3 Chempy implementation\"\"\"\n",
    "    \n",
    "    class general(object):\n",
    "        # General parameters\n",
    "        elements_to_trace = ['C', 'Fe', 'H', 'He', 'Mg', 'N', 'Ne', 'O', 'Si']\n",
    "        gas_reservoir_mass_factor = 1.  # how much more mass does the corona has compared to the integrated SFR\n",
    "        gas_power = 1. # The Schmidt_exponent (default = 1, i.e. linear)\n",
    "        sfr_factor_for_cosmic_accretion = 0.000001 # how much more gas should be infalling in the corona compared to the SFR\n",
    "        \n",
    "\n",
    "    class imf(object):\n",
    "        # IMF related parameters\n",
    "        min_mass = 0.1\n",
    "        max_mass = 100.\n",
    "        n_mass_steps = 5000 # number of mass steps used\n",
    "\n",
    "        # Chabrier parameters\n",
    "        chabrier_A = 0.852464\n",
    "        chabrier_B = 0.237912\n",
    "        chabrier_sigma = 0.69\n",
    "        chabrier_m_c = 0.079 \n",
    "        \n",
    "    class sfr(object):\n",
    "        # SFR related parameters\n",
    "        a_parameter = 2 # gamma function shape parameter\n",
    "        \n",
    "    class times(object):\n",
    "        # Chempy start and end time in Gyr\n",
    "        start = 0\n",
    "        end = 13.797617 # Planck 2015 age\n",
    "        time_steps = 28 # number of time steps in simulation\n",
    "        \n",
    "        star_age = 4.56 # solar age   \n",
    "        \n",
    "        assert (star_age <= 13.0), \"Age of the star must be below 13Gyr\"\n",
    "        new_end = end - star_age # time to stop the Chempy run"
   ]
  },
  {
   "cell_type": "code",
   "execution_count": 97,
   "metadata": {},
   "outputs": [],
   "source": [
    "### PRELOADING\n",
    "\n",
    "# Load parameters\n",
    "par = Parameters()\n",
    "\n",
    "class IMF(object):\n",
    "    # Preload IMF from Chabrier (2003)\n",
    "    \n",
    "    masses = np.linspace(par.imf.min_mass,par.imf.max_mass,par.imf.n_mass_steps)\n",
    "    masses_low = masses[masses<1.]\n",
    "    masses_high = masses[masses>1.]\n",
    "    \n",
    "    masses = tt._shared(masses) # convert to tensors\n",
    "    masses_low = tt._shared(masses_low)\n",
    "    masses_high = tt._shared(masses_high) # convert to tensors\n",
    "    dn_low = par.imf.chabrier_A/masses_low*tt.exp(-(tt.log10(masses_low/par.imf.chabrier_m_c)**2.)/(2.*par.imf.chabrier_sigma**2.))\n",
    "    \n",
    "    \n",
    "class SFR(object):\n",
    "    # Preload star formation rate (here a Gamma function with shape parameter a = 2 by default)\n",
    "    # We assume SFR starts at t=0 here\n",
    "\n",
    "    # Define evolution time steps\n",
    "    t = tt._shared(np.linspace(par.times.start, par.times.new_end, par.times.time_steps))\n",
    "    dt = t[1]-t[0]\n",
    "    timespan = par.times.new_end - par.times.start\n",
    "    \n",
    "    # convenience functions\n",
    "    tmp_t1 = tt.power(t,par.sfr.a_parameter-1)\n",
    "    tmp_t2 = tt.exp(-1.*t)\n",
    "    \n",
    "\n",
    "class Infall(SFR):\n",
    "    # Preload infall mass over time class (matched to SFR class)\n",
    "    # This inherits time vector from SFR class\n",
    "    # We assume SFR-related infall here\n",
    "    def __init__(self):\n",
    "        self.infall = tt.zeros_like(self.t)\n"
   ]
  },
  {
   "cell_type": "code",
   "execution_count": 211,
   "metadata": {},
   "outputs": [],
   "source": [
    "# Pre-load modules\n",
    "imf = IMF()\n",
    "sfr = SFR()\n",
    "infall = Infall()\n",
    "\n",
    "# Load solar abundances from Chempy\n",
    "solar_abundances = SolarAbundances()\n",
    "solar_abundances.Asplund09()\n",
    "\n",
    "primordial_infall = PrimordialInfall(par.general.elements_to_trace,solar_abundances.table)\n",
    "primordial_infall.primordial()"
   ]
  },
  {
   "cell_type": "code",
   "execution_count": 219,
   "metadata": {},
   "outputs": [
    {
     "name": "stdout",
     "output_type": "stream",
     "text": [
      "is this SFR normalization correct?\n"
     ]
    }
   ],
   "source": [
    "full_model = pm.Model()\n",
    "\n",
    "with full_model:\n",
    "    \n",
    "    ## PARAMETERS TO INFER\n",
    "    class InferenceParameters(object):\n",
    "        # Main parameters\n",
    "        alpha_imf = pm.Normal('imf-slope',mu=-2.3,sd=0.3) # high-mass IMF slope\n",
    "        log10_N_1a = pm.Normal('log10-N-1a',mu=-2.89,sd=0.3) # SN-1a normalization\n",
    "        \n",
    "        log10_sfe = pm.Normal('log10-sfe',mu=-0.3,sd=0.1) # the SFE for a linear Kennicut-Schmidt law\n",
    "        \n",
    "        log10_sfr_scale = pm.Normal('log10-sfr-scale',mu=0.55,sd=0.1) \n",
    "        x_out = pm.Normal('x-out',mu=0.5,sd=0.1) # fractional enrichment goes into the corona\n",
    "        \n",
    "        \n",
    "        # Derived parameters\n",
    "        N_1a = tt.pow(10.,log10_N_1a)\n",
    "        sfr_scale = tt.pow(10.,log10_sfr_scale)\n",
    "        sfe = tt.pow(10.,log10_sfe)\n",
    "        \n",
    "    inference = InferenceParameters()\n",
    "    \n",
    "    ## IMF (Chabrier 2003)\n",
    "    imf.dn_high = par.imf.chabrier_B*imf.masses_high**inference.alpha_imf\n",
    "    imf.dn = tt.concatenate([imf.dn_low,imf.dn_high])*imf.masses  # number of stars produced per unit mass\n",
    "    imf.dm = imf.dn/imf.dn.sum() # mass of stars produced per unit mass\n",
    "    imf.dn = imf.dm/imf.masses\n",
    "    \n",
    "    ## SFR (Gamma function)\n",
    "    \n",
    "    # First compute normalized gamma function SFR up to the correct end time\n",
    "    sfr.sfr = sfr.tmp_t1*tt.power(sfr.tmp_t2,1./inference.sfr_scale) # unnormalized gamma function\n",
    "    sfr.sfr = sfr.sfr/(sfr.sfr.sum())\n",
    "    \n",
    "    print('is this SFR normalization correct?')\n",
    "    \n",
    "    ## NB: We leave first SFR step as ZERO here\n",
    "    #sfr.sfr = tt.set_subtensor(sfr.sfr[0],1e-10) # stop the first value being zero to avoid later errors\n",
    "    \n",
    "    \n",
    "#     # Now compute the total mass formed in this simulation (normalized to unit mass formed in universe age)\n",
    "#     total_mass = gammainc_th(theano.shared(1.*par.sfr.a_parameter),par.times.new_end/inference.sfr_scale)\n",
    "#     total_mass_univ = gammainc_th(theano.shared(1.*par.sfr.a_parameter),par.times.end/inference.sfr_scale) # total mass formed in universe age\n",
    "#     total_mass /= total_mass_univ\n",
    "\n",
    "#     # Check we form enough stars\n",
    "#     mean_sfr = total_mass_univ/par.times.end\n",
    "#     sfr_at_end = sfr.sfr[-1]\n",
    "#     tt.opt.Assert(sfr_at_end>0.05*mean_sfr)"
   ]
  },
  {
   "cell_type": "code",
   "execution_count": null,
   "metadata": {},
   "outputs": [],
   "source": []
  },
  {
   "cell_type": "code",
   "execution_count": 252,
   "metadata": {},
   "outputs": [],
   "source": [
    "class AbundanceMatrix(object):\n",
    "    # Preload important quantities for holding the chemical evolution properties of Chempy\n",
    "    # self.ism contains the ISM evolution, self.gas_reservoir contains the corona evolution \n",
    "    # and self.sn2/sn1a/agb_feedback has individual process enrichments\n",
    "    \n",
    "    class ISM(object):\n",
    "        \"\"\"Class to hold useful quantities for the ISM at each timestep\"\"\"\n",
    "        def __init__(self,elements,time_steps):\n",
    "            self.mass_fractions = tt.zeros((time_steps,len(elements)))\n",
    "            self.gas = tt.zeros(time_steps)\n",
    "            self.Z = tt.zeros(time_steps)\n",
    "            #self.feedback = tt.zeros(time_steps)\n",
    "            #self.mass_in_remnants = tt.zeros(time_steps)\n",
    "    \n",
    "    class Corona(object):\n",
    "        \"\"\"Class to hold useful quantities for the gas reservoir (corona) at each timestep\"\"\"\n",
    "        def __init__(self,elements,time_steps):\n",
    "            self.mass_fractions = tt.zeros((time_steps,len(elements)))\n",
    "            self.gas = tt.zeros(time_steps)\n",
    "            self.Z = tt.zeros(time_steps)\n",
    "            \n",
    "            \n",
    "    def __init__(self,SFR,Infall,PrimordialInfall):\n",
    "        # Copy useful variables\n",
    "        ##TODO: do we need all these?\n",
    "        self.t = SFR.t\n",
    "        self.dt = SFR.dt\n",
    "        self.infall = Infall.infall\n",
    "        self.elements = par.general.elements_to_trace\n",
    "        self.infall_symbols = PrimordialInfall.symbols\n",
    "        self.infall_fractions = PrimordialInfall.fractions\n",
    "        self.gas_power = par.general.gas_power\n",
    "        self.sfr_factor_for_cosmic_accretion = par.general.sfr_factor_for_cosmic_accretion\n",
    "        \n",
    "        ##TODO: DO WE NEED THESE?\n",
    "        #self.cosmic_accretion_elements = PrimordialInfall.symbols\n",
    "        #self.cosmic_accretion_element_fractions = PrimordialInfall.fractions\n",
    "        \n",
    "        # Define ISM class\n",
    "        self.ism = self.ISM(self.elements,par.times.time_steps)\n",
    "        self.corona = self.Corona(self.elements,par.times.time_steps)\n",
    "        \n",
    "        # Get indices of elements which are metals:\n",
    "        metal_list=[]\n",
    "        for e,el in enumerate(self.elements):\n",
    "            if el not in ['H','He']:\n",
    "                metal_list.append(e)\n",
    "        self.metal_list = tt._shared(np.array(metal_list))\n",
    "        \n",
    "        # Add initial gas composition\n",
    "        # (since we have no initial gas and SFR=0 at t=0 this is independent of free parameters)\n",
    "        starting_gas = par.general.gas_reservoir_mass_factor\n",
    "        self.corona.gas=tt.set_subtensor(self.corona.gas[0],starting_gas)\n",
    "        self.corona.mass_fractions=tt.set_subtensor(self.corona.mass_fractions[0,:],starting_gas*self.infall_fractions)\n",
    "\n",
    "        # Compute initial metallicity (zero for ISM)\n",
    "        self.corona.Z = tt.set_subtensor(self.corona.Z[0],self.corona.mass_fractions[0,self.metal_list].sum()/starting_gas)\n",
    "\n",
    "        \n",
    "        #self.reservoir = self.CubeData(self.elements)#\n",
    "        \n",
    "        #self.ism.feedback[0] = 0.\n",
    "        \n"
   ]
  },
  {
   "cell_type": "code",
   "execution_count": 253,
   "metadata": {},
   "outputs": [
    {
     "name": "stderr",
     "output_type": "stream",
     "text": [
      "/home/oliverphilcox/anaconda3/lib/python3.7/site-packages/theano/tensor/subtensor.py:2197: FutureWarning: Using a non-tuple sequence for multidimensional indexing is deprecated; use `arr[tuple(seq)]` instead of `arr[seq]`. In the future this will be interpreted as an array index, `arr[np.array(seq)]`, which will result either in an error or a different result.\n",
      "  rval = inputs[0].__getitem__(inputs[1:])\n"
     ]
    }
   ],
   "source": [
    "cube=AbundanceMatrix(sfr,infall,primordial_infall)"
   ]
  },
  {
   "cell_type": "code",
   "execution_count": 248,
   "metadata": {},
   "outputs": [
    {
     "name": "stderr",
     "output_type": "stream",
     "text": [
      "/home/oliverphilcox/anaconda3/lib/python3.7/site-packages/theano/tensor/subtensor.py:2197: FutureWarning: Using a non-tuple sequence for multidimensional indexing is deprecated; use `arr[tuple(seq)]` instead of `arr[seq]`. In the future this will be interpreted as an array index, `arr[np.array(seq)]`, which will result either in an error or a different result.\n",
      "  rval = inputs[0].__getitem__(inputs[1:])\n"
     ]
    }
   ],
   "source": [
    "with full_model:\n",
    "    # Check modeling assumptions\n",
    "    tt.opt.Assert(sfr.sfr[0]==0.)\n",
    "    \n",
    "    ## AbundanceMatrix class\n",
    "    cube.sfr = sfr.sfr\n",
    "    cube.starformation_efficiency = inference.sfe*cube.dt\n",
    "    \n",
    "    # About to start SSP_wrap(a) in Chempy_all_times()\n",
    "    pass"
   ]
  },
  {
   "cell_type": "code",
   "execution_count": null,
   "metadata": {},
   "outputs": [],
   "source": []
  },
  {
   "cell_type": "markdown",
   "metadata": {},
   "source": [
    "## Chempy testing"
   ]
  },
  {
   "cell_type": "code",
   "execution_count": 170,
   "metadata": {},
   "outputs": [
    {
     "name": "stdout",
     "output_type": "stream",
     "text": [
      "Populating the interactive namespace from numpy and matplotlib\n"
     ]
    }
   ],
   "source": [
    "%pylab inline\n",
    "import os\n",
    "os.chdir('/home/oliverphilcox/ChempyMulti/')\n",
    "from Chempy.parameter import ModelParameters\n",
    "a=ModelParameters()\n",
    "from Chempy.sfr import SFR\n",
    "import Chempy\n",
    "ch_sfr = SFR(par.times.start,par.times.end,par.times.time_steps)\n",
    "ch_sfr.gamma_function(S0=1,a_parameter=2,loc=0,scale=10.**0.55)"
   ]
  }
 ],
 "metadata": {
  "kernelspec": {
   "display_name": "Python 3",
   "language": "python",
   "name": "python3"
  },
  "language_info": {
   "codemirror_mode": {
    "name": "ipython",
    "version": 3
   },
   "file_extension": ".py",
   "mimetype": "text/x-python",
   "name": "python",
   "nbconvert_exporter": "python",
   "pygments_lexer": "ipython3",
   "version": "3.7.0"
  }
 },
 "nbformat": 4,
 "nbformat_minor": 2
}
