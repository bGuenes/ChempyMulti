{
 "cells": [
  {
   "cell_type": "code",
   "execution_count": 1,
   "metadata": {},
   "outputs": [
    {
     "name": "stdout",
     "output_type": "stream",
     "text": [
      "Populating the interactive namespace from numpy and matplotlib\n"
     ]
    }
   ],
   "source": [
    "%pylab inline"
   ]
  },
  {
   "cell_type": "markdown",
   "metadata": {},
   "source": [
    "#### Create the training data for use with the neural network. We must also save the affine scaling parameters."
   ]
  },
  {
   "cell_type": "code",
   "execution_count": 2,
   "metadata": {},
   "outputs": [],
   "source": [
    "from Chempy.parameter import ModelParameters"
   ]
  },
  {
   "cell_type": "code",
   "execution_count": 3,
   "metadata": {},
   "outputs": [],
   "source": [
    "a = ModelParameters()\n",
    "\n",
    "# Define training size\n",
    "N = 8.  # 6 grid points per parameter\n",
    "#widths = a.training_widths # Gaussian training widths for parameters\n",
    "widths = [0.3, 0.3, 0.3, 0.1, 0.1]"
   ]
  },
  {
   "cell_type": "code",
   "execution_count": 4,
   "metadata": {},
   "outputs": [],
   "source": [
    "# Make array for log time\n",
    "time_array = np.linspace(0.5,2.5,int(N)) # make array wider than observed time dataset"
   ]
  },
  {
   "cell_type": "code",
   "execution_count": 89,
   "metadata": {},
   "outputs": [],
   "source": [
    "from scipy.stats import norm as gaussian\n",
    "prob = np.linspace(1/(N+1), 1-1/(N+1), int(N))\n",
    "grids = [gaussian.ppf(prob) for _ in range(len(a.p0))] # Normalize to unit Gaussian\n",
    "grids.append(time_array) ## add time array to this grid\n",
    "norm_grid = np.array(np.meshgrid(*grids)).T.reshape(-1,len(a.p0)+1)"
   ]
  },
  {
   "cell_type": "code",
   "execution_count": 90,
   "metadata": {},
   "outputs": [],
   "source": [
    "# Create grid in parameter space\n",
    "full_widths = list(widths)+[1.]\n",
    "means = list(a.p0)+[0.]\n",
    "param_grid = [np.asarray(item)*full_widths+means for item in norm_grid]"
   ]
  },
  {
   "cell_type": "markdown",
   "metadata": {},
   "source": [
    "**Save the two grids to file:**"
   ]
  },
  {
   "cell_type": "markdown",
   "metadata": {},
   "source": [
    "- ```norm_grid``` is an array of $N^6$ sets of 6d parameter vectors.\n",
    "- NB: The first five parameters are **normalized**: to get true values multiply by the width and add the mean value.\n",
    "- The time parameter is **not** normalized (since it is not drawn froma  Gaussian here)\n",
    "\n",
    "\n",
    "- ```Param_grid``` is of the same form but with the full grid of parameters (with no normalization applied)\n",
    "- Each element is of the form $(\\Theta_1,\\Theta_2,\\Lambda_1,\\Lambda_2,\\Lambda_3,T)$ \n",
    "\n",
    "\n",
    "- ```means``` gives the prior means for the parameters (for reconstruction from the normalized parameters)\n",
    "- ```full_widths``` gives the scaling widths to multiply the normalized parameters by to get the true parameters.\n",
    "\n",
    "NB: we include a 0 mean and 1. width for the time parameter so we can always write true_parameter = norm_parameter x width + means"
   ]
  },
  {
   "cell_type": "markdown",
   "metadata": {},
   "source": [
    "## Load and play with training data"
   ]
  },
  {
   "cell_type": "code",
   "execution_count": 2,
   "metadata": {
    "scrolled": true
   },
   "outputs": [
    {
     "name": "stdout",
     "output_type": "stream",
     "text": [
      "Populating the interactive namespace from numpy and matplotlib\n"
     ]
    }
   ],
   "source": [
    "%pylab inline\n",
    "training_dat = np.load('APOGEE_Training_Predictions.npz')\n",
    "trainY=training_dat['abundances']\n",
    "trainX=training_dat['norm_params']"
   ]
  },
  {
   "cell_type": "code",
   "execution_count": 18,
   "metadata": {},
   "outputs": [],
   "source": [
    "neurons = 20\n",
    "learning_rate=0.01\n",
    "epochs=500"
   ]
  },
  {
   "cell_type": "code",
   "execution_count": 40,
   "metadata": {},
   "outputs": [],
   "source": [
    "import torch\n",
    "from torch.autograd import Variable\n",
    "import torch.nn.functional as F\n",
    "\n",
    "n_train = len(trainY)\n",
    "\n",
    "# Calculate the model dimensions\n",
    "dim_in = trainX.shape[1]\n",
    "dim_out = trainY.shape[1]\n",
    "\n",
    "# Convert to torch variables\n",
    "tr_input = Variable(torch.from_numpy(trainX)).type(torch.FloatTensor)\n",
    "tr_output = Variable(torch.from_numpy(trainY), requires_grad=False).type(torch.FloatTensor)"
   ]
  },
  {
   "cell_type": "code",
   "execution_count": 55,
   "metadata": {},
   "outputs": [],
   "source": [
    "def train_neural_network(model,epochs = 600,learning_rate = 0.01):\n",
    "    loss_fn = torch.nn.L1Loss(size_average=True)\n",
    "\n",
    "    # Use Adam optimizer with learning rate specified in parameter.py\n",
    "    optimizer = torch.optim.Adam(model.parameters(), lr = learning_rate)\n",
    "    scheduler = torch.optim.lr_scheduler.ReduceLROnPlateau(optimizer, 'min')\n",
    "    \n",
    "    # For loss records\n",
    "    losslog = []\n",
    "    epoch = []\n",
    "    \n",
    "    # Train neural network\n",
    "    for i in range(epochs):\n",
    "        pred_output = model(tr_input)\n",
    "        loss = loss_fn(pred_output, tr_output)\n",
    "        optimizer.zero_grad() # Initially zero gradient\n",
    "        loss.backward() # Backpropagation\n",
    "        optimizer.step() # Update via optimizer\n",
    "        scheduler.step(loss) # Update learning rate\n",
    "\n",
    "        if i % 3 ==0:\n",
    "            losslog.append(loss.data[0])\n",
    "            epoch.append(i)\n",
    "        if i % 100==0:\n",
    "            print(\"Training epoch %d of %d complete\" %(i,epochs))\n",
    "    \n",
    "    # Convert weights to numpy arrays\n",
    "    model_numpy = []\n",
    "    for param in model.parameters():\n",
    "        model_numpy.append(param.data.numpy())\n",
    "\n",
    "    np.savez(\"neural_model.npz\",\n",
    "                w_array_0=model_numpy[0],\n",
    "                b_array_0=model_numpy[1],\n",
    "                w_array_1=model_numpy[2],\n",
    "                b_array_1=model_numpy[3])\n",
    "    \n",
    "    print(\"L1 Loss value is {}\".format(losslog[-1]))\n",
    "    \n",
    "    plt.plot(epoch,losslog,label=learning_rate)\n",
    "    plt.ylabel(\"L1 Loss value\")\n",
    "    plt.xlabel(\"Epoch\")\n",
    "    plt.title(\"Loss plot\")\n",
    "    plt.legend()\n",
    "    plt.show()\n",
    "    \n",
    "    \n",
    "    return model"
   ]
  },
  {
   "cell_type": "code",
   "execution_count": 86,
   "metadata": {},
   "outputs": [
    {
     "name": "stderr",
     "output_type": "stream",
     "text": [
      "/anaconda3/lib/python3.7/site-packages/torch/nn/functional.py:52: UserWarning: size_average and reduce args will be deprecated, please use reduction='elementwise_mean' instead.\n",
      "  warnings.warn(warning.format(ret))\n",
      "/anaconda3/lib/python3.7/site-packages/ipykernel_launcher.py:22: UserWarning: invalid index of a 0-dim tensor. This will be an error in PyTorch 0.5. Use tensor.item() to convert a 0-dim tensor to a Python number\n"
     ]
    },
    {
     "name": "stdout",
     "output_type": "stream",
     "text": [
      "Training epoch 0 of 600 complete\n",
      "Training epoch 100 of 600 complete\n",
      "Training epoch 200 of 600 complete\n",
      "Training epoch 300 of 600 complete\n",
      "Training epoch 400 of 600 complete\n",
      "Training epoch 500 of 600 complete\n",
      "L1 Loss value is 0.0056480346247553825\n"
     ]
    },
    {
     "data": {
      "image/png": "[encoded data removed]",
      "text/plain": [
       "<Figure size 432x288 with 1 Axes>"
      ]
     },
     "metadata": {
      "needs_background": "light"
     },
     "output_type": "display_data"
    }
   ],
   "source": [
    "hidden_layer_1, hidden_layer_2 = 20, 40\n",
    "\n",
    "model1 = torch.nn.Sequential(\n",
    "    torch.nn.Linear(dim_in,hidden_layer_1),\n",
    "    torch.nn.ReLU6(),\n",
    "    torch.nn.Linear(hidden_layer_1,hidden_layer_2),\n",
    "    torch.nn.ReLU6(),\n",
    "    torch.nn.Linear(hidden_layer_2,dim_out)\n",
    "    )\n",
    "\n",
    "model1_trained = train_neural_network(model1)"
   ]
  },
  {
   "cell_type": "code",
   "execution_count": 70,
   "metadata": {},
   "outputs": [
    {
     "name": "stderr",
     "output_type": "stream",
     "text": [
      "/anaconda3/lib/python3.7/site-packages/torch/nn/functional.py:52: UserWarning: size_average and reduce args will be deprecated, please use reduction='elementwise_mean' instead.\n",
      "  warnings.warn(warning.format(ret))\n",
      "/anaconda3/lib/python3.7/site-packages/ipykernel_launcher.py:22: UserWarning: invalid index of a 0-dim tensor. This will be an error in PyTorch 0.5. Use tensor.item() to convert a 0-dim tensor to a Python number\n"
     ]
    },
    {
     "name": "stdout",
     "output_type": "stream",
     "text": [
      "Training epoch 0 of 600 complete\n",
      "Training epoch 100 of 600 complete\n",
      "Training epoch 200 of 600 complete\n",
      "Training epoch 300 of 600 complete\n",
      "Training epoch 400 of 600 complete\n",
      "Training epoch 500 of 600 complete\n",
      "L1 Loss value is 0.016459640115499496\n"
     ]
    },
    {
     "data": {
      "image/png": "[encoded data removed]",
      "text/plain": [
       "<Figure size 432x288 with 1 Axes>"
      ]
     },
     "metadata": {
      "needs_background": "light"
     },
     "output_type": "display_data"
    }
   ],
   "source": [
    "model2 = torch.nn.Sequential(\n",
    "    torch.nn.Linear(dim_in,20),\n",
    "    torch.nn.Tanh(),\n",
    "    torch.nn.Linear(20,dim_out)\n",
    "    )\n",
    "\n",
    "model2_trained = train_neural_network(model2)"
   ]
  },
  {
   "cell_type": "code",
   "execution_count": 77,
   "metadata": {},
   "outputs": [],
   "source": [
    "def train_neural_network_with_SGD(model,epochs = 1000,learning_rate = 0.1):\n",
    "    loss_fn = torch.nn.L1Loss(size_average=True)\n",
    "\n",
    "    # Use Adam optimizer with learning rate specified in parameter.py\n",
    "    optimizer = torch.optim.SGD(model.parameters(), lr = learning_rate, momentum=0.9)\n",
    "    scheduler = torch.optim.lr_scheduler.ReduceLROnPlateau(optimizer, 'min')\n",
    "    \n",
    "    # For loss records\n",
    "    losslog = []\n",
    "    epoch = []\n",
    "    \n",
    "    # Train neural network\n",
    "    for i in range(epochs):\n",
    "        pred_output = model(tr_input)\n",
    "        loss = loss_fn(pred_output, tr_output)\n",
    "        optimizer.zero_grad() # Initially zero gradient\n",
    "        loss.backward() # Backpropagation\n",
    "        optimizer.step() # Update via optimizer\n",
    "        scheduler.step(loss) # Update learning rate\n",
    "\n",
    "        if i % 3 ==0:\n",
    "            losslog.append(loss.data[0])\n",
    "            epoch.append(i)\n",
    "        if i % 100==0:\n",
    "            print(\"Training epoch %d of %d complete\" %(i,epochs))\n",
    "    \n",
    "    # Convert weights to numpy arrays\n",
    "    model_numpy = []\n",
    "    for param in model.parameters():\n",
    "        model_numpy.append(param.data.numpy())\n",
    "\n",
    "    np.savez(\"neural_model.npz\",\n",
    "                w_array_0=model_numpy[0],\n",
    "                b_array_0=model_numpy[1],\n",
    "                w_array_1=model_numpy[2],\n",
    "                b_array_1=model_numpy[3])\n",
    "    \n",
    "    print(\"L1 Loss value is {}\".format(losslog[-1]))\n",
    "    \n",
    "    plt.plot(epoch,losslog,label=learning_rate)\n",
    "    plt.ylabel(\"L1 Loss value\")\n",
    "    plt.xlabel(\"Epoch\")\n",
    "    plt.title(\"Loss plot\")\n",
    "    plt.legend()\n",
    "    plt.show()\n",
    "    \n",
    "    \n",
    "    return model"
   ]
  },
  {
   "cell_type": "code",
   "execution_count": 78,
   "metadata": {},
   "outputs": [
    {
     "name": "stderr",
     "output_type": "stream",
     "text": [
      "/anaconda3/lib/python3.7/site-packages/torch/nn/functional.py:52: UserWarning: size_average and reduce args will be deprecated, please use reduction='elementwise_mean' instead.\n",
      "  warnings.warn(warning.format(ret))\n",
      "/anaconda3/lib/python3.7/site-packages/ipykernel_launcher.py:22: UserWarning: invalid index of a 0-dim tensor. This will be an error in PyTorch 0.5. Use tensor.item() to convert a 0-dim tensor to a Python number\n"
     ]
    },
    {
     "name": "stdout",
     "output_type": "stream",
     "text": [
      "Training epoch 0 of 2000 complete\n",
      "Training epoch 100 of 2000 complete\n",
      "Training epoch 200 of 2000 complete\n",
      "Training epoch 300 of 2000 complete\n",
      "Training epoch 400 of 2000 complete\n",
      "Training epoch 500 of 2000 complete\n",
      "Training epoch 600 of 2000 complete\n",
      "Training epoch 700 of 2000 complete\n",
      "Training epoch 800 of 2000 complete\n",
      "Training epoch 900 of 2000 complete\n",
      "Training epoch 1000 of 2000 complete\n",
      "Training epoch 1100 of 2000 complete\n",
      "Training epoch 1200 of 2000 complete\n",
      "Training epoch 1300 of 2000 complete\n",
      "Training epoch 1400 of 2000 complete\n",
      "Training epoch 1500 of 2000 complete\n",
      "Training epoch 1600 of 2000 complete\n",
      "Training epoch 1700 of 2000 complete\n",
      "Training epoch 1800 of 2000 complete\n",
      "Training epoch 1900 of 2000 complete\n",
      "L1 Loss value is 0.014784536324441433\n"
     ]
    },
    {
     "data": {
      "image/png": "[encoded data removed]",
      "text/plain": [
       "<Figure size 432x288 with 1 Axes>"
      ]
     },
     "metadata": {
      "needs_background": "light"
     },
     "output_type": "display_data"
    }
   ],
   "source": [
    "hidden_layer_1, hidden_layer_2 = 20,40\n",
    "model3 = torch.nn.Sequential(\n",
    "    torch.nn.Linear(dim_in,hidden_layer_1),\n",
    "    torch.nn.ReLU6(),\n",
    "    torch.nn.Linear(hidden_layer_1,hidden_layer_2),\n",
    "    torch.nn.ReLU6(),\n",
    "    torch.nn.Linear(hidden_layer_2,dim_out)\n",
    "    )\n",
    "\n",
    "model3_trained = train_neural_network_with_SGD(model2,epochs=2000)"
   ]
  },
  {
   "cell_type": "code",
   "execution_count": 57,
   "metadata": {},
   "outputs": [],
   "source": [
    "validation_dat = np.load('TestDataset1_predictions.npz')\n",
    "validationY=validation_dat['abundances']\n",
    "validationX=validation_dat['norm_params']\n",
    "\n",
    "validation_input = Variable(torch.from_numpy(validationX)).type(torch.FloatTensor)\n",
    "validation_output = Variable(torch.from_numpy(validationY)).type(torch.FloatTensor)"
   ]
  },
  {
   "cell_type": "code",
   "execution_count": 58,
   "metadata": {},
   "outputs": [
    {
     "data": {
      "text/plain": [
       "(9449, 6)"
      ]
     },
     "execution_count": 58,
     "metadata": {},
     "output_type": "execute_result"
    }
   ],
   "source": [
    "validationX.shape"
   ]
  },
  {
   "cell_type": "code",
   "execution_count": 67,
   "metadata": {},
   "outputs": [],
   "source": [
    "def validate_neural_network(model):\n",
    "    model.eval()\n",
    "    \n",
    "    with torch.no_grad():\n",
    "        predictedY = model(validation_input)\n",
    "        loss_fn = torch.nn.L1Loss(size_average=True)\n",
    "        loss = loss_fn(predictedY,validation_output)\n",
    "        print(\"L1 Validation value for the validation set is {0}\".format(loss))"
   ]
  },
  {
   "cell_type": "code",
   "execution_count": 85,
   "metadata": {},
   "outputs": [
    {
     "name": "stdout",
     "output_type": "stream",
     "text": [
      "L1 Validation value for the validation set is 0.01138899102807045\n",
      "L1 Validation value for the validation set is 0.01609194464981556\n",
      "L1 Validation value for the validation set is 0.01609194464981556\n"
     ]
    },
    {
     "name": "stderr",
     "output_type": "stream",
     "text": [
      "/anaconda3/lib/python3.7/site-packages/torch/nn/functional.py:52: UserWarning: size_average and reduce args will be deprecated, please use reduction='elementwise_mean' instead.\n",
      "  warnings.warn(warning.format(ret))\n"
     ]
    }
   ],
   "source": [
    "validate_neural_network(model1_trained)\n",
    "validate_neural_network(model2_trained)\n",
    "validate_neural_network(model3_trained)"
   ]
  },
  {
   "cell_type": "code",
   "execution_count": 82,
   "metadata": {},
   "outputs": [],
   "source": [
    "test_dat = np.load('TestDataset2_predictions.npz')\n",
    "testX=validation_dat['norm_params']\n",
    "testY=validation_dat['abundances']\n",
    "\n",
    "\n",
    "test_input = Variable(torch.from_numpy(testX)).type(torch.FloatTensor)\n",
    "test_output = Variable(torch.from_numpy(testY)).type(torch.FloatTensor)"
   ]
  },
  {
   "cell_type": "code",
   "execution_count": 83,
   "metadata": {},
   "outputs": [],
   "source": [
    "def test_neural_network(model):\n",
    "    model.eval()\n",
    "    \n",
    "    with torch.no_grad():\n",
    "        predictedY = model(test_input)\n",
    "        loss_fn = torch.nn.L1Loss(size_average=True)\n",
    "        loss = loss_fn(predictedY,validation_output)\n",
    "        print(\"L1 loss value for the test set is {0}\".format(loss))"
   ]
  },
  {
   "cell_type": "code",
   "execution_count": 84,
   "metadata": {},
   "outputs": [
    {
     "name": "stdout",
     "output_type": "stream",
     "text": [
      "L1 loss value for the test set is 0.01138899102807045\n",
      "L1 loss value for the test set is 0.01609194464981556\n",
      "L1 loss value for the test set is 0.32659363746643066\n"
     ]
    },
    {
     "name": "stderr",
     "output_type": "stream",
     "text": [
      "/anaconda3/lib/python3.7/site-packages/torch/nn/functional.py:52: UserWarning: size_average and reduce args will be deprecated, please use reduction='elementwise_mean' instead.\n",
      "  warnings.warn(warning.format(ret))\n"
     ]
    }
   ],
   "source": [
    "test_neural_network(model1)\n",
    "test_neural_network(model2)\n",
    "test_neural_network(model3)"
   ]
  },
  {
   "cell_type": "code",
   "execution_count": null,
   "metadata": {},
   "outputs": [],
   "source": []
  },
  {
   "cell_type": "code",
   "execution_count": null,
   "metadata": {},
   "outputs": [],
   "source": []
  },
  {
   "cell_type": "code",
   "execution_count": null,
   "metadata": {},
   "outputs": [],
   "source": []
  }
 ],
 "metadata": {
  "kernelspec": {
   "display_name": "Python 3",
   "language": "python",
   "name": "python3"
  },
  "language_info": {
   "codemirror_mode": {
    "name": "ipython",
    "version": 3
   },
   "file_extension": ".py",
   "mimetype": "text/x-python",
   "name": "python",
   "nbconvert_exporter": "python",
   "pygments_lexer": "ipython3",
   "version": "3.7.0"
  }
 },
 "nbformat": 4,
 "nbformat_minor": 2
}
