{
 "cells": [
  {
   "cell_type": "markdown",
   "metadata": {},
   "source": [
    "## Karakas 2016 net yields from MCMC\n",
    "\n",
    "Run the multi_star_optimization script to calculate the posterior parameter set with Karakas 16 yield (via MCMC), using the new model error beta function marginalization. Change yield set using a.yield_table_agb_model_index = 4"
   ]
  },
  {
   "cell_type": "code",
   "execution_count": null,
   "metadata": {},
   "outputs": [],
   "source": [
    "%pylab inline"
   ]
  },
  {
   "cell_type": "code",
   "execution_count": null,
   "metadata": {
    "collapsed": true
   },
   "outputs": [],
   "source": [
    "from Chempy.wrapper import multi_star_optimization # (there will be many gas reservoir/upper border errors but these can be ignored)\n",
    "%timeit -n 1 -r 1 multi_star_optimization()\n",
    "\n",
    "# This was done on a different PC but results are shown below"
   ]
  },
  {
   "cell_type": "markdown",
   "metadata": {},
   "source": []
  },
  {
   "cell_type": "markdown",
   "metadata": {},
   "source": [
    "This takes a time of **XXXXXX** to run. Data is in the mcmc/ folder - copy this into the karakas16 folder to save. Output is shown above."
   ]
  },
  {
   "cell_type": "code",
   "execution_count": null,
   "metadata": {
    "scrolled": true
   },
   "outputs": [],
   "source": [
    "## Now restructure the chain\n",
    "\n",
    "from Chempy.plot_mcmc import restructure_chain\n",
    "restructure_chain('karakas16/')"
   ]
  },
  {
   "cell_type": "code",
   "execution_count": null,
   "metadata": {},
   "outputs": [],
   "source": [
    "## Plot the posterior and prior values and correlation grid\n",
    "from Chempy.plot_mcmc import plot_mcmc_chain_with_prior\n",
    "plot_mcmc_chain_with_prior('karakas16/',use_prior = True, only_first_star = False,plot_true_parameters = False,plot_only_SSP_parameter = False)"
   ]
  },
  {
   "cell_type": "markdown",
   "metadata": {},
   "source": [
    "## UPDATE parameters below"
   ]
  },
  {
   "cell_type": "code",
   "execution_count": null,
   "metadata": {},
   "outputs": [],
   "source": [
    "# Create output for best-fit parameters\n",
    "from Chempy.cem_function import cem2, extract_parameters_and_priors\n",
    "from Chempy.parameter import ModelParameters\n",
    "a=ModelParameters()\n",
    "\n",
    "\n",
    "a.p0 = np.array([,,,,,]) # Parameters found by model\n",
    "\n",
    "a = extract_parameters_and_priors(a.p0, a) # To update to new model\n",
    "abundances, names = cem2(a) # predict abundances"
   ]
  },
  {
   "cell_type": "code",
   "execution_count": null,
   "metadata": {
    "collapsed": true
   },
   "outputs": [],
   "source": [
    "# Load in proto-sun abundances and errors (remove last value (solar age))\n",
    "proto_sun = np.load('Chempy/input/stars/Proto-sun.npy')\n",
    "proto_sun_abundance = []\n",
    "proto_sun_error = []\n",
    "model_abundance = []\n",
    "#names = np.asarray(names) # For compatibility\n",
    "\n",
    "# Calculate model abundance in same order as proto-sun\n",
    "for i,item in enumerate(proto_sun.dtype.names[:-1]):\n",
    "    for j,jtem in enumerate(names):\n",
    "        if jtem == item:\n",
    "            model_abundance.append(abundances[j])\n",
    "    #model_abundance.append(abundances[np.where(names==item)])\n",
    "    proto_sun_abundance.append(proto_sun[0][i])\n",
    "    proto_sun_error.append(proto_sun[1][i])\n",
    "    \n",
    "# Load abundance names ([X/Fe]) in correct order\n",
    "abundance_names = []\n",
    "for item in proto_sun.dtype.names[:-1]:\n",
    "    if item != 'Fe':\n",
    "        abundance_names.append('[%s/Fe]' %(item))\n",
    "    else:\n",
    "        abundance_names.append('[Fe/H]')"
   ]
  },
  {
   "cell_type": "code",
   "execution_count": null,
   "metadata": {},
   "outputs": [],
   "source": [
    "# Plot figure comparing model and observational abundancess\n",
    "fig = plt.figure(figsize=(30.69,8.27), dpi=100)\n",
    "plt.clf()\n",
    "text_size = 20\n",
    "plt.rc('font', family='serif',size = text_size)\n",
    "plt.rc('xtick', labelsize=text_size)\n",
    "plt.rc('ytick', labelsize=text_size)\n",
    "plt.rc('axes', labelsize=text_size, lw=1.)\n",
    "plt.rc('lines', linewidth = 1.)\n",
    "plt.rcParams['ytick.major.pad']='8'\n",
    "plt.rcParams['text.latex.preamble']=[r\"\\usepackage{libertine}\"]\n",
    "params = {'text.usetex' : True,'font.size' : 16,'font.family' : 'libertine','text.latex.unicode': True}\n",
    "ax = fig.add_subplot(111)\n",
    "plt.plot(np.arange(len(abundance_names)),model_abundance,label='Final model abundances',linestyle='-') # Plot model data\n",
    "plt.errorbar(np.arange(len(abundance_names)),proto_sun_abundance,xerr=None,yerr=proto_sun_error,linestyle = '',mew=3,marker='x',capthick =3,capsize = 20, ms = 10,elinewidth=3,label='proto-solar')\n",
    "plt.ylim((-0.5,0.5))\n",
    "plt.xticks(np.arange(len(a.element_names)),abundance_names)\n",
    "plt.ylabel(\"abundance relative to solar in dex\")\n",
    "plt.xlabel(\"Element\")\n",
    "plt.title(\"Comparing proto-solar model and predicted abundances\")\n",
    "plt.legend()\n",
    "savefig('karakas16/AbundancePlot')"
   ]
  },
  {
   "cell_type": "code",
   "execution_count": null,
   "metadata": {
    "collapsed": true
   },
   "outputs": [],
   "source": []
  },
  {
   "cell_type": "markdown",
   "metadata": {},
   "source": [
    "## Rerun without error optimization\n",
    "Set model errors to zero to test with no error marginalization, and stored in karakas16_zero_error"
   ]
  },
  {
   "cell_type": "markdown",
   "metadata": {
    "collapsed": true
   },
   "source": [
    "#### Change these settings in the parameter.py file, since multi_star_optimization resets parameters to defaults.\n",
    "\n",
    "a.error_marginalization = False\n",
    "a.zero_model_error = True"
   ]
  },
  {
   "cell_type": "code",
   "execution_count": null,
   "metadata": {},
   "outputs": [],
   "source": [
    "om Chempy.wrapper import multi_star_optimization # Run code without error optimization\n",
    "# errors in abundance['Fe'] are fine, since initial Fe mass is zero, so abundance is -inf\n",
    "%timeit -n 1 -r 1 multi_star_optimization() # Time running - use -n, -r to set only 1 iteration of code\n",
    "# (Run on a faster PC)"
   ]
  },
  {
   "cell_type": "markdown",
   "metadata": {
    "collapsed": true
   },
   "source": [
    "**Output from multi_star_optimization is shown below** - time is **XXXXXX**\n",
    "\n",
    "\n",
    "\n",
    "\n",
    "### [ INSERT CODE]\n",
    "  \n",
    "   "
   ]
  },
  {
   "cell_type": "code",
   "execution_count": null,
   "metadata": {
    "scrolled": true
   },
   "outputs": [],
   "source": [
    "## Now restructure the chain\n",
    "\n",
    "from Chempy.plot_mcmc import restructure_chain\n",
    "restructure_chain('karakas16_zero_error/')"
   ]
  },
  {
   "cell_type": "code",
   "execution_count": null,
   "metadata": {},
   "outputs": [],
   "source": [
    "## Plot the posterior and prior values and correlation grid\n",
    "from Chempy.plot_mcmc import plot_mcmc_chain_with_prior\n",
    "plot_mcmc_chain_with_prior('karakas16_zero_error/',use_prior = True, only_first_star = False,plot_true_parameters = False,plot_only_SSP_parameter = False)"
   ]
  },
  {
   "cell_type": "code",
   "execution_count": null,
   "metadata": {},
   "outputs": [],
   "source": [
    "# Create output for best-fit parameters\n",
    "from Chempy.cem_function import cem2, extract_parameters_and_priors\n",
    "from Chempy.parameter import ModelParameters\n",
    "a=ModelParameters()\n",
    "\n",
    "a.p0 = np.array([,,,,,]) # Parameters found by model\n",
    "\n",
    "a = extract_parameters_and_priors(a.p0, a) # To update to new model\n",
    "abundances, names = cem2(a) # predict abundances"
   ]
  },
  {
   "cell_type": "markdown",
   "metadata": {},
   "source": [
    "### ADD params above"
   ]
  },
  {
   "cell_type": "code",
   "execution_count": null,
   "metadata": {
    "collapsed": true
   },
   "outputs": [],
   "source": [
    "# Load in proto-sun abundances and errors (remove last value (solar age))\n",
    "proto_sun = np.load('Chempy/input/stars/Proto-sun.npy')\n",
    "proto_sun_abundance = []\n",
    "proto_sun_error = []\n",
    "model_abundance = []\n",
    "\n",
    "# Calculate model abundance in same order as proto-sun\n",
    "for i,item in enumerate(proto_sun.dtype.names[:-1]):\n",
    "    for j,jtem in enumerate(names):\n",
    "        if jtem == item:\n",
    "            model_abundance.append(abundances[j])\n",
    "    #model_abundance.append(abundances[np.where(names==item)])\n",
    "    proto_sun_abundance.append(proto_sun[0][i])\n",
    "    proto_sun_error.append(proto_sun[1][i])\n",
    "    \n",
    "# Load abundance names ([X/Fe]) in correct order\n",
    "abundance_names = []\n",
    "for item in proto_sun.dtype.names[:-1]:\n",
    "    if item != 'Fe':\n",
    "        abundance_names.append('[%s/Fe]' %(item))\n",
    "    else:\n",
    "        abundance_names.append('[Fe/H]')"
   ]
  },
  {
   "cell_type": "code",
   "execution_count": null,
   "metadata": {},
   "outputs": [],
   "source": [
    "# Plot figure\n",
    "fig = plt.figure(figsize=(30.69,8.27), dpi=100)\n",
    "plt.clf()\n",
    "text_size = 20\n",
    "plt.rc('font', family='serif',size = text_size)\n",
    "plt.rc('xtick', labelsize=text_size)\n",
    "plt.rc('ytick', labelsize=text_size)\n",
    "plt.rc('axes', labelsize=text_size, lw=1.)\n",
    "plt.rc('lines', linewidth = 1.)\n",
    "plt.rcParams['ytick.major.pad']='8'\n",
    "plt.rcParams['text.latex.preamble']=[r\"\\usepackage{libertine}\"]\n",
    "params = {'text.usetex' : True,'font.size' : 16,'font.family' : 'libertine','text.latex.unicode': True}\n",
    "ax = fig.add_subplot(111)\n",
    "plt.plot(np.arange(len(abundance_names)),model_abundance,label='Final model abundances',linestyle='-') # Plot model data\n",
    "plt.errorbar(np.arange(len(abundance_names)),proto_sun_abundance,xerr=None,yerr=proto_sun_error,linestyle = '',mew=3,marker='x',capthick =3,capsize = 20, ms = 10,elinewidth=3,label='proto-solar')\n",
    "plt.ylim((-0.5,0.5))\n",
    "plt.xticks(np.arange(len(a.element_names)),abundance_names)\n",
    "plt.ylabel(\"abundance relative to solar in dex\")\n",
    "plt.xlabel(\"Element\")\n",
    "plt.title(\"Comparing proto-solar model and predicted abundances\")\n",
    "plt.legend()\n",
    "savefig('karakas16_zero_error/AbundancePlot')"
   ]
  },
  {
   "cell_type": "code",
   "execution_count": null,
   "metadata": {
    "collapsed": true
   },
   "outputs": [],
   "source": []
  }
 ],
 "metadata": {
  "kernelspec": {
   "display_name": "Python 3",
   "language": "python",
   "name": "python3"
  },
  "language_info": {
   "codemirror_mode": {
    "name": "ipython",
    "version": 3
   },
   "file_extension": ".py",
   "mimetype": "text/x-python",
   "name": "python",
   "nbconvert_exporter": "python",
   "pygments_lexer": "ipython3",
   "version": "3.6.1"
  }
 },
 "nbformat": 4,
 "nbformat_minor": 2
}
